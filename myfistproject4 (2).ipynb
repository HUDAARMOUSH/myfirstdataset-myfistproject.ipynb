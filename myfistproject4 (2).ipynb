{
  "metadata": {
    "kernelspec": {
      "name": "python",
      "display_name": "Python (Pyodide)",
      "language": "python"
    },
    "language_info": {
      "codemirror_mode": {
        "name": "python",
        "version": 3
      },
      "file_extension": ".py",
      "mimetype": "text/x-python",
      "name": "python",
      "nbconvert_exporter": "python",
      "pygments_lexer": "ipython3",
      "version": "3.8"
    }
  },
  "nbformat_minor": 4,
  "nbformat": 4,
  "cells": [
    {
      "cell_type": "markdown",
      "source": "<a id='intro'></a>\n## Introduction\n\n### Dataset Description \n\n> In this project we have two data sets about Gun usage in USA, the first data(Gun data == gun) is about every state in USA and number of permit to use guns, and the numbers and kinds of guns (guns, long guns) and the statues of it like (returned, rented, private, redumption and prepawn) that is used in that state, since Nov. 1998 to Septemper 2017. The other data set, we have diffrent facts - there are 65 differnt census measurement as value of Fact- not so related to the gun owning. however it provides us some facts are related and we will use them to anylysis of the first data for answering the questions too.\n\n\n### Question(s) for Analysis\n> 1.What census variable or fact value is most associated with high gun per capita per state? Ceusus data includes state as variable, . \n\n> 2.Which states have had the highest growth and the lowest growth in gun registrations from Apr 2010 to Jul 2016?\n\n> 3.What is the overall trend of gun purchases by year or by year and month?",
      "metadata": {}
    },
    {
      "cell_type": "markdown",
      "source": "census = pd.read_csv('US_census.csv')\ngun = pd.read_csv('gun-data.csv') \nstates=['Alabama', 'Alaska', 'Arizona', 'Arkansas', 'California',\n       'Colorado', 'Connecticut', 'Delaware', 'Florida', 'Georgia',  \n        'Hawaii', 'Idaho', 'Illinois','Indiana', 'Iowa', 'Kansas', \n        'Kentucky', 'Louisiana', 'Maine','Maryland', 'Massachusetts', \n        'Michigan','Minnesota', 'Mississippi', 'Missouri', 'Montana', 'Nebraska',\n       'Nevada', 'New Hampshire', 'New Jersey', 'New Mexico', 'New York',\n       'North Carolina', 'North Dakota', 'Ohio', 'Oklahoma', 'Oregon','Pennsylvania', \n        'Rhode Island', 'South Carolina','South Dakota', 'Tennessee', 'Texas', 'Utah', \n        'Vermont','Virginia', 'Washington', 'West Virginia','Wisconsin', 'Wyoming']\n\ngun_state = gun.groupby('state')\ntotal_guns_per_state = gun_state['totals'].sum()",
      "metadata": {}
    },
    {
      "cell_type": "markdown",
      "source": "---",
      "metadata": {}
    },
    {
      "cell_type": "code",
      "source": "#   plan to use.\nimport pandas as pd\nimport numpy as np",
      "metadata": {
        "trusted": true
      },
      "outputs": [],
      "execution_count": 1
    },
    {
      "cell_type": "markdown",
      "source": "<a id='wrangling'></a>\n## Data Wrangling\n\n> Upload the data, read it, and see the information of every data set. ",
      "metadata": {}
    },
    {
      "cell_type": "code",
      "source": "census = pd.read_csv('US_census.csv')\ngun = pd.read_csv('gun-data.csv') ",
      "metadata": {
        "trusted": true
      },
      "outputs": [],
      "execution_count": 2
    },
    {
      "cell_type": "code",
      "source": "census.head(2)",
      "metadata": {
        "trusted": true
      },
      "outputs": [
        {
          "execution_count": 3,
          "output_type": "execute_result",
          "data": {
            "text/plain": "                                                Fact Fact Note    Alabama  \\\n0       Population estimates, July 1, 2016,  (V2016)       NaN  4,863,300   \n1  Population estimates base, April 1, 2010,  (V2...       NaN  4,780,131   \n\n    Alaska    Arizona   Arkansas  California   Colorado Connecticut Delaware  \\\n0  741,894  6,931,071  2,988,248  39,250,017  5,540,545   3,576,452  952,065   \n1  710,249  6,392,301  2,916,025  37,254,522  5,029,324   3,574,114  897,936   \n\n   ... South Dakota Tennessee       Texas       Utah  Vermont   Virginia  \\\n0  ...       865454   6651194  27,862,596  3,051,217  624,594  8,411,808   \n1  ...       814195   6346298  25,146,100  2,763,888  625,741  8,001,041   \n\n  Washington West Virginia  Wisconsin  Wyoming  \n0  7,288,000     1,831,102  5,778,708  585,501  \n1  6,724,545     1,853,011  5,687,289  563,767  \n\n[2 rows x 52 columns]",
            "text/html": "<div>\n<style scoped>\n    .dataframe tbody tr th:only-of-type {\n        vertical-align: middle;\n    }\n\n    .dataframe tbody tr th {\n        vertical-align: top;\n    }\n\n    .dataframe thead th {\n        text-align: right;\n    }\n</style>\n<table border=\"1\" class=\"dataframe\">\n  <thead>\n    <tr style=\"text-align: right;\">\n      <th></th>\n      <th>Fact</th>\n      <th>Fact Note</th>\n      <th>Alabama</th>\n      <th>Alaska</th>\n      <th>Arizona</th>\n      <th>Arkansas</th>\n      <th>California</th>\n      <th>Colorado</th>\n      <th>Connecticut</th>\n      <th>Delaware</th>\n      <th>...</th>\n      <th>South Dakota</th>\n      <th>Tennessee</th>\n      <th>Texas</th>\n      <th>Utah</th>\n      <th>Vermont</th>\n      <th>Virginia</th>\n      <th>Washington</th>\n      <th>West Virginia</th>\n      <th>Wisconsin</th>\n      <th>Wyoming</th>\n    </tr>\n  </thead>\n  <tbody>\n    <tr>\n      <th>0</th>\n      <td>Population estimates, July 1, 2016,  (V2016)</td>\n      <td>NaN</td>\n      <td>4,863,300</td>\n      <td>741,894</td>\n      <td>6,931,071</td>\n      <td>2,988,248</td>\n      <td>39,250,017</td>\n      <td>5,540,545</td>\n      <td>3,576,452</td>\n      <td>952,065</td>\n      <td>...</td>\n      <td>865454</td>\n      <td>6651194</td>\n      <td>27,862,596</td>\n      <td>3,051,217</td>\n      <td>624,594</td>\n      <td>8,411,808</td>\n      <td>7,288,000</td>\n      <td>1,831,102</td>\n      <td>5,778,708</td>\n      <td>585,501</td>\n    </tr>\n    <tr>\n      <th>1</th>\n      <td>Population estimates base, April 1, 2010,  (V2...</td>\n      <td>NaN</td>\n      <td>4,780,131</td>\n      <td>710,249</td>\n      <td>6,392,301</td>\n      <td>2,916,025</td>\n      <td>37,254,522</td>\n      <td>5,029,324</td>\n      <td>3,574,114</td>\n      <td>897,936</td>\n      <td>...</td>\n      <td>814195</td>\n      <td>6346298</td>\n      <td>25,146,100</td>\n      <td>2,763,888</td>\n      <td>625,741</td>\n      <td>8,001,041</td>\n      <td>6,724,545</td>\n      <td>1,853,011</td>\n      <td>5,687,289</td>\n      <td>563,767</td>\n    </tr>\n  </tbody>\n</table>\n<p>2 rows × 52 columns</p>\n</div>"
          },
          "metadata": {}
        }
      ],
      "execution_count": 3
    },
    {
      "cell_type": "code",
      "source": "gun.head(2)",
      "metadata": {
        "trusted": true
      },
      "outputs": [
        {
          "execution_count": 4,
          "output_type": "execute_result",
          "data": {
            "text/plain": "     month    state   permit  permit_recheck  handgun  long_gun  other  \\\n0  2017-09  Alabama  16717.0             0.0   5734.0    6320.0  221.0   \n1  2017-09   Alaska    209.0             2.0   2320.0    2930.0  219.0   \n\n   multiple  admin  prepawn_handgun  ...  returned_other  rentals_handgun  \\\n0       317    0.0             15.0  ...             0.0              0.0   \n1       160    0.0              5.0  ...             0.0              0.0   \n\n   rentals_long_gun  private_sale_handgun  private_sale_long_gun  \\\n0               0.0                   9.0                   16.0   \n1               0.0                  17.0                   24.0   \n\n   private_sale_other  return_to_seller_handgun  return_to_seller_long_gun  \\\n0                 3.0                       0.0                        0.0   \n1                 1.0                       0.0                        0.0   \n\n   return_to_seller_other  totals  \n0                     3.0   32019  \n1                     0.0    6303  \n\n[2 rows x 27 columns]",
            "text/html": "<div>\n<style scoped>\n    .dataframe tbody tr th:only-of-type {\n        vertical-align: middle;\n    }\n\n    .dataframe tbody tr th {\n        vertical-align: top;\n    }\n\n    .dataframe thead th {\n        text-align: right;\n    }\n</style>\n<table border=\"1\" class=\"dataframe\">\n  <thead>\n    <tr style=\"text-align: right;\">\n      <th></th>\n      <th>month</th>\n      <th>state</th>\n      <th>permit</th>\n      <th>permit_recheck</th>\n      <th>handgun</th>\n      <th>long_gun</th>\n      <th>other</th>\n      <th>multiple</th>\n      <th>admin</th>\n      <th>prepawn_handgun</th>\n      <th>...</th>\n      <th>returned_other</th>\n      <th>rentals_handgun</th>\n      <th>rentals_long_gun</th>\n      <th>private_sale_handgun</th>\n      <th>private_sale_long_gun</th>\n      <th>private_sale_other</th>\n      <th>return_to_seller_handgun</th>\n      <th>return_to_seller_long_gun</th>\n      <th>return_to_seller_other</th>\n      <th>totals</th>\n    </tr>\n  </thead>\n  <tbody>\n    <tr>\n      <th>0</th>\n      <td>2017-09</td>\n      <td>Alabama</td>\n      <td>16717.0</td>\n      <td>0.0</td>\n      <td>5734.0</td>\n      <td>6320.0</td>\n      <td>221.0</td>\n      <td>317</td>\n      <td>0.0</td>\n      <td>15.0</td>\n      <td>...</td>\n      <td>0.0</td>\n      <td>0.0</td>\n      <td>0.0</td>\n      <td>9.0</td>\n      <td>16.0</td>\n      <td>3.0</td>\n      <td>0.0</td>\n      <td>0.0</td>\n      <td>3.0</td>\n      <td>32019</td>\n    </tr>\n    <tr>\n      <th>1</th>\n      <td>2017-09</td>\n      <td>Alaska</td>\n      <td>209.0</td>\n      <td>2.0</td>\n      <td>2320.0</td>\n      <td>2930.0</td>\n      <td>219.0</td>\n      <td>160</td>\n      <td>0.0</td>\n      <td>5.0</td>\n      <td>...</td>\n      <td>0.0</td>\n      <td>0.0</td>\n      <td>0.0</td>\n      <td>17.0</td>\n      <td>24.0</td>\n      <td>1.0</td>\n      <td>0.0</td>\n      <td>0.0</td>\n      <td>0.0</td>\n      <td>6303</td>\n    </tr>\n  </tbody>\n</table>\n<p>2 rows × 27 columns</p>\n</div>"
          },
          "metadata": {}
        }
      ],
      "execution_count": 4
    },
    {
      "cell_type": "markdown",
      "source": "***A.1 ) Check the types of the data***",
      "metadata": {}
    },
    {
      "cell_type": "code",
      "source": "gun.info()",
      "metadata": {
        "trusted": true
      },
      "outputs": [
        {
          "name": "stdout",
          "text": "<class 'pandas.core.frame.DataFrame'>\nRangeIndex: 12485 entries, 0 to 12484\nData columns (total 27 columns):\n #   Column                     Non-Null Count  Dtype  \n---  ------                     --------------  -----  \n 0   month                      12485 non-null  object \n 1   state                      12485 non-null  object \n 2   permit                     12461 non-null  float64\n 3   permit_recheck             1100 non-null   float64\n 4   handgun                    12465 non-null  float64\n 5   long_gun                   12466 non-null  float64\n 6   other                      5500 non-null   float64\n 7   multiple                   12485 non-null  int64  \n 8   admin                      12462 non-null  float64\n 9   prepawn_handgun            10542 non-null  float64\n 10  prepawn_long_gun           10540 non-null  float64\n 11  prepawn_other              5115 non-null   float64\n 12  redemption_handgun         10545 non-null  float64\n 13  redemption_long_gun        10544 non-null  float64\n 14  redemption_other           5115 non-null   float64\n 15  returned_handgun           2200 non-null   float64\n 16  returned_long_gun          2145 non-null   float64\n 17  returned_other             1815 non-null   float64\n 18  rentals_handgun            990 non-null    float64\n 19  rentals_long_gun           825 non-null    float64\n 20  private_sale_handgun       2750 non-null   float64\n 21  private_sale_long_gun      2750 non-null   float64\n 22  private_sale_other         2750 non-null   float64\n 23  return_to_seller_handgun   2475 non-null   float64\n 24  return_to_seller_long_gun  2750 non-null   float64\n 25  return_to_seller_other     2255 non-null   float64\n 26  totals                     12485 non-null  int64  \ndtypes: float64(23), int64(2), object(2)\nmemory usage: 2.5+ MB\n",
          "output_type": "stream"
        }
      ],
      "execution_count": 5
    },
    {
      "cell_type": "markdown",
      "source": "**Facts about the data**\n\n* We can see that the columns of the gun data are 27, and 12485 rows.*\n\n* there are a lot of missing values like in the permit recheck, \"others\", \"pre pawn others\", \"redemption others\", \"returned hund gun\"....\"\n  ** I think we can get red off the missing values  or fix it. and they are 2 types the columns that have a substantial number of missing values and the Columns with Significant Missing Values. Columns like permit_recheck, returned_*, and rentals_* have the highest number of missing values, which suggests these events are rare or poorly recorded in the dataset.\n  \n  *** Types of data *** \n* month and state columns are of type object, but it actually contains string object\n* multiple and totals columns are of type int64.\n* The remaining 23 columns are of type float64.\n  \n  *** Memmory ***\n* The DataFrame uses approximately 2.5 MB of memory.\n* And we have to reduce the memory usage* ",
      "metadata": {}
    },
    {
      "cell_type": "markdown",
      "source": "# Cleaning Data # \n---------\n",
      "metadata": {}
    },
    {
      "cell_type": "markdown",
      "source": "__Fix memory usage.__",
      "metadata": {}
    },
    {
      "cell_type": "code",
      "source": "gun[gun.select_dtypes('int64').columns] = gun.select_dtypes('int64').astype('int16')",
      "metadata": {
        "trusted": true
      },
      "outputs": [],
      "execution_count": 6
    },
    {
      "cell_type": "markdown",
      "source": "*make sure of the changes*",
      "metadata": {}
    },
    {
      "cell_type": "code",
      "source": "gun.info()",
      "metadata": {
        "trusted": true
      },
      "outputs": [
        {
          "name": "stdout",
          "text": "<class 'pandas.core.frame.DataFrame'>\nRangeIndex: 12485 entries, 0 to 12484\nData columns (total 27 columns):\n #   Column                     Non-Null Count  Dtype  \n---  ------                     --------------  -----  \n 0   month                      12485 non-null  object \n 1   state                      12485 non-null  object \n 2   permit                     12461 non-null  float64\n 3   permit_recheck             1100 non-null   float64\n 4   handgun                    12465 non-null  float64\n 5   long_gun                   12466 non-null  float64\n 6   other                      5500 non-null   float64\n 7   multiple                   12485 non-null  int16  \n 8   admin                      12462 non-null  float64\n 9   prepawn_handgun            10542 non-null  float64\n 10  prepawn_long_gun           10540 non-null  float64\n 11  prepawn_other              5115 non-null   float64\n 12  redemption_handgun         10545 non-null  float64\n 13  redemption_long_gun        10544 non-null  float64\n 14  redemption_other           5115 non-null   float64\n 15  returned_handgun           2200 non-null   float64\n 16  returned_long_gun          2145 non-null   float64\n 17  returned_other             1815 non-null   float64\n 18  rentals_handgun            990 non-null    float64\n 19  rentals_long_gun           825 non-null    float64\n 20  private_sale_handgun       2750 non-null   float64\n 21  private_sale_long_gun      2750 non-null   float64\n 22  private_sale_other         2750 non-null   float64\n 23  return_to_seller_handgun   2475 non-null   float64\n 24  return_to_seller_long_gun  2750 non-null   float64\n 25  return_to_seller_other     2255 non-null   float64\n 26  totals                     12485 non-null  int16  \ndtypes: float64(23), int16(2), object(2)\nmemory usage: 2.3+ MB\n",
          "output_type": "stream"
        }
      ],
      "execution_count": 7
    },
    {
      "cell_type": "markdown",
      "source": "Here, We will change the data type fron float to int ",
      "metadata": {}
    },
    {
      "cell_type": "code",
      "source": "gun['permit'] = gun['permit'].astype(pd.Int32Dtype())\ngun['permit_recheck'] = gun['permit_recheck'].astype(pd.Int32Dtype())\ngun['handgun'] = gun['handgun'].astype(pd.Int32Dtype())\ngun['long_gun'] = gun['long_gun'].astype(pd.Int32Dtype())\ngun['other'] = gun['other'].astype(pd.Int32Dtype())\ngun['multiple'] = gun['multiple'].astype(pd.Int32Dtype())\ngun['admin'] = gun['admin'].astype(pd.Int32Dtype())\ngun['prepawn_handgun'] = gun['prepawn_handgun'].astype(pd.Int32Dtype())\ngun['prepawn_long_gun'] =gun['prepawn_long_gun'].astype(pd.Int32Dtype())\ngun['prepawn_other'] =gun['prepawn_other'].astype(pd.Int32Dtype())\ngun['redemption_handgun'] =gun['redemption_handgun'].astype(pd.Int32Dtype())\ngun['redemption_long_gun'] = gun ['redemption_long_gun'].astype(pd.Int32Dtype())\ngun['redemption_other'] = gun ['redemption_other'].astype(pd.Int32Dtype())\ngun['returned_handgun'] = gun ['returned_handgun'].astype(pd.Int32Dtype())\ngun['returned_long_gun'] = gun ['returned_long_gun'].astype(pd.Int32Dtype())\ngun['returned_other'] = gun ['returned_other'].astype(pd.Int32Dtype())\ngun['rentals_handgun'] = gun ['rentals_handgun'].astype(pd.Int32Dtype())\ngun['rentals_long_gun'] = gun ['rentals_long_gun'].astype(pd.Int32Dtype())\ngun['returned_other'] = gun ['returned_other'].astype(pd.Int32Dtype())\ngun['rentals_handgun'] = gun ['rentals_handgun'].astype(pd.Int32Dtype())\ngun['rentals_long_gun'] = gun ['rentals_long_gun'].astype(pd.Int32Dtype())\ngun['private_sale_handgun'] = gun ['private_sale_handgun'].astype(pd.Int32Dtype())\ngun['private_sale_long_gun'] = gun ['private_sale_long_gun'].astype(pd.Int32Dtype())\ngun['private_sale_other'] = gun ['private_sale_other'].astype(pd.Int32Dtype())\ngun['return_to_seller_handgun'] = gun ['return_to_seller_handgun'].astype(pd.Int32Dtype())\ngun['return_to_seller_long_gun'] = gun ['return_to_seller_long_gun'].astype(pd.Int32Dtype())\ngun['return_to_seller_other'] = gun ['return_to_seller_other'].astype(pd.Int32Dtype())",
      "metadata": {
        "trusted": true
      },
      "outputs": [],
      "execution_count": 8
    },
    {
      "cell_type": "markdown",
      "source": "Here, We will Change month and state to string object ",
      "metadata": {}
    },
    {
      "cell_type": "code",
      "source": "gun['month'] = gun['month'].astype('string')\ngun['state'] = gun['state'].astype('string')",
      "metadata": {
        "trusted": true
      },
      "outputs": [],
      "execution_count": 9
    },
    {
      "cell_type": "markdown",
      "source": "Checking ",
      "metadata": {}
    },
    {
      "cell_type": "code",
      "source": "gun.info()",
      "metadata": {
        "trusted": true
      },
      "outputs": [
        {
          "name": "stdout",
          "text": "<class 'pandas.core.frame.DataFrame'>\nRangeIndex: 12485 entries, 0 to 12484\nData columns (total 27 columns):\n #   Column                     Non-Null Count  Dtype \n---  ------                     --------------  ----- \n 0   month                      12485 non-null  string\n 1   state                      12485 non-null  string\n 2   permit                     12461 non-null  Int32 \n 3   permit_recheck             1100 non-null   Int32 \n 4   handgun                    12465 non-null  Int32 \n 5   long_gun                   12466 non-null  Int32 \n 6   other                      5500 non-null   Int32 \n 7   multiple                   12485 non-null  Int32 \n 8   admin                      12462 non-null  Int32 \n 9   prepawn_handgun            10542 non-null  Int32 \n 10  prepawn_long_gun           10540 non-null  Int32 \n 11  prepawn_other              5115 non-null   Int32 \n 12  redemption_handgun         10545 non-null  Int32 \n 13  redemption_long_gun        10544 non-null  Int32 \n 14  redemption_other           5115 non-null   Int32 \n 15  returned_handgun           2200 non-null   Int32 \n 16  returned_long_gun          2145 non-null   Int32 \n 17  returned_other             1815 non-null   Int32 \n 18  rentals_handgun            990 non-null    Int32 \n 19  rentals_long_gun           825 non-null    Int32 \n 20  private_sale_handgun       2750 non-null   Int32 \n 21  private_sale_long_gun      2750 non-null   Int32 \n 22  private_sale_other         2750 non-null   Int32 \n 23  return_to_seller_handgun   2475 non-null   Int32 \n 24  return_to_seller_long_gun  2750 non-null   Int32 \n 25  return_to_seller_other     2255 non-null   Int32 \n 26  totals                     12485 non-null  int16 \ndtypes: Int32(24), int16(1), string(2)\nmemory usage: 1.5 MB\n",
          "output_type": "stream"
        }
      ],
      "execution_count": 10
    },
    {
      "cell_type": "markdown",
      "source": "\n\n***B.1 ) Check if there is duplicates***",
      "metadata": {},
      "attachments": {}
    },
    {
      "cell_type": "code",
      "source": "gun.duplicated()",
      "metadata": {
        "trusted": true
      },
      "outputs": [
        {
          "execution_count": 11,
          "output_type": "execute_result",
          "data": {
            "text/plain": "0        False\n1        False\n2        False\n3        False\n4        False\n         ...  \n12480    False\n12481    False\n12482    False\n12483    False\n12484    False\nLength: 12485, dtype: bool"
          },
          "metadata": {}
        }
      ],
      "execution_count": 11
    },
    {
      "cell_type": "markdown",
      "source": "*Or, we can use this line to check effectivly*",
      "metadata": {}
    },
    {
      "cell_type": "code",
      "source": "sum(gun.duplicated())",
      "metadata": {
        "trusted": true
      },
      "outputs": [
        {
          "execution_count": 12,
          "output_type": "execute_result",
          "data": {
            "text/plain": "0"
          },
          "metadata": {}
        }
      ],
      "execution_count": 12
    },
    {
      "cell_type": "markdown",
      "source": "**Facts, There's no duplicates**\n\n*Now, lets delete the nan in the data. And change memory usage and data type*",
      "metadata": {}
    },
    {
      "cell_type": "code",
      "source": "gun.isnull().sum()\n",
      "metadata": {
        "trusted": true
      },
      "outputs": [
        {
          "execution_count": 13,
          "output_type": "execute_result",
          "data": {
            "text/plain": "month                            0\nstate                            0\npermit                          24\npermit_recheck               11385\nhandgun                         20\nlong_gun                        19\nother                         6985\nmultiple                         0\nadmin                           23\nprepawn_handgun               1943\nprepawn_long_gun              1945\nprepawn_other                 7370\nredemption_handgun            1940\nredemption_long_gun           1941\nredemption_other              7370\nreturned_handgun             10285\nreturned_long_gun            10340\nreturned_other               10670\nrentals_handgun              11495\nrentals_long_gun             11660\nprivate_sale_handgun          9735\nprivate_sale_long_gun         9735\nprivate_sale_other            9735\nreturn_to_seller_handgun     10010\nreturn_to_seller_long_gun     9735\nreturn_to_seller_other       10230\ntotals                           0\ndtype: int64"
          },
          "metadata": {}
        }
      ],
      "execution_count": 13
    },
    {
      "cell_type": "markdown",
      "source": "We have option to remove the 2 types of missing values,  later after the explore ",
      "metadata": {}
    },
    {
      "cell_type": "code",
      "source": "gun.head(4)",
      "metadata": {
        "trusted": true
      },
      "outputs": [
        {
          "execution_count": 14,
          "output_type": "execute_result",
          "data": {
            "text/plain": "     month     state  permit  permit_recheck  handgun  long_gun  other  \\\n0  2017-09   Alabama   16717               0     5734      6320    221   \n1  2017-09    Alaska     209               2     2320      2930    219   \n2  2017-09   Arizona    5069             382    11063      7946    920   \n3  2017-09  Arkansas    2935             632     4347      6063    165   \n\n   multiple  admin  prepawn_handgun  ...  returned_other  rentals_handgun  \\\n0       317      0               15  ...               0                0   \n1       160      0                5  ...               0                0   \n2       631      0               13  ...               0                0   \n3       366     51               12  ...               0                0   \n\n   rentals_long_gun  private_sale_handgun  private_sale_long_gun  \\\n0                 0                     9                     16   \n1                 0                    17                     24   \n2                 0                    38                     12   \n3                 0                    13                     23   \n\n   private_sale_other  return_to_seller_handgun  return_to_seller_long_gun  \\\n0                   3                         0                          0   \n1                   1                         0                          0   \n2                   2                         0                          0   \n3                   0                         0                          2   \n\n   return_to_seller_other  totals  \n0                       3   32019  \n1                       0    6303  \n2                       0   28394  \n3                       1   17747  \n\n[4 rows x 27 columns]",
            "text/html": "<div>\n<style scoped>\n    .dataframe tbody tr th:only-of-type {\n        vertical-align: middle;\n    }\n\n    .dataframe tbody tr th {\n        vertical-align: top;\n    }\n\n    .dataframe thead th {\n        text-align: right;\n    }\n</style>\n<table border=\"1\" class=\"dataframe\">\n  <thead>\n    <tr style=\"text-align: right;\">\n      <th></th>\n      <th>month</th>\n      <th>state</th>\n      <th>permit</th>\n      <th>permit_recheck</th>\n      <th>handgun</th>\n      <th>long_gun</th>\n      <th>other</th>\n      <th>multiple</th>\n      <th>admin</th>\n      <th>prepawn_handgun</th>\n      <th>...</th>\n      <th>returned_other</th>\n      <th>rentals_handgun</th>\n      <th>rentals_long_gun</th>\n      <th>private_sale_handgun</th>\n      <th>private_sale_long_gun</th>\n      <th>private_sale_other</th>\n      <th>return_to_seller_handgun</th>\n      <th>return_to_seller_long_gun</th>\n      <th>return_to_seller_other</th>\n      <th>totals</th>\n    </tr>\n  </thead>\n  <tbody>\n    <tr>\n      <th>0</th>\n      <td>2017-09</td>\n      <td>Alabama</td>\n      <td>16717</td>\n      <td>0</td>\n      <td>5734</td>\n      <td>6320</td>\n      <td>221</td>\n      <td>317</td>\n      <td>0</td>\n      <td>15</td>\n      <td>...</td>\n      <td>0</td>\n      <td>0</td>\n      <td>0</td>\n      <td>9</td>\n      <td>16</td>\n      <td>3</td>\n      <td>0</td>\n      <td>0</td>\n      <td>3</td>\n      <td>32019</td>\n    </tr>\n    <tr>\n      <th>1</th>\n      <td>2017-09</td>\n      <td>Alaska</td>\n      <td>209</td>\n      <td>2</td>\n      <td>2320</td>\n      <td>2930</td>\n      <td>219</td>\n      <td>160</td>\n      <td>0</td>\n      <td>5</td>\n      <td>...</td>\n      <td>0</td>\n      <td>0</td>\n      <td>0</td>\n      <td>17</td>\n      <td>24</td>\n      <td>1</td>\n      <td>0</td>\n      <td>0</td>\n      <td>0</td>\n      <td>6303</td>\n    </tr>\n    <tr>\n      <th>2</th>\n      <td>2017-09</td>\n      <td>Arizona</td>\n      <td>5069</td>\n      <td>382</td>\n      <td>11063</td>\n      <td>7946</td>\n      <td>920</td>\n      <td>631</td>\n      <td>0</td>\n      <td>13</td>\n      <td>...</td>\n      <td>0</td>\n      <td>0</td>\n      <td>0</td>\n      <td>38</td>\n      <td>12</td>\n      <td>2</td>\n      <td>0</td>\n      <td>0</td>\n      <td>0</td>\n      <td>28394</td>\n    </tr>\n    <tr>\n      <th>3</th>\n      <td>2017-09</td>\n      <td>Arkansas</td>\n      <td>2935</td>\n      <td>632</td>\n      <td>4347</td>\n      <td>6063</td>\n      <td>165</td>\n      <td>366</td>\n      <td>51</td>\n      <td>12</td>\n      <td>...</td>\n      <td>0</td>\n      <td>0</td>\n      <td>0</td>\n      <td>13</td>\n      <td>23</td>\n      <td>0</td>\n      <td>0</td>\n      <td>2</td>\n      <td>1</td>\n      <td>17747</td>\n    </tr>\n  </tbody>\n</table>\n<p>4 rows × 27 columns</p>\n</div>"
          },
          "metadata": {}
        }
      ],
      "execution_count": 14
    },
    {
      "cell_type": "markdown",
      "source": "**Extract years and monthes to deal with the data accuretlly** we used labada because it form like YYYY-MM",
      "metadata": {}
    },
    {
      "cell_type": "code",
      "source": "gun['year']=gun['month'].apply(lambda x: x.split(\"-\")[0]).astype(int)\n",
      "metadata": {
        "trusted": true
      },
      "outputs": [],
      "execution_count": 15
    },
    {
      "cell_type": "code",
      "source": "gun['months'] = gun['month'].apply(lambda x: x.split(\"-\")[1]).astype(int)\n",
      "metadata": {
        "trusted": true
      },
      "outputs": [],
      "execution_count": 16
    },
    {
      "cell_type": "code",
      "source": "gun.head(1)",
      "metadata": {
        "trusted": true
      },
      "outputs": [
        {
          "execution_count": 17,
          "output_type": "execute_result",
          "data": {
            "text/plain": "     month    state  permit  permit_recheck  handgun  long_gun  other  \\\n0  2017-09  Alabama   16717               0     5734      6320    221   \n\n   multiple  admin  prepawn_handgun  ...  rentals_long_gun  \\\n0       317      0               15  ...                 0   \n\n   private_sale_handgun  private_sale_long_gun  private_sale_other  \\\n0                     9                     16                   3   \n\n   return_to_seller_handgun  return_to_seller_long_gun  \\\n0                         0                          0   \n\n   return_to_seller_other  totals  year  months  \n0                       3   32019  2017       9  \n\n[1 rows x 29 columns]",
            "text/html": "<div>\n<style scoped>\n    .dataframe tbody tr th:only-of-type {\n        vertical-align: middle;\n    }\n\n    .dataframe tbody tr th {\n        vertical-align: top;\n    }\n\n    .dataframe thead th {\n        text-align: right;\n    }\n</style>\n<table border=\"1\" class=\"dataframe\">\n  <thead>\n    <tr style=\"text-align: right;\">\n      <th></th>\n      <th>month</th>\n      <th>state</th>\n      <th>permit</th>\n      <th>permit_recheck</th>\n      <th>handgun</th>\n      <th>long_gun</th>\n      <th>other</th>\n      <th>multiple</th>\n      <th>admin</th>\n      <th>prepawn_handgun</th>\n      <th>...</th>\n      <th>rentals_long_gun</th>\n      <th>private_sale_handgun</th>\n      <th>private_sale_long_gun</th>\n      <th>private_sale_other</th>\n      <th>return_to_seller_handgun</th>\n      <th>return_to_seller_long_gun</th>\n      <th>return_to_seller_other</th>\n      <th>totals</th>\n      <th>year</th>\n      <th>months</th>\n    </tr>\n  </thead>\n  <tbody>\n    <tr>\n      <th>0</th>\n      <td>2017-09</td>\n      <td>Alabama</td>\n      <td>16717</td>\n      <td>0</td>\n      <td>5734</td>\n      <td>6320</td>\n      <td>221</td>\n      <td>317</td>\n      <td>0</td>\n      <td>15</td>\n      <td>...</td>\n      <td>0</td>\n      <td>9</td>\n      <td>16</td>\n      <td>3</td>\n      <td>0</td>\n      <td>0</td>\n      <td>3</td>\n      <td>32019</td>\n      <td>2017</td>\n      <td>9</td>\n    </tr>\n  </tbody>\n</table>\n<p>1 rows × 29 columns</p>\n</div>"
          },
          "metadata": {}
        }
      ],
      "execution_count": 17
    },
    {
      "cell_type": "markdown",
      "source": "Now we have Month raw in the first and the last 2 raws months then years. we have to remove the first one. ",
      "metadata": {}
    },
    {
      "cell_type": "code",
      "source": "gun = gun.drop(columns=['month'])",
      "metadata": {
        "trusted": true
      },
      "outputs": [],
      "execution_count": 18
    },
    {
      "cell_type": "code",
      "source": "gun.shape",
      "metadata": {
        "trusted": true
      },
      "outputs": [
        {
          "execution_count": 19,
          "output_type": "execute_result",
          "data": {
            "text/plain": "(12485, 28)"
          },
          "metadata": {}
        }
      ],
      "execution_count": 19
    },
    {
      "cell_type": "markdown",
      "source": "Check again, ",
      "metadata": {}
    },
    {
      "cell_type": "code",
      "source": "gun.head(1)",
      "metadata": {
        "trusted": true
      },
      "outputs": [
        {
          "execution_count": 20,
          "output_type": "execute_result",
          "data": {
            "text/plain": "     state  permit  permit_recheck  handgun  long_gun  other  multiple  admin  \\\n0  Alabama   16717               0     5734      6320    221       317      0   \n\n   prepawn_handgun  prepawn_long_gun  ...  rentals_long_gun  \\\n0               15                21  ...                 0   \n\n   private_sale_handgun  private_sale_long_gun  private_sale_other  \\\n0                     9                     16                   3   \n\n   return_to_seller_handgun  return_to_seller_long_gun  \\\n0                         0                          0   \n\n   return_to_seller_other  totals  year  months  \n0                       3   32019  2017       9  \n\n[1 rows x 28 columns]",
            "text/html": "<div>\n<style scoped>\n    .dataframe tbody tr th:only-of-type {\n        vertical-align: middle;\n    }\n\n    .dataframe tbody tr th {\n        vertical-align: top;\n    }\n\n    .dataframe thead th {\n        text-align: right;\n    }\n</style>\n<table border=\"1\" class=\"dataframe\">\n  <thead>\n    <tr style=\"text-align: right;\">\n      <th></th>\n      <th>state</th>\n      <th>permit</th>\n      <th>permit_recheck</th>\n      <th>handgun</th>\n      <th>long_gun</th>\n      <th>other</th>\n      <th>multiple</th>\n      <th>admin</th>\n      <th>prepawn_handgun</th>\n      <th>prepawn_long_gun</th>\n      <th>...</th>\n      <th>rentals_long_gun</th>\n      <th>private_sale_handgun</th>\n      <th>private_sale_long_gun</th>\n      <th>private_sale_other</th>\n      <th>return_to_seller_handgun</th>\n      <th>return_to_seller_long_gun</th>\n      <th>return_to_seller_other</th>\n      <th>totals</th>\n      <th>year</th>\n      <th>months</th>\n    </tr>\n  </thead>\n  <tbody>\n    <tr>\n      <th>0</th>\n      <td>Alabama</td>\n      <td>16717</td>\n      <td>0</td>\n      <td>5734</td>\n      <td>6320</td>\n      <td>221</td>\n      <td>317</td>\n      <td>0</td>\n      <td>15</td>\n      <td>21</td>\n      <td>...</td>\n      <td>0</td>\n      <td>9</td>\n      <td>16</td>\n      <td>3</td>\n      <td>0</td>\n      <td>0</td>\n      <td>3</td>\n      <td>32019</td>\n      <td>2017</td>\n      <td>9</td>\n    </tr>\n  </tbody>\n</table>\n<p>1 rows × 28 columns</p>\n</div>"
          },
          "metadata": {}
        }
      ],
      "execution_count": 20
    },
    {
      "cell_type": "markdown",
      "source": "**A.2 ) Now, lets check the second data set. the info and duplicates.**",
      "metadata": {}
    },
    {
      "cell_type": "code",
      "source": "census.info()",
      "metadata": {
        "trusted": true
      },
      "outputs": [
        {
          "name": "stdout",
          "text": "<class 'pandas.core.frame.DataFrame'>\nRangeIndex: 85 entries, 0 to 84\nData columns (total 52 columns):\n #   Column          Non-Null Count  Dtype \n---  ------          --------------  ----- \n 0   Fact            80 non-null     object\n 1   Fact Note       28 non-null     object\n 2   Alabama         65 non-null     object\n 3   Alaska          65 non-null     object\n 4   Arizona         65 non-null     object\n 5   Arkansas        65 non-null     object\n 6   California      65 non-null     object\n 7   Colorado        65 non-null     object\n 8   Connecticut     65 non-null     object\n 9   Delaware        65 non-null     object\n 10  Florida         65 non-null     object\n 11  Georgia         65 non-null     object\n 12  Hawaii          65 non-null     object\n 13  Idaho           65 non-null     object\n 14  Illinois        65 non-null     object\n 15  Indiana         65 non-null     object\n 16  Iowa            65 non-null     object\n 17  Kansas          65 non-null     object\n 18  Kentucky        65 non-null     object\n 19  Louisiana       65 non-null     object\n 20  Maine           65 non-null     object\n 21  Maryland        65 non-null     object\n 22  Massachusetts   65 non-null     object\n 23  Michigan        65 non-null     object\n 24  Minnesota       65 non-null     object\n 25  Mississippi     65 non-null     object\n 26  Missouri        65 non-null     object\n 27  Montana         65 non-null     object\n 28  Nebraska        65 non-null     object\n 29  Nevada          65 non-null     object\n 30  New Hampshire   65 non-null     object\n 31  New Jersey      65 non-null     object\n 32  New Mexico      65 non-null     object\n 33  New York        65 non-null     object\n 34  North Carolina  65 non-null     object\n 35  North Dakota    65 non-null     object\n 36  Ohio            65 non-null     object\n 37  Oklahoma        65 non-null     object\n 38  Oregon          65 non-null     object\n 39  Pennsylvania    65 non-null     object\n 40  Rhode Island    65 non-null     object\n 41  South Carolina  65 non-null     object\n 42  South Dakota    65 non-null     object\n 43  Tennessee       65 non-null     object\n 44  Texas           65 non-null     object\n 45  Utah            65 non-null     object\n 46  Vermont         65 non-null     object\n 47  Virginia        65 non-null     object\n 48  Washington      65 non-null     object\n 49  West Virginia   65 non-null     object\n 50  Wisconsin       65 non-null     object\n 51  Wyoming         65 non-null     object\ndtypes: object(52)\nmemory usage: 17.3+ KB\n",
          "output_type": "stream"
        }
      ],
      "execution_count": 21
    },
    {
      "cell_type": "code",
      "source": " census.head(1)",
      "metadata": {
        "trusted": true
      },
      "outputs": [
        {
          "execution_count": 22,
          "output_type": "execute_result",
          "data": {
            "text/plain": "                                           Fact Fact Note    Alabama   Alaska  \\\n0  Population estimates, July 1, 2016,  (V2016)       NaN  4,863,300  741,894   \n\n     Arizona   Arkansas  California   Colorado Connecticut Delaware  ...  \\\n0  6,931,071  2,988,248  39,250,017  5,540,545   3,576,452  952,065  ...   \n\n  South Dakota Tennessee       Texas       Utah  Vermont   Virginia  \\\n0       865454   6651194  27,862,596  3,051,217  624,594  8,411,808   \n\n  Washington West Virginia  Wisconsin  Wyoming  \n0  7,288,000     1,831,102  5,778,708  585,501  \n\n[1 rows x 52 columns]",
            "text/html": "<div>\n<style scoped>\n    .dataframe tbody tr th:only-of-type {\n        vertical-align: middle;\n    }\n\n    .dataframe tbody tr th {\n        vertical-align: top;\n    }\n\n    .dataframe thead th {\n        text-align: right;\n    }\n</style>\n<table border=\"1\" class=\"dataframe\">\n  <thead>\n    <tr style=\"text-align: right;\">\n      <th></th>\n      <th>Fact</th>\n      <th>Fact Note</th>\n      <th>Alabama</th>\n      <th>Alaska</th>\n      <th>Arizona</th>\n      <th>Arkansas</th>\n      <th>California</th>\n      <th>Colorado</th>\n      <th>Connecticut</th>\n      <th>Delaware</th>\n      <th>...</th>\n      <th>South Dakota</th>\n      <th>Tennessee</th>\n      <th>Texas</th>\n      <th>Utah</th>\n      <th>Vermont</th>\n      <th>Virginia</th>\n      <th>Washington</th>\n      <th>West Virginia</th>\n      <th>Wisconsin</th>\n      <th>Wyoming</th>\n    </tr>\n  </thead>\n  <tbody>\n    <tr>\n      <th>0</th>\n      <td>Population estimates, July 1, 2016,  (V2016)</td>\n      <td>NaN</td>\n      <td>4,863,300</td>\n      <td>741,894</td>\n      <td>6,931,071</td>\n      <td>2,988,248</td>\n      <td>39,250,017</td>\n      <td>5,540,545</td>\n      <td>3,576,452</td>\n      <td>952,065</td>\n      <td>...</td>\n      <td>865454</td>\n      <td>6651194</td>\n      <td>27,862,596</td>\n      <td>3,051,217</td>\n      <td>624,594</td>\n      <td>8,411,808</td>\n      <td>7,288,000</td>\n      <td>1,831,102</td>\n      <td>5,778,708</td>\n      <td>585,501</td>\n    </tr>\n  </tbody>\n</table>\n<p>1 rows × 52 columns</p>\n</div>"
          },
          "metadata": {}
        }
      ],
      "execution_count": 22
    },
    {
      "cell_type": "markdown",
      "source": "**Facts:**\n* All of the values are abjects, but they are strings and have numeric \n* There are missing values, Fact note is the top one\n* There are 85 raws and 52 columns\n* memory usage is small already",
      "metadata": {}
    },
    {
      "cell_type": "markdown",
      "source": "##### B.2)Check the duplicate",
      "metadata": {}
    },
    {
      "cell_type": "code",
      "source": "sum(census.duplicated())",
      "metadata": {
        "trusted": true
      },
      "outputs": [
        {
          "execution_count": 23,
          "output_type": "execute_result",
          "data": {
            "text/plain": "3"
          },
          "metadata": {}
        }
      ],
      "execution_count": 23
    },
    {
      "cell_type": "markdown",
      "source": "*There are 3 duplicates, we have to drop them*\n*And, We will drop the fact notes since it does not have valuable data*",
      "metadata": {}
    },
    {
      "cell_type": "code",
      "source": "census.drop_duplicates(inplace= True)",
      "metadata": {
        "trusted": true
      },
      "outputs": [],
      "execution_count": 24
    },
    {
      "cell_type": "code",
      "source": "sum(census.duplicated())",
      "metadata": {
        "trusted": true
      },
      "outputs": [
        {
          "execution_count": 25,
          "output_type": "execute_result",
          "data": {
            "text/plain": "0"
          },
          "metadata": {}
        }
      ],
      "execution_count": 25
    },
    {
      "cell_type": "markdown",
      "source": "Let's drope Fact Note",
      "metadata": {}
    },
    {
      "cell_type": "code",
      "source": "census =census.drop('Fact Note',axis=1)",
      "metadata": {
        "trusted": true
      },
      "outputs": [],
      "execution_count": 26
    },
    {
      "cell_type": "code",
      "source": "census.head(1)",
      "metadata": {
        "trusted": true
      },
      "outputs": [
        {
          "execution_count": 27,
          "output_type": "execute_result",
          "data": {
            "text/plain": "                                           Fact    Alabama   Alaska  \\\n0  Population estimates, July 1, 2016,  (V2016)  4,863,300  741,894   \n\n     Arizona   Arkansas  California   Colorado Connecticut Delaware  \\\n0  6,931,071  2,988,248  39,250,017  5,540,545   3,576,452  952,065   \n\n      Florida  ... South Dakota Tennessee       Texas       Utah  Vermont  \\\n0  20,612,439  ...       865454   6651194  27,862,596  3,051,217  624,594   \n\n    Virginia Washington West Virginia  Wisconsin  Wyoming  \n0  8,411,808  7,288,000     1,831,102  5,778,708  585,501  \n\n[1 rows x 51 columns]",
            "text/html": "<div>\n<style scoped>\n    .dataframe tbody tr th:only-of-type {\n        vertical-align: middle;\n    }\n\n    .dataframe tbody tr th {\n        vertical-align: top;\n    }\n\n    .dataframe thead th {\n        text-align: right;\n    }\n</style>\n<table border=\"1\" class=\"dataframe\">\n  <thead>\n    <tr style=\"text-align: right;\">\n      <th></th>\n      <th>Fact</th>\n      <th>Alabama</th>\n      <th>Alaska</th>\n      <th>Arizona</th>\n      <th>Arkansas</th>\n      <th>California</th>\n      <th>Colorado</th>\n      <th>Connecticut</th>\n      <th>Delaware</th>\n      <th>Florida</th>\n      <th>...</th>\n      <th>South Dakota</th>\n      <th>Tennessee</th>\n      <th>Texas</th>\n      <th>Utah</th>\n      <th>Vermont</th>\n      <th>Virginia</th>\n      <th>Washington</th>\n      <th>West Virginia</th>\n      <th>Wisconsin</th>\n      <th>Wyoming</th>\n    </tr>\n  </thead>\n  <tbody>\n    <tr>\n      <th>0</th>\n      <td>Population estimates, July 1, 2016,  (V2016)</td>\n      <td>4,863,300</td>\n      <td>741,894</td>\n      <td>6,931,071</td>\n      <td>2,988,248</td>\n      <td>39,250,017</td>\n      <td>5,540,545</td>\n      <td>3,576,452</td>\n      <td>952,065</td>\n      <td>20,612,439</td>\n      <td>...</td>\n      <td>865454</td>\n      <td>6651194</td>\n      <td>27,862,596</td>\n      <td>3,051,217</td>\n      <td>624,594</td>\n      <td>8,411,808</td>\n      <td>7,288,000</td>\n      <td>1,831,102</td>\n      <td>5,778,708</td>\n      <td>585,501</td>\n    </tr>\n  </tbody>\n</table>\n<p>1 rows × 51 columns</p>\n</div>"
          },
          "metadata": {}
        }
      ],
      "execution_count": 27
    },
    {
      "cell_type": "markdown",
      "source": "*We have to check for the nulls*",
      "metadata": {}
    },
    {
      "cell_type": "code",
      "source": "census.isnull().sum(). sum() ",
      "metadata": {
        "trusted": true
      },
      "outputs": [
        {
          "execution_count": 28,
          "output_type": "execute_result",
          "data": {
            "text/plain": "852"
          },
          "metadata": {}
        }
      ],
      "execution_count": 28
    },
    {
      "cell_type": "markdown",
      "source": "* we have a lote of Null values, we can drope the raws we dont need later*",
      "metadata": {}
    },
    {
      "cell_type": "code",
      "source": " census.describe()",
      "metadata": {
        "trusted": true
      },
      "outputs": [
        {
          "execution_count": 29,
          "output_type": "execute_result",
          "data": {
            "text/plain": "                                                Fact    Alabama Alaska  \\\ncount                                             80         65     65   \nunique                                            80         65     64   \ntop     Population estimates, July 1, 2016,  (V2016)  4,863,300  7.30%   \nfreq                                               1          1      2   \n\n       Arizona Arkansas California Colorado Connecticut Delaware Florida  ...  \\\ncount       65       65         65       65          65       65      65  ...   \nunique      64       64         63       64          63       64      64  ...   \ntop     50.30%   50.90%      6.80%    3.30%       0.10%   51.60%  51.10%  ...   \nfreq         2        2          2        2           2        2       2  ...   \n\n       South Dakota Tennessee   Texas   Utah Vermont   Virginia Washington  \\\ncount            65        65      65     65      65         65         65   \nunique           65        64      64     64      63         65         65   \ntop          865454     0.048  50.40%  2.50%   1.90%  8,411,808  7,288,000   \nfreq              1         2       2      2       2          1          1   \n\n       West Virginia  Wisconsin Wyoming  \ncount             65         65      65  \nunique            64         65      64  \ntop            1.50%  5,778,708   7.10%  \nfreq               2          1       2  \n\n[4 rows x 51 columns]",
            "text/html": "<div>\n<style scoped>\n    .dataframe tbody tr th:only-of-type {\n        vertical-align: middle;\n    }\n\n    .dataframe tbody tr th {\n        vertical-align: top;\n    }\n\n    .dataframe thead th {\n        text-align: right;\n    }\n</style>\n<table border=\"1\" class=\"dataframe\">\n  <thead>\n    <tr style=\"text-align: right;\">\n      <th></th>\n      <th>Fact</th>\n      <th>Alabama</th>\n      <th>Alaska</th>\n      <th>Arizona</th>\n      <th>Arkansas</th>\n      <th>California</th>\n      <th>Colorado</th>\n      <th>Connecticut</th>\n      <th>Delaware</th>\n      <th>Florida</th>\n      <th>...</th>\n      <th>South Dakota</th>\n      <th>Tennessee</th>\n      <th>Texas</th>\n      <th>Utah</th>\n      <th>Vermont</th>\n      <th>Virginia</th>\n      <th>Washington</th>\n      <th>West Virginia</th>\n      <th>Wisconsin</th>\n      <th>Wyoming</th>\n    </tr>\n  </thead>\n  <tbody>\n    <tr>\n      <th>count</th>\n      <td>80</td>\n      <td>65</td>\n      <td>65</td>\n      <td>65</td>\n      <td>65</td>\n      <td>65</td>\n      <td>65</td>\n      <td>65</td>\n      <td>65</td>\n      <td>65</td>\n      <td>...</td>\n      <td>65</td>\n      <td>65</td>\n      <td>65</td>\n      <td>65</td>\n      <td>65</td>\n      <td>65</td>\n      <td>65</td>\n      <td>65</td>\n      <td>65</td>\n      <td>65</td>\n    </tr>\n    <tr>\n      <th>unique</th>\n      <td>80</td>\n      <td>65</td>\n      <td>64</td>\n      <td>64</td>\n      <td>64</td>\n      <td>63</td>\n      <td>64</td>\n      <td>63</td>\n      <td>64</td>\n      <td>64</td>\n      <td>...</td>\n      <td>65</td>\n      <td>64</td>\n      <td>64</td>\n      <td>64</td>\n      <td>63</td>\n      <td>65</td>\n      <td>65</td>\n      <td>64</td>\n      <td>65</td>\n      <td>64</td>\n    </tr>\n    <tr>\n      <th>top</th>\n      <td>Population estimates, July 1, 2016,  (V2016)</td>\n      <td>4,863,300</td>\n      <td>7.30%</td>\n      <td>50.30%</td>\n      <td>50.90%</td>\n      <td>6.80%</td>\n      <td>3.30%</td>\n      <td>0.10%</td>\n      <td>51.60%</td>\n      <td>51.10%</td>\n      <td>...</td>\n      <td>865454</td>\n      <td>0.048</td>\n      <td>50.40%</td>\n      <td>2.50%</td>\n      <td>1.90%</td>\n      <td>8,411,808</td>\n      <td>7,288,000</td>\n      <td>1.50%</td>\n      <td>5,778,708</td>\n      <td>7.10%</td>\n    </tr>\n    <tr>\n      <th>freq</th>\n      <td>1</td>\n      <td>1</td>\n      <td>2</td>\n      <td>2</td>\n      <td>2</td>\n      <td>2</td>\n      <td>2</td>\n      <td>2</td>\n      <td>2</td>\n      <td>2</td>\n      <td>...</td>\n      <td>1</td>\n      <td>2</td>\n      <td>2</td>\n      <td>2</td>\n      <td>2</td>\n      <td>1</td>\n      <td>1</td>\n      <td>2</td>\n      <td>1</td>\n      <td>2</td>\n    </tr>\n  </tbody>\n</table>\n<p>4 rows × 51 columns</p>\n</div>"
          },
          "metadata": {}
        }
      ],
      "execution_count": 29
    },
    {
      "cell_type": "markdown",
      "source": "Here, We will put states in one name varible because we will use it and it's fundumental. *We want to manipulate states So we gave them a variable*\n",
      "metadata": {}
    },
    {
      "cell_type": "code",
      "source": "states=['Alabama', 'Alaska', 'Arizona', 'Arkansas', 'California',\n       'Colorado', 'Connecticut', 'Delaware', 'Florida', 'Georgia',  \n        'Hawaii', 'Idaho', 'Illinois','Indiana', 'Iowa', 'Kansas', \n        'Kentucky', 'Louisiana', 'Maine','Maryland', 'Massachusetts', \n        'Michigan','Minnesota', 'Mississippi', 'Missouri', 'Montana', 'Nebraska',\n       'Nevada', 'New Hampshire', 'New Jersey', 'New Mexico', 'New York',\n       'North Carolina', 'North Dakota', 'Ohio', 'Oklahoma', 'Oregon','Pennsylvania', \n        'Rhode Island', 'South Carolina','South Dakota', 'Tennessee', 'Texas', 'Utah', \n        'Vermont','Virginia', 'Washington', 'West Virginia','Wisconsin', 'Wyoming']",
      "metadata": {
        "trusted": true
      },
      "outputs": [],
      "execution_count": 30
    },
    {
      "cell_type": "code",
      "source": "print(states)",
      "metadata": {
        "trusted": true
      },
      "outputs": [
        {
          "name": "stdout",
          "text": "['Alabama', 'Alaska', 'Arizona', 'Arkansas', 'California', 'Colorado', 'Connecticut', 'Delaware', 'Florida', 'Georgia', 'Hawaii', 'Idaho', 'Illinois', 'Indiana', 'Iowa', 'Kansas', 'Kentucky', 'Louisiana', 'Maine', 'Maryland', 'Massachusetts', 'Michigan', 'Minnesota', 'Mississippi', 'Missouri', 'Montana', 'Nebraska', 'Nevada', 'New Hampshire', 'New Jersey', 'New Mexico', 'New York', 'North Carolina', 'North Dakota', 'Ohio', 'Oklahoma', 'Oregon', 'Pennsylvania', 'Rhode Island', 'South Carolina', 'South Dakota', 'Tennessee', 'Texas', 'Utah', 'Vermont', 'Virginia', 'Washington', 'West Virginia', 'Wisconsin', 'Wyoming']\n",
          "output_type": "stream"
        }
      ],
      "execution_count": 31
    },
    {
      "cell_type": "code",
      "source": "type(census['Kansas'][12]) ",
      "metadata": {
        "trusted": true
      },
      "outputs": [
        {
          "execution_count": 32,
          "output_type": "execute_result",
          "data": {
            "text/plain": "str"
          },
          "metadata": {}
        }
      ],
      "execution_count": 32
    },
    {
      "cell_type": "code",
      "source": "len(states)",
      "metadata": {
        "trusted": true
      },
      "outputs": [
        {
          "execution_count": 33,
          "output_type": "execute_result",
          "data": {
            "text/plain": "50"
          },
          "metadata": {}
        }
      ],
      "execution_count": 33
    },
    {
      "cell_type": "markdown",
      "source": "After Exploring we came..",
      "metadata": {}
    },
    {
      "cell_type": "code",
      "source": "for state in states:\n    census[state].replace(regex=True,inplace=True,to_replace=r'\\D',value=r'')\n    # remove all the non digit character\n    census[state]=pd.to_numeric(census[state], downcast='float', errors='ignore')",
      "metadata": {
        "trusted": true
      },
      "outputs": [],
      "execution_count": 34
    },
    {
      "cell_type": "markdown",
      "source": "## Exploratory Data Analysis\n",
      "metadata": {}
    },
    {
      "cell_type": "markdown",
      "source": "> 1.What census variable or fact value is most associated with high gun per capita per state? Ceusus data includes state as variable",
      "metadata": {}
    },
    {
      "cell_type": "markdown",
      "source": "*In order to calculate gun per capita,  the gun totals and population for each state needed to be fetched at first, and the gun and census data needed to be combined. Also, I notice the state in census data is divided as 50 columns, however, in gun data, state is\nonly one columns which has 46 different state value.*\n**And Because of that we will change the raws and columns so we can deal with both data**\n\nData Preprocessing:\n\n* Fetch gun totals and population data for each state\n* Combine gun and census data.\n* Handle any discrepancies in the format or structure of the data (e.g., differences in how states are represented).",
      "metadata": {}
    },
    {
      "cell_type": "code",
      "source": "gun_state = gun.groupby('state')",
      "metadata": {
        "trusted": true
      },
      "outputs": [],
      "execution_count": 35
    },
    {
      "cell_type": "code",
      "source": "gun_state.head()",
      "metadata": {
        "trusted": true
      },
      "outputs": [
        {
          "execution_count": 36,
          "output_type": "execute_result",
          "data": {
            "text/plain": "             state  permit  permit_recheck  handgun  long_gun  other  \\\n0          Alabama   16717               0     5734      6320    221   \n1           Alaska     209               2     2320      2930    219   \n2          Arizona    5069             382    11063      7946    920   \n3         Arkansas    2935             632     4347      6063    165   \n4       California   57839               0    37165     24581   2984   \n..             ...     ...             ...      ...       ...    ...   \n270       Virginia    1148               0    21697     12181    969   \n271     Washington   14176              42    15915      9682   1617   \n272  West Virginia    2141               0     5818      4329    262   \n273      Wisconsin   13117               0    14070      9467    709   \n274        Wyoming     435              19     1589      1578    101   \n\n     multiple  admin  prepawn_handgun  prepawn_long_gun  ...  \\\n0         317      0               15                21  ...   \n1         160      0                5                 2  ...   \n2         631      0               13                 6  ...   \n3         366     51               12                13  ...   \n4           0      0                0                 0  ...   \n..        ...    ...              ...               ...  ...   \n270         0      0                0                 0  ...   \n271       584      2                8                 5  ...   \n272       321      7               10                12  ...   \n273        58      0                0                 0  ...   \n274        91      5                2                 0  ...   \n\n     rentals_long_gun  private_sale_handgun  private_sale_long_gun  \\\n0                   0                     9                     16   \n1                   0                    17                     24   \n2                   0                    38                     12   \n3                   0                    13                     23   \n4                   0                     0                      0   \n..                ...                   ...                    ...   \n270                 0                     0                      0   \n271                 0                   722                    500   \n272                 0                    22                     16   \n273                 0                     0                      5   \n274                 0                     4                      7   \n\n     private_sale_other  return_to_seller_handgun  return_to_seller_long_gun  \\\n0                     3                         0                          0   \n1                     1                         0                          0   \n2                     2                         0                          0   \n3                     0                         0                          2   \n4                     0                         0                          0   \n..                  ...                       ...                        ...   \n270                   0                         0                          0   \n271                  24                        10                          7   \n272                   0                         0                          1   \n273                   0                         0                          0   \n274                   1                         0                          0   \n\n     return_to_seller_other  totals  year  months  \n0                         3   32019  2017       9  \n1                         0    6303  2017       9  \n2                         0   28394  2017       9  \n3                         1   17747  2017       9  \n4                         0   -7566  2017       9  \n..                      ...     ...   ...     ...  \n270                       0  -29529  2017       5  \n271                       0  -19720  2017       5  \n272                       3   15085  2017       5  \n273                       0  -27648  2017       5  \n274                       0    4128  2017       5  \n\n[275 rows x 28 columns]",
            "text/html": "<div>\n<style scoped>\n    .dataframe tbody tr th:only-of-type {\n        vertical-align: middle;\n    }\n\n    .dataframe tbody tr th {\n        vertical-align: top;\n    }\n\n    .dataframe thead th {\n        text-align: right;\n    }\n</style>\n<table border=\"1\" class=\"dataframe\">\n  <thead>\n    <tr style=\"text-align: right;\">\n      <th></th>\n      <th>state</th>\n      <th>permit</th>\n      <th>permit_recheck</th>\n      <th>handgun</th>\n      <th>long_gun</th>\n      <th>other</th>\n      <th>multiple</th>\n      <th>admin</th>\n      <th>prepawn_handgun</th>\n      <th>prepawn_long_gun</th>\n      <th>...</th>\n      <th>rentals_long_gun</th>\n      <th>private_sale_handgun</th>\n      <th>private_sale_long_gun</th>\n      <th>private_sale_other</th>\n      <th>return_to_seller_handgun</th>\n      <th>return_to_seller_long_gun</th>\n      <th>return_to_seller_other</th>\n      <th>totals</th>\n      <th>year</th>\n      <th>months</th>\n    </tr>\n  </thead>\n  <tbody>\n    <tr>\n      <th>0</th>\n      <td>Alabama</td>\n      <td>16717</td>\n      <td>0</td>\n      <td>5734</td>\n      <td>6320</td>\n      <td>221</td>\n      <td>317</td>\n      <td>0</td>\n      <td>15</td>\n      <td>21</td>\n      <td>...</td>\n      <td>0</td>\n      <td>9</td>\n      <td>16</td>\n      <td>3</td>\n      <td>0</td>\n      <td>0</td>\n      <td>3</td>\n      <td>32019</td>\n      <td>2017</td>\n      <td>9</td>\n    </tr>\n    <tr>\n      <th>1</th>\n      <td>Alaska</td>\n      <td>209</td>\n      <td>2</td>\n      <td>2320</td>\n      <td>2930</td>\n      <td>219</td>\n      <td>160</td>\n      <td>0</td>\n      <td>5</td>\n      <td>2</td>\n      <td>...</td>\n      <td>0</td>\n      <td>17</td>\n      <td>24</td>\n      <td>1</td>\n      <td>0</td>\n      <td>0</td>\n      <td>0</td>\n      <td>6303</td>\n      <td>2017</td>\n      <td>9</td>\n    </tr>\n    <tr>\n      <th>2</th>\n      <td>Arizona</td>\n      <td>5069</td>\n      <td>382</td>\n      <td>11063</td>\n      <td>7946</td>\n      <td>920</td>\n      <td>631</td>\n      <td>0</td>\n      <td>13</td>\n      <td>6</td>\n      <td>...</td>\n      <td>0</td>\n      <td>38</td>\n      <td>12</td>\n      <td>2</td>\n      <td>0</td>\n      <td>0</td>\n      <td>0</td>\n      <td>28394</td>\n      <td>2017</td>\n      <td>9</td>\n    </tr>\n    <tr>\n      <th>3</th>\n      <td>Arkansas</td>\n      <td>2935</td>\n      <td>632</td>\n      <td>4347</td>\n      <td>6063</td>\n      <td>165</td>\n      <td>366</td>\n      <td>51</td>\n      <td>12</td>\n      <td>13</td>\n      <td>...</td>\n      <td>0</td>\n      <td>13</td>\n      <td>23</td>\n      <td>0</td>\n      <td>0</td>\n      <td>2</td>\n      <td>1</td>\n      <td>17747</td>\n      <td>2017</td>\n      <td>9</td>\n    </tr>\n    <tr>\n      <th>4</th>\n      <td>California</td>\n      <td>57839</td>\n      <td>0</td>\n      <td>37165</td>\n      <td>24581</td>\n      <td>2984</td>\n      <td>0</td>\n      <td>0</td>\n      <td>0</td>\n      <td>0</td>\n      <td>...</td>\n      <td>0</td>\n      <td>0</td>\n      <td>0</td>\n      <td>0</td>\n      <td>0</td>\n      <td>0</td>\n      <td>0</td>\n      <td>-7566</td>\n      <td>2017</td>\n      <td>9</td>\n    </tr>\n    <tr>\n      <th>...</th>\n      <td>...</td>\n      <td>...</td>\n      <td>...</td>\n      <td>...</td>\n      <td>...</td>\n      <td>...</td>\n      <td>...</td>\n      <td>...</td>\n      <td>...</td>\n      <td>...</td>\n      <td>...</td>\n      <td>...</td>\n      <td>...</td>\n      <td>...</td>\n      <td>...</td>\n      <td>...</td>\n      <td>...</td>\n      <td>...</td>\n      <td>...</td>\n      <td>...</td>\n      <td>...</td>\n    </tr>\n    <tr>\n      <th>270</th>\n      <td>Virginia</td>\n      <td>1148</td>\n      <td>0</td>\n      <td>21697</td>\n      <td>12181</td>\n      <td>969</td>\n      <td>0</td>\n      <td>0</td>\n      <td>0</td>\n      <td>0</td>\n      <td>...</td>\n      <td>0</td>\n      <td>0</td>\n      <td>0</td>\n      <td>0</td>\n      <td>0</td>\n      <td>0</td>\n      <td>0</td>\n      <td>-29529</td>\n      <td>2017</td>\n      <td>5</td>\n    </tr>\n    <tr>\n      <th>271</th>\n      <td>Washington</td>\n      <td>14176</td>\n      <td>42</td>\n      <td>15915</td>\n      <td>9682</td>\n      <td>1617</td>\n      <td>584</td>\n      <td>2</td>\n      <td>8</td>\n      <td>5</td>\n      <td>...</td>\n      <td>0</td>\n      <td>722</td>\n      <td>500</td>\n      <td>24</td>\n      <td>10</td>\n      <td>7</td>\n      <td>0</td>\n      <td>-19720</td>\n      <td>2017</td>\n      <td>5</td>\n    </tr>\n    <tr>\n      <th>272</th>\n      <td>West Virginia</td>\n      <td>2141</td>\n      <td>0</td>\n      <td>5818</td>\n      <td>4329</td>\n      <td>262</td>\n      <td>321</td>\n      <td>7</td>\n      <td>10</td>\n      <td>12</td>\n      <td>...</td>\n      <td>0</td>\n      <td>22</td>\n      <td>16</td>\n      <td>0</td>\n      <td>0</td>\n      <td>1</td>\n      <td>3</td>\n      <td>15085</td>\n      <td>2017</td>\n      <td>5</td>\n    </tr>\n    <tr>\n      <th>273</th>\n      <td>Wisconsin</td>\n      <td>13117</td>\n      <td>0</td>\n      <td>14070</td>\n      <td>9467</td>\n      <td>709</td>\n      <td>58</td>\n      <td>0</td>\n      <td>0</td>\n      <td>0</td>\n      <td>...</td>\n      <td>0</td>\n      <td>0</td>\n      <td>5</td>\n      <td>0</td>\n      <td>0</td>\n      <td>0</td>\n      <td>0</td>\n      <td>-27648</td>\n      <td>2017</td>\n      <td>5</td>\n    </tr>\n    <tr>\n      <th>274</th>\n      <td>Wyoming</td>\n      <td>435</td>\n      <td>19</td>\n      <td>1589</td>\n      <td>1578</td>\n      <td>101</td>\n      <td>91</td>\n      <td>5</td>\n      <td>2</td>\n      <td>0</td>\n      <td>...</td>\n      <td>0</td>\n      <td>4</td>\n      <td>7</td>\n      <td>1</td>\n      <td>0</td>\n      <td>0</td>\n      <td>0</td>\n      <td>4128</td>\n      <td>2017</td>\n      <td>5</td>\n    </tr>\n  </tbody>\n</table>\n<p>275 rows × 28 columns</p>\n</div>"
          },
          "metadata": {}
        }
      ],
      "execution_count": 36
    },
    {
      "cell_type": "code",
      "source": "total_guns_per_state = gun_state['totals'].sum()\nprint(total_guns_per_state)",
      "metadata": {
        "trusted": true
      },
      "outputs": [
        {
          "name": "stdout",
          "text": "state\nAlabama                 1856415\nAlaska                  1137643\nArizona                 3311602\nArkansas                3556025\nCalifornia              -974417\nColorado                1798642\nConnecticut             2905982\nDelaware                 491369\nDistrict of Columbia       5601\nFlorida                  620193\nGeorgia                 1246166\nGuam                      14997\nHawaii                   197580\nIdaho                   1968134\nIllinois               -1502290\nIndiana                 2428756\nIowa                    2297156\nKansas                  2559133\nKentucky                1647490\nLouisiana               3132193\nMaine                   1257457\nMariana Islands             462\nMaryland                1970116\nMassachusetts           2571321\nMichigan                1290503\nMinnesota               1953895\nMississippi             3379704\nMissouri                1502746\nMontana                 1884124\nNebraska                1136209\nNevada                  1731797\nNew Hampshire           1583148\nNew Jersey              1145846\nNew Mexico              2076591\nNew York                3267572\nNorth Carolina          1486233\nNorth Dakota             947440\nOhio                    1122712\nOklahoma                3339270\nOregon                  3423381\nPennsylvania           -1742796\nPuerto Rico              194464\nRhode Island             288870\nSouth Carolina          3096928\nSouth Dakota            1215712\nTennessee               1019837\nTexas                   -749902\nUtah                    2765409\nVermont                  484447\nVirgin Islands            15108\nVirginia                2405267\nWashington              1272709\nWest Virginia           3077817\nWisconsin               2379213\nWyoming                  894306\nName: totals, dtype: int64\n",
          "output_type": "stream"
        }
      ],
      "execution_count": 37
    },
    {
      "cell_type": "markdown",
      "source": "We just needs the totals we dont have to get invlove with each category by its own to answer this question",
      "metadata": {}
    },
    {
      "cell_type": "markdown",
      "source": "*The most of the data is between 2010 to 2016, so we can merge between both data we have to use the inner data*",
      "metadata": {}
    },
    {
      "cell_type": "markdown",
      "source": "#### Second, Cobine both datas",
      "metadata": {}
    },
    {
      "cell_type": "code",
      "source": "census.head()",
      "metadata": {
        "trusted": true
      },
      "outputs": [
        {
          "execution_count": 38,
          "output_type": "execute_result",
          "data": {
            "text/plain": "                                                Fact    Alabama    Alaska  \\\n0       Population estimates, July 1, 2016,  (V2016)  4863300.0  741894.0   \n1  Population estimates base, April 1, 2010,  (V2...  4780131.0  710249.0   \n2  Population, percent change - April 1, 2010 (es...      170.0     450.0   \n3                  Population, Census, April 1, 2010  4779736.0  710231.0   \n4  Persons under 5 years, percent, July 1, 2016, ...      600.0     730.0   \n\n     Arizona   Arkansas  California   Colorado  Connecticut  Delaware  \\\n0  6931071.0  2988248.0  39250017.0  5540545.0    3576452.0  952065.0   \n1  6392301.0  2916025.0  37254522.0  5029324.0    3574114.0  897936.0   \n2      840.0      250.0       540.0     1020.0         10.0     600.0   \n3  6392017.0  2915918.0  37253956.0  5029196.0    3574097.0  897934.0   \n4      630.0      640.0       630.0      610.0        520.0     580.0   \n\n      Florida  ...  South Dakota  Tennessee       Texas       Utah   Vermont  \\\n0  20612439.0  ...      865454.0  6651194.0  27862596.0  3051217.0  624594.0   \n1  18804592.0  ...      814195.0  6346298.0  25146100.0  2763888.0  625741.0   \n2       960.0  ...          63.0       48.0      1080.0     1040.0      20.0   \n3  18801310.0  ...      814180.0  6346105.0  25145561.0  2763885.0  625741.0   \n4       550.0  ...          71.0       61.0       720.0      830.0     490.0   \n\n    Virginia  Washington  West Virginia  Wisconsin   Wyoming  \n0  8411808.0   7288000.0      1831102.0  5778708.0  585501.0  \n1  8001041.0   6724545.0      1853011.0  5687289.0  563767.0  \n2      510.0       840.0          120.0      160.0     390.0  \n3  8001024.0   6724540.0      1852994.0  5686986.0  563626.0  \n4      610.0       620.0          550.0      580.0     650.0  \n\n[5 rows x 51 columns]",
            "text/html": "<div>\n<style scoped>\n    .dataframe tbody tr th:only-of-type {\n        vertical-align: middle;\n    }\n\n    .dataframe tbody tr th {\n        vertical-align: top;\n    }\n\n    .dataframe thead th {\n        text-align: right;\n    }\n</style>\n<table border=\"1\" class=\"dataframe\">\n  <thead>\n    <tr style=\"text-align: right;\">\n      <th></th>\n      <th>Fact</th>\n      <th>Alabama</th>\n      <th>Alaska</th>\n      <th>Arizona</th>\n      <th>Arkansas</th>\n      <th>California</th>\n      <th>Colorado</th>\n      <th>Connecticut</th>\n      <th>Delaware</th>\n      <th>Florida</th>\n      <th>...</th>\n      <th>South Dakota</th>\n      <th>Tennessee</th>\n      <th>Texas</th>\n      <th>Utah</th>\n      <th>Vermont</th>\n      <th>Virginia</th>\n      <th>Washington</th>\n      <th>West Virginia</th>\n      <th>Wisconsin</th>\n      <th>Wyoming</th>\n    </tr>\n  </thead>\n  <tbody>\n    <tr>\n      <th>0</th>\n      <td>Population estimates, July 1, 2016,  (V2016)</td>\n      <td>4863300.0</td>\n      <td>741894.0</td>\n      <td>6931071.0</td>\n      <td>2988248.0</td>\n      <td>39250017.0</td>\n      <td>5540545.0</td>\n      <td>3576452.0</td>\n      <td>952065.0</td>\n      <td>20612439.0</td>\n      <td>...</td>\n      <td>865454.0</td>\n      <td>6651194.0</td>\n      <td>27862596.0</td>\n      <td>3051217.0</td>\n      <td>624594.0</td>\n      <td>8411808.0</td>\n      <td>7288000.0</td>\n      <td>1831102.0</td>\n      <td>5778708.0</td>\n      <td>585501.0</td>\n    </tr>\n    <tr>\n      <th>1</th>\n      <td>Population estimates base, April 1, 2010,  (V2...</td>\n      <td>4780131.0</td>\n      <td>710249.0</td>\n      <td>6392301.0</td>\n      <td>2916025.0</td>\n      <td>37254522.0</td>\n      <td>5029324.0</td>\n      <td>3574114.0</td>\n      <td>897936.0</td>\n      <td>18804592.0</td>\n      <td>...</td>\n      <td>814195.0</td>\n      <td>6346298.0</td>\n      <td>25146100.0</td>\n      <td>2763888.0</td>\n      <td>625741.0</td>\n      <td>8001041.0</td>\n      <td>6724545.0</td>\n      <td>1853011.0</td>\n      <td>5687289.0</td>\n      <td>563767.0</td>\n    </tr>\n    <tr>\n      <th>2</th>\n      <td>Population, percent change - April 1, 2010 (es...</td>\n      <td>170.0</td>\n      <td>450.0</td>\n      <td>840.0</td>\n      <td>250.0</td>\n      <td>540.0</td>\n      <td>1020.0</td>\n      <td>10.0</td>\n      <td>600.0</td>\n      <td>960.0</td>\n      <td>...</td>\n      <td>63.0</td>\n      <td>48.0</td>\n      <td>1080.0</td>\n      <td>1040.0</td>\n      <td>20.0</td>\n      <td>510.0</td>\n      <td>840.0</td>\n      <td>120.0</td>\n      <td>160.0</td>\n      <td>390.0</td>\n    </tr>\n    <tr>\n      <th>3</th>\n      <td>Population, Census, April 1, 2010</td>\n      <td>4779736.0</td>\n      <td>710231.0</td>\n      <td>6392017.0</td>\n      <td>2915918.0</td>\n      <td>37253956.0</td>\n      <td>5029196.0</td>\n      <td>3574097.0</td>\n      <td>897934.0</td>\n      <td>18801310.0</td>\n      <td>...</td>\n      <td>814180.0</td>\n      <td>6346105.0</td>\n      <td>25145561.0</td>\n      <td>2763885.0</td>\n      <td>625741.0</td>\n      <td>8001024.0</td>\n      <td>6724540.0</td>\n      <td>1852994.0</td>\n      <td>5686986.0</td>\n      <td>563626.0</td>\n    </tr>\n    <tr>\n      <th>4</th>\n      <td>Persons under 5 years, percent, July 1, 2016, ...</td>\n      <td>600.0</td>\n      <td>730.0</td>\n      <td>630.0</td>\n      <td>640.0</td>\n      <td>630.0</td>\n      <td>610.0</td>\n      <td>520.0</td>\n      <td>580.0</td>\n      <td>550.0</td>\n      <td>...</td>\n      <td>71.0</td>\n      <td>61.0</td>\n      <td>720.0</td>\n      <td>830.0</td>\n      <td>490.0</td>\n      <td>610.0</td>\n      <td>620.0</td>\n      <td>550.0</td>\n      <td>580.0</td>\n      <td>650.0</td>\n    </tr>\n  </tbody>\n</table>\n<p>5 rows × 51 columns</p>\n</div>"
          },
          "metadata": {}
        }
      ],
      "execution_count": 38
    },
    {
      "cell_type": "markdown",
      "source": "We can see the states are Horizintly, and that must be changed because the gun data has the states vertical ",
      "metadata": {}
    },
    {
      "cell_type": "code",
      "source": "census_t = census.T",
      "metadata": {
        "trusted": true
      },
      "outputs": [],
      "execution_count": 39
    },
    {
      "cell_type": "markdown",
      "source": "Lets see the changes ",
      "metadata": {}
    },
    {
      "cell_type": "code",
      "source": "census_t.head(4)\n",
      "metadata": {
        "trusted": true
      },
      "outputs": [
        {
          "execution_count": 40,
          "output_type": "execute_result",
          "data": {
            "text/plain": "                                                   0   \\\nFact     Population estimates, July 1, 2016,  (V2016)   \nAlabama                                     4863300.0   \nAlaska                                       741894.0   \nArizona                                     6931071.0   \n\n                                                        1   \\\nFact     Population estimates base, April 1, 2010,  (V2...   \nAlabama                                          4780131.0   \nAlaska                                            710249.0   \nArizona                                          6392301.0   \n\n                                                        2   \\\nFact     Population, percent change - April 1, 2010 (es...   \nAlabama                                              170.0   \nAlaska                                               450.0   \nArizona                                              840.0   \n\n                                        3   \\\nFact     Population, Census, April 1, 2010   \nAlabama                          4779736.0   \nAlaska                            710231.0   \nArizona                          6392017.0   \n\n                                                        4   \\\nFact     Persons under 5 years, percent, July 1, 2016, ...   \nAlabama                                              600.0   \nAlaska                                               730.0   \nArizona                                              630.0   \n\n                                                    5   \\\nFact     Persons under 5 years, percent, April 1, 2010   \nAlabama                                          640.0   \nAlaska                                           760.0   \nArizona                                          710.0   \n\n                                                        6   \\\nFact     Persons under 18 years, percent, July 1, 2016,...   \nAlabama                                             2260.0   \nAlaska                                              2520.0   \nArizona                                             2350.0   \n\n                                                     7   \\\nFact     Persons under 18 years, percent, April 1, 2010   \nAlabama                                          2370.0   \nAlaska                                           2640.0   \nArizona                                          2550.0   \n\n                                                        8   \\\nFact     Persons 65 years and over, percent,  July 1, 2...   \nAlabama                                             1610.0   \nAlaska                                              1040.0   \nArizona                                             1690.0   \n\n                                                        9   ...   74  \\\nFact     Persons 65 years and over, percent, April 1, 2010  ...  (c)   \nAlabama                                             1380.0  ...  NaN   \nAlaska                                               770.0  ...  NaN   \nArizona                                             1380.0  ...  NaN   \n\n                  76   77   78   79   80   81   82   83   84  \nFact     Value Flags    -    D    F   FN  NaN    S    X    Z  \nAlabama          NaN  NaN  NaN  NaN  NaN  NaN  NaN  NaN  NaN  \nAlaska           NaN  NaN  NaN  NaN  NaN  NaN  NaN  NaN  NaN  \nArizona          NaN  NaN  NaN  NaN  NaN  NaN  NaN  NaN  NaN  \n\n[4 rows x 82 columns]",
            "text/html": "<div>\n<style scoped>\n    .dataframe tbody tr th:only-of-type {\n        vertical-align: middle;\n    }\n\n    .dataframe tbody tr th {\n        vertical-align: top;\n    }\n\n    .dataframe thead th {\n        text-align: right;\n    }\n</style>\n<table border=\"1\" class=\"dataframe\">\n  <thead>\n    <tr style=\"text-align: right;\">\n      <th></th>\n      <th>0</th>\n      <th>1</th>\n      <th>2</th>\n      <th>3</th>\n      <th>4</th>\n      <th>5</th>\n      <th>6</th>\n      <th>7</th>\n      <th>8</th>\n      <th>9</th>\n      <th>...</th>\n      <th>74</th>\n      <th>76</th>\n      <th>77</th>\n      <th>78</th>\n      <th>79</th>\n      <th>80</th>\n      <th>81</th>\n      <th>82</th>\n      <th>83</th>\n      <th>84</th>\n    </tr>\n  </thead>\n  <tbody>\n    <tr>\n      <th>Fact</th>\n      <td>Population estimates, July 1, 2016,  (V2016)</td>\n      <td>Population estimates base, April 1, 2010,  (V2...</td>\n      <td>Population, percent change - April 1, 2010 (es...</td>\n      <td>Population, Census, April 1, 2010</td>\n      <td>Persons under 5 years, percent, July 1, 2016, ...</td>\n      <td>Persons under 5 years, percent, April 1, 2010</td>\n      <td>Persons under 18 years, percent, July 1, 2016,...</td>\n      <td>Persons under 18 years, percent, April 1, 2010</td>\n      <td>Persons 65 years and over, percent,  July 1, 2...</td>\n      <td>Persons 65 years and over, percent, April 1, 2010</td>\n      <td>...</td>\n      <td>(c)</td>\n      <td>Value Flags</td>\n      <td>-</td>\n      <td>D</td>\n      <td>F</td>\n      <td>FN</td>\n      <td>NaN</td>\n      <td>S</td>\n      <td>X</td>\n      <td>Z</td>\n    </tr>\n    <tr>\n      <th>Alabama</th>\n      <td>4863300.0</td>\n      <td>4780131.0</td>\n      <td>170.0</td>\n      <td>4779736.0</td>\n      <td>600.0</td>\n      <td>640.0</td>\n      <td>2260.0</td>\n      <td>2370.0</td>\n      <td>1610.0</td>\n      <td>1380.0</td>\n      <td>...</td>\n      <td>NaN</td>\n      <td>NaN</td>\n      <td>NaN</td>\n      <td>NaN</td>\n      <td>NaN</td>\n      <td>NaN</td>\n      <td>NaN</td>\n      <td>NaN</td>\n      <td>NaN</td>\n      <td>NaN</td>\n    </tr>\n    <tr>\n      <th>Alaska</th>\n      <td>741894.0</td>\n      <td>710249.0</td>\n      <td>450.0</td>\n      <td>710231.0</td>\n      <td>730.0</td>\n      <td>760.0</td>\n      <td>2520.0</td>\n      <td>2640.0</td>\n      <td>1040.0</td>\n      <td>770.0</td>\n      <td>...</td>\n      <td>NaN</td>\n      <td>NaN</td>\n      <td>NaN</td>\n      <td>NaN</td>\n      <td>NaN</td>\n      <td>NaN</td>\n      <td>NaN</td>\n      <td>NaN</td>\n      <td>NaN</td>\n      <td>NaN</td>\n    </tr>\n    <tr>\n      <th>Arizona</th>\n      <td>6931071.0</td>\n      <td>6392301.0</td>\n      <td>840.0</td>\n      <td>6392017.0</td>\n      <td>630.0</td>\n      <td>710.0</td>\n      <td>2350.0</td>\n      <td>2550.0</td>\n      <td>1690.0</td>\n      <td>1380.0</td>\n      <td>...</td>\n      <td>NaN</td>\n      <td>NaN</td>\n      <td>NaN</td>\n      <td>NaN</td>\n      <td>NaN</td>\n      <td>NaN</td>\n      <td>NaN</td>\n      <td>NaN</td>\n      <td>NaN</td>\n      <td>NaN</td>\n    </tr>\n  </tbody>\n</table>\n<p>4 rows × 82 columns</p>\n</div>"
          },
          "metadata": {}
        }
      ],
      "execution_count": 40
    },
    {
      "cell_type": "markdown",
      "source": "We now have the \"Fact\" in thr top horizintally and the states vertical. We finished exploring this part. \nNow we have to Calculate by dividing the total number of guns by the population for each state. **However**, We just have the 2016 and 2010 are relevant to this data.(from the Fact) \n\nSteps:\n* separate the gun data into two new data based on the year: \n* Merge the gun data with the population data based on the state.\n* Calculate the gun per capita for each state by : dividing the total number of guns /  the population for both 2016 and 2010",
      "metadata": {}
    },
    {
      "cell_type": "markdown",
      "source": "1- separate the gun data into two new data based on the year: ",
      "metadata": {}
    },
    {
      "cell_type": "code",
      "source": "gun10=gun[gun['year'] == 2016]\ngun16=gun[gun['year'] == 2010] ",
      "metadata": {
        "trusted": true
      },
      "outputs": [],
      "execution_count": 41
    },
    {
      "cell_type": "code",
      "source": "gun10.head(2)",
      "metadata": {
        "trusted": true
      },
      "outputs": [
        {
          "execution_count": 42,
          "output_type": "execute_result",
          "data": {
            "text/plain": "       state  permit  permit_recheck  handgun  long_gun  other  multiple  \\\n495  Alabama   26996               0    13733     17519    376       533   \n496   Alaska     254               0     4087      3698    243       191   \n\n     admin  prepawn_handgun  prepawn_long_gun  ...  rentals_long_gun  \\\n495      0               10                 9  ...                 0   \n496      0                3                 1  ...                 0   \n\n     private_sale_handgun  private_sale_long_gun  private_sale_other  \\\n495                     2                      2                   1   \n496                     0                      0                   0   \n\n     return_to_seller_handgun  return_to_seller_long_gun  \\\n495                         0                          0   \n496                         0                          0   \n\n     return_to_seller_other  totals  year  months  \n495                       0   -3522  2016      12  \n496                       0    8786  2016      12  \n\n[2 rows x 28 columns]",
            "text/html": "<div>\n<style scoped>\n    .dataframe tbody tr th:only-of-type {\n        vertical-align: middle;\n    }\n\n    .dataframe tbody tr th {\n        vertical-align: top;\n    }\n\n    .dataframe thead th {\n        text-align: right;\n    }\n</style>\n<table border=\"1\" class=\"dataframe\">\n  <thead>\n    <tr style=\"text-align: right;\">\n      <th></th>\n      <th>state</th>\n      <th>permit</th>\n      <th>permit_recheck</th>\n      <th>handgun</th>\n      <th>long_gun</th>\n      <th>other</th>\n      <th>multiple</th>\n      <th>admin</th>\n      <th>prepawn_handgun</th>\n      <th>prepawn_long_gun</th>\n      <th>...</th>\n      <th>rentals_long_gun</th>\n      <th>private_sale_handgun</th>\n      <th>private_sale_long_gun</th>\n      <th>private_sale_other</th>\n      <th>return_to_seller_handgun</th>\n      <th>return_to_seller_long_gun</th>\n      <th>return_to_seller_other</th>\n      <th>totals</th>\n      <th>year</th>\n      <th>months</th>\n    </tr>\n  </thead>\n  <tbody>\n    <tr>\n      <th>495</th>\n      <td>Alabama</td>\n      <td>26996</td>\n      <td>0</td>\n      <td>13733</td>\n      <td>17519</td>\n      <td>376</td>\n      <td>533</td>\n      <td>0</td>\n      <td>10</td>\n      <td>9</td>\n      <td>...</td>\n      <td>0</td>\n      <td>2</td>\n      <td>2</td>\n      <td>1</td>\n      <td>0</td>\n      <td>0</td>\n      <td>0</td>\n      <td>-3522</td>\n      <td>2016</td>\n      <td>12</td>\n    </tr>\n    <tr>\n      <th>496</th>\n      <td>Alaska</td>\n      <td>254</td>\n      <td>0</td>\n      <td>4087</td>\n      <td>3698</td>\n      <td>243</td>\n      <td>191</td>\n      <td>0</td>\n      <td>3</td>\n      <td>1</td>\n      <td>...</td>\n      <td>0</td>\n      <td>0</td>\n      <td>0</td>\n      <td>0</td>\n      <td>0</td>\n      <td>0</td>\n      <td>0</td>\n      <td>8786</td>\n      <td>2016</td>\n      <td>12</td>\n    </tr>\n  </tbody>\n</table>\n<p>2 rows × 28 columns</p>\n</div>"
          },
          "metadata": {}
        }
      ],
      "execution_count": 42
    },
    {
      "cell_type": "code",
      "source": "gun16.head(2)",
      "metadata": {
        "trusted": true
      },
      "outputs": [
        {
          "execution_count": 43,
          "output_type": "execute_result",
          "data": {
            "text/plain": "        state  permit  permit_recheck  handgun  long_gun  other  multiple  \\\n4455  Alabama     413            <NA>    13978     24298    152       569   \n4456   Alaska       0            <NA>     2553      3950     93       146   \n\n      admin  prepawn_handgun  prepawn_long_gun  ...  rentals_long_gun  \\\n4455      0                6                20  ...              <NA>   \n4456      0                3                 6  ...              <NA>   \n\n      private_sale_handgun  private_sale_long_gun  private_sale_other  \\\n4455                  <NA>                   <NA>                <NA>   \n4456                  <NA>                   <NA>                <NA>   \n\n      return_to_seller_handgun  return_to_seller_long_gun  \\\n4455                      <NA>                       <NA>   \n4456                      <NA>                       <NA>   \n\n      return_to_seller_other  totals  year  months  \n4455                    <NA>  -22270  2010      12  \n4456                    <NA>    7036  2010      12  \n\n[2 rows x 28 columns]",
            "text/html": "<div>\n<style scoped>\n    .dataframe tbody tr th:only-of-type {\n        vertical-align: middle;\n    }\n\n    .dataframe tbody tr th {\n        vertical-align: top;\n    }\n\n    .dataframe thead th {\n        text-align: right;\n    }\n</style>\n<table border=\"1\" class=\"dataframe\">\n  <thead>\n    <tr style=\"text-align: right;\">\n      <th></th>\n      <th>state</th>\n      <th>permit</th>\n      <th>permit_recheck</th>\n      <th>handgun</th>\n      <th>long_gun</th>\n      <th>other</th>\n      <th>multiple</th>\n      <th>admin</th>\n      <th>prepawn_handgun</th>\n      <th>prepawn_long_gun</th>\n      <th>...</th>\n      <th>rentals_long_gun</th>\n      <th>private_sale_handgun</th>\n      <th>private_sale_long_gun</th>\n      <th>private_sale_other</th>\n      <th>return_to_seller_handgun</th>\n      <th>return_to_seller_long_gun</th>\n      <th>return_to_seller_other</th>\n      <th>totals</th>\n      <th>year</th>\n      <th>months</th>\n    </tr>\n  </thead>\n  <tbody>\n    <tr>\n      <th>4455</th>\n      <td>Alabama</td>\n      <td>413</td>\n      <td>&lt;NA&gt;</td>\n      <td>13978</td>\n      <td>24298</td>\n      <td>152</td>\n      <td>569</td>\n      <td>0</td>\n      <td>6</td>\n      <td>20</td>\n      <td>...</td>\n      <td>&lt;NA&gt;</td>\n      <td>&lt;NA&gt;</td>\n      <td>&lt;NA&gt;</td>\n      <td>&lt;NA&gt;</td>\n      <td>&lt;NA&gt;</td>\n      <td>&lt;NA&gt;</td>\n      <td>&lt;NA&gt;</td>\n      <td>-22270</td>\n      <td>2010</td>\n      <td>12</td>\n    </tr>\n    <tr>\n      <th>4456</th>\n      <td>Alaska</td>\n      <td>0</td>\n      <td>&lt;NA&gt;</td>\n      <td>2553</td>\n      <td>3950</td>\n      <td>93</td>\n      <td>146</td>\n      <td>0</td>\n      <td>3</td>\n      <td>6</td>\n      <td>...</td>\n      <td>&lt;NA&gt;</td>\n      <td>&lt;NA&gt;</td>\n      <td>&lt;NA&gt;</td>\n      <td>&lt;NA&gt;</td>\n      <td>&lt;NA&gt;</td>\n      <td>&lt;NA&gt;</td>\n      <td>&lt;NA&gt;</td>\n      <td>7036</td>\n      <td>2010</td>\n      <td>12</td>\n    </tr>\n  </tbody>\n</table>\n<p>2 rows × 28 columns</p>\n</div>"
          },
          "metadata": {}
        }
      ],
      "execution_count": 43
    },
    {
      "cell_type": "code",
      "source": "gun10.info()",
      "metadata": {
        "trusted": true
      },
      "outputs": [
        {
          "name": "stdout",
          "text": "<class 'pandas.core.frame.DataFrame'>\nInt64Index: 660 entries, 495 to 1154\nData columns (total 28 columns):\n #   Column                     Non-Null Count  Dtype \n---  ------                     --------------  ----- \n 0   state                      660 non-null    string\n 1   permit                     660 non-null    Int32 \n 2   permit_recheck             605 non-null    Int32 \n 3   handgun                    660 non-null    Int32 \n 4   long_gun                   660 non-null    Int32 \n 5   other                      660 non-null    Int32 \n 6   multiple                   660 non-null    Int32 \n 7   admin                      660 non-null    Int32 \n 8   prepawn_handgun            660 non-null    Int32 \n 9   prepawn_long_gun           660 non-null    Int32 \n 10  prepawn_other              660 non-null    Int32 \n 11  redemption_handgun         660 non-null    Int32 \n 12  redemption_long_gun        660 non-null    Int32 \n 13  redemption_other           660 non-null    Int32 \n 14  returned_handgun           660 non-null    Int32 \n 15  returned_long_gun          660 non-null    Int32 \n 16  returned_other             660 non-null    Int32 \n 17  rentals_handgun            275 non-null    Int32 \n 18  rentals_long_gun           275 non-null    Int32 \n 19  private_sale_handgun       660 non-null    Int32 \n 20  private_sale_long_gun      660 non-null    Int32 \n 21  private_sale_other         660 non-null    Int32 \n 22  return_to_seller_handgun   660 non-null    Int32 \n 23  return_to_seller_long_gun  660 non-null    Int32 \n 24  return_to_seller_other     660 non-null    Int32 \n 25  totals                     660 non-null    int16 \n 26  year                       660 non-null    int32 \n 27  months                     660 non-null    int32 \ndtypes: Int32(24), int16(1), int32(2), string(1)\nmemory usage: 91.5 KB\n",
          "output_type": "stream"
        }
      ],
      "execution_count": 44
    },
    {
      "cell_type": "code",
      "source": "gun16.info()",
      "metadata": {
        "trusted": true
      },
      "outputs": [
        {
          "name": "stdout",
          "text": "<class 'pandas.core.frame.DataFrame'>\nInt64Index: 660 entries, 4455 to 5114\nData columns (total 28 columns):\n #   Column                     Non-Null Count  Dtype \n---  ------                     --------------  ----- \n 0   state                      660 non-null    string\n 1   permit                     660 non-null    Int32 \n 2   permit_recheck             0 non-null      Int32 \n 3   handgun                    660 non-null    Int32 \n 4   long_gun                   660 non-null    Int32 \n 5   other                      660 non-null    Int32 \n 6   multiple                   660 non-null    Int32 \n 7   admin                      660 non-null    Int32 \n 8   prepawn_handgun            660 non-null    Int32 \n 9   prepawn_long_gun           660 non-null    Int32 \n 10  prepawn_other              660 non-null    Int32 \n 11  redemption_handgun         660 non-null    Int32 \n 12  redemption_long_gun        660 non-null    Int32 \n 13  redemption_other           660 non-null    Int32 \n 14  returned_handgun           0 non-null      Int32 \n 15  returned_long_gun          0 non-null      Int32 \n 16  returned_other             0 non-null      Int32 \n 17  rentals_handgun            0 non-null      Int32 \n 18  rentals_long_gun           0 non-null      Int32 \n 19  private_sale_handgun       0 non-null      Int32 \n 20  private_sale_long_gun      0 non-null      Int32 \n 21  private_sale_other         0 non-null      Int32 \n 22  return_to_seller_handgun   0 non-null      Int32 \n 23  return_to_seller_long_gun  0 non-null      Int32 \n 24  return_to_seller_other     0 non-null      Int32 \n 25  totals                     660 non-null    int16 \n 26  year                       660 non-null    int32 \n 27  months                     660 non-null    int32 \ndtypes: Int32(24), int16(1), int32(2), string(1)\nmemory usage: 91.5 KB\n",
          "output_type": "stream"
        }
      ],
      "execution_count": 45
    },
    {
      "cell_type": "code",
      "source": "gun10.isnull(). sum()",
      "metadata": {
        "trusted": true
      },
      "outputs": [
        {
          "execution_count": 46,
          "output_type": "execute_result",
          "data": {
            "text/plain": "state                          0\npermit                         0\npermit_recheck                55\nhandgun                        0\nlong_gun                       0\nother                          0\nmultiple                       0\nadmin                          0\nprepawn_handgun                0\nprepawn_long_gun               0\nprepawn_other                  0\nredemption_handgun             0\nredemption_long_gun            0\nredemption_other               0\nreturned_handgun               0\nreturned_long_gun              0\nreturned_other                 0\nrentals_handgun              385\nrentals_long_gun             385\nprivate_sale_handgun           0\nprivate_sale_long_gun          0\nprivate_sale_other             0\nreturn_to_seller_handgun       0\nreturn_to_seller_long_gun      0\nreturn_to_seller_other         0\ntotals                         0\nyear                           0\nmonths                         0\ndtype: int64"
          },
          "metadata": {}
        }
      ],
      "execution_count": 46
    },
    {
      "cell_type": "code",
      "source": "gun16.isnull().sum() ",
      "metadata": {
        "trusted": true
      },
      "outputs": [
        {
          "execution_count": 47,
          "output_type": "execute_result",
          "data": {
            "text/plain": "state                          0\npermit                         0\npermit_recheck               660\nhandgun                        0\nlong_gun                       0\nother                          0\nmultiple                       0\nadmin                          0\nprepawn_handgun                0\nprepawn_long_gun               0\nprepawn_other                  0\nredemption_handgun             0\nredemption_long_gun            0\nredemption_other               0\nreturned_handgun             660\nreturned_long_gun            660\nreturned_other               660\nrentals_handgun              660\nrentals_long_gun             660\nprivate_sale_handgun         660\nprivate_sale_long_gun        660\nprivate_sale_other           660\nreturn_to_seller_handgun     660\nreturn_to_seller_long_gun    660\nreturn_to_seller_other       660\ntotals                         0\nyear                           0\nmonths                         0\ndtype: int64"
          },
          "metadata": {}
        }
      ],
      "execution_count": 47
    },
    {
      "cell_type": "code",
      "source": "gun10.describe()",
      "metadata": {
        "trusted": true
      },
      "outputs": [
        {
          "execution_count": 48,
          "output_type": "execute_result",
          "data": {
            "text/plain": "             permit  permit_recheck       handgun     long_gun        other  \\\ncount         660.0           605.0         660.0        660.0        660.0   \nmean   16870.683333      858.289256  12250.754545  9073.501515   888.086364   \nstd    43962.328099     7579.414877  14333.189656  9923.793158  3567.484454   \nmin             0.0             0.0           0.0          0.0          0.0   \n25%          774.25             0.0       2441.75       2971.5         97.0   \n50%          3604.0             0.0        7034.5       5931.0        284.5   \n75%        15769.25             0.0      16485.75      12759.5        883.0   \nmax        358510.0         98970.0       72626.0      93224.0      77929.0   \n\n         multiple      admin  prepawn_handgun  prepawn_long_gun  \\\ncount       660.0      660.0            660.0             660.0   \nmean   390.489394        5.1         3.974242          3.889394   \nstd    549.652997  21.661186         7.246847          6.206478   \nmin           0.0        0.0              0.0               0.0   \n25%           8.0        0.0              0.0               0.0   \n50%         200.5        0.0              0.0               1.0   \n75%         529.0       0.25             5.25               6.0   \nmax        3891.0      205.0             53.0              44.0   \n\n       prepawn_other  ...  rentals_long_gun  private_sale_handgun  \\\ncount          660.0  ...             275.0                 660.0   \nmean        0.243939  ...          0.076364             22.062121   \nstd         0.625369  ...          0.510461                85.235   \nmin              0.0  ...               0.0                   0.0   \n25%              0.0  ...               0.0                   0.0   \n50%              0.0  ...               0.0                   0.0   \n75%              0.0  ...               0.0                   7.0   \nmax              4.0  ...               6.0                 672.0   \n\n       private_sale_long_gun  private_sale_other  return_to_seller_handgun  \\\ncount                  660.0               660.0                     660.0   \nmean               16.730303            1.572727                  0.548485   \nstd                67.566928            5.555829                  1.624662   \nmin                      0.0                 0.0                       0.0   \n25%                      0.0                 0.0                       0.0   \n50%                      0.0                 0.0                       0.0   \n75%                      7.0                 1.0                       0.0   \nmax                    585.0                59.0                      21.0   \n\n       return_to_seller_long_gun  return_to_seller_other        totals  \\\ncount                      660.0                   660.0    660.000000   \nmean                    0.630303                0.107576   2927.284848   \nstd                     1.722736                0.436155  17126.541378   \nmin                          0.0                     0.0 -32716.000000   \n25%                          0.0                     0.0  -7451.500000   \n50%                          0.0                     0.0   5057.500000   \n75%                          0.0                     0.0  14553.750000   \nmax                         15.0                     4.0  32730.000000   \n\n         year      months  \ncount   660.0  660.000000  \nmean   2016.0    6.500000  \nstd       0.0    3.454671  \nmin    2016.0    1.000000  \n25%    2016.0    3.750000  \n50%    2016.0    6.500000  \n75%    2016.0    9.250000  \nmax    2016.0   12.000000  \n\n[8 rows x 27 columns]",
            "text/html": "<div>\n<style scoped>\n    .dataframe tbody tr th:only-of-type {\n        vertical-align: middle;\n    }\n\n    .dataframe tbody tr th {\n        vertical-align: top;\n    }\n\n    .dataframe thead th {\n        text-align: right;\n    }\n</style>\n<table border=\"1\" class=\"dataframe\">\n  <thead>\n    <tr style=\"text-align: right;\">\n      <th></th>\n      <th>permit</th>\n      <th>permit_recheck</th>\n      <th>handgun</th>\n      <th>long_gun</th>\n      <th>other</th>\n      <th>multiple</th>\n      <th>admin</th>\n      <th>prepawn_handgun</th>\n      <th>prepawn_long_gun</th>\n      <th>prepawn_other</th>\n      <th>...</th>\n      <th>rentals_long_gun</th>\n      <th>private_sale_handgun</th>\n      <th>private_sale_long_gun</th>\n      <th>private_sale_other</th>\n      <th>return_to_seller_handgun</th>\n      <th>return_to_seller_long_gun</th>\n      <th>return_to_seller_other</th>\n      <th>totals</th>\n      <th>year</th>\n      <th>months</th>\n    </tr>\n  </thead>\n  <tbody>\n    <tr>\n      <th>count</th>\n      <td>660.0</td>\n      <td>605.0</td>\n      <td>660.0</td>\n      <td>660.0</td>\n      <td>660.0</td>\n      <td>660.0</td>\n      <td>660.0</td>\n      <td>660.0</td>\n      <td>660.0</td>\n      <td>660.0</td>\n      <td>...</td>\n      <td>275.0</td>\n      <td>660.0</td>\n      <td>660.0</td>\n      <td>660.0</td>\n      <td>660.0</td>\n      <td>660.0</td>\n      <td>660.0</td>\n      <td>660.000000</td>\n      <td>660.0</td>\n      <td>660.000000</td>\n    </tr>\n    <tr>\n      <th>mean</th>\n      <td>16870.683333</td>\n      <td>858.289256</td>\n      <td>12250.754545</td>\n      <td>9073.501515</td>\n      <td>888.086364</td>\n      <td>390.489394</td>\n      <td>5.1</td>\n      <td>3.974242</td>\n      <td>3.889394</td>\n      <td>0.243939</td>\n      <td>...</td>\n      <td>0.076364</td>\n      <td>22.062121</td>\n      <td>16.730303</td>\n      <td>1.572727</td>\n      <td>0.548485</td>\n      <td>0.630303</td>\n      <td>0.107576</td>\n      <td>2927.284848</td>\n      <td>2016.0</td>\n      <td>6.500000</td>\n    </tr>\n    <tr>\n      <th>std</th>\n      <td>43962.328099</td>\n      <td>7579.414877</td>\n      <td>14333.189656</td>\n      <td>9923.793158</td>\n      <td>3567.484454</td>\n      <td>549.652997</td>\n      <td>21.661186</td>\n      <td>7.246847</td>\n      <td>6.206478</td>\n      <td>0.625369</td>\n      <td>...</td>\n      <td>0.510461</td>\n      <td>85.235</td>\n      <td>67.566928</td>\n      <td>5.555829</td>\n      <td>1.624662</td>\n      <td>1.722736</td>\n      <td>0.436155</td>\n      <td>17126.541378</td>\n      <td>0.0</td>\n      <td>3.454671</td>\n    </tr>\n    <tr>\n      <th>min</th>\n      <td>0.0</td>\n      <td>0.0</td>\n      <td>0.0</td>\n      <td>0.0</td>\n      <td>0.0</td>\n      <td>0.0</td>\n      <td>0.0</td>\n      <td>0.0</td>\n      <td>0.0</td>\n      <td>0.0</td>\n      <td>...</td>\n      <td>0.0</td>\n      <td>0.0</td>\n      <td>0.0</td>\n      <td>0.0</td>\n      <td>0.0</td>\n      <td>0.0</td>\n      <td>0.0</td>\n      <td>-32716.000000</td>\n      <td>2016.0</td>\n      <td>1.000000</td>\n    </tr>\n    <tr>\n      <th>25%</th>\n      <td>774.25</td>\n      <td>0.0</td>\n      <td>2441.75</td>\n      <td>2971.5</td>\n      <td>97.0</td>\n      <td>8.0</td>\n      <td>0.0</td>\n      <td>0.0</td>\n      <td>0.0</td>\n      <td>0.0</td>\n      <td>...</td>\n      <td>0.0</td>\n      <td>0.0</td>\n      <td>0.0</td>\n      <td>0.0</td>\n      <td>0.0</td>\n      <td>0.0</td>\n      <td>0.0</td>\n      <td>-7451.500000</td>\n      <td>2016.0</td>\n      <td>3.750000</td>\n    </tr>\n    <tr>\n      <th>50%</th>\n      <td>3604.0</td>\n      <td>0.0</td>\n      <td>7034.5</td>\n      <td>5931.0</td>\n      <td>284.5</td>\n      <td>200.5</td>\n      <td>0.0</td>\n      <td>0.0</td>\n      <td>1.0</td>\n      <td>0.0</td>\n      <td>...</td>\n      <td>0.0</td>\n      <td>0.0</td>\n      <td>0.0</td>\n      <td>0.0</td>\n      <td>0.0</td>\n      <td>0.0</td>\n      <td>0.0</td>\n      <td>5057.500000</td>\n      <td>2016.0</td>\n      <td>6.500000</td>\n    </tr>\n    <tr>\n      <th>75%</th>\n      <td>15769.25</td>\n      <td>0.0</td>\n      <td>16485.75</td>\n      <td>12759.5</td>\n      <td>883.0</td>\n      <td>529.0</td>\n      <td>0.25</td>\n      <td>5.25</td>\n      <td>6.0</td>\n      <td>0.0</td>\n      <td>...</td>\n      <td>0.0</td>\n      <td>7.0</td>\n      <td>7.0</td>\n      <td>1.0</td>\n      <td>0.0</td>\n      <td>0.0</td>\n      <td>0.0</td>\n      <td>14553.750000</td>\n      <td>2016.0</td>\n      <td>9.250000</td>\n    </tr>\n    <tr>\n      <th>max</th>\n      <td>358510.0</td>\n      <td>98970.0</td>\n      <td>72626.0</td>\n      <td>93224.0</td>\n      <td>77929.0</td>\n      <td>3891.0</td>\n      <td>205.0</td>\n      <td>53.0</td>\n      <td>44.0</td>\n      <td>4.0</td>\n      <td>...</td>\n      <td>6.0</td>\n      <td>672.0</td>\n      <td>585.0</td>\n      <td>59.0</td>\n      <td>21.0</td>\n      <td>15.0</td>\n      <td>4.0</td>\n      <td>32730.000000</td>\n      <td>2016.0</td>\n      <td>12.000000</td>\n    </tr>\n  </tbody>\n</table>\n<p>8 rows × 27 columns</p>\n</div>"
          },
          "metadata": {}
        }
      ],
      "execution_count": 48
    },
    {
      "cell_type": "markdown",
      "source": "Here, Lets  name the totals , totals 10 ",
      "metadata": {}
    },
    {
      "cell_type": "code",
      "source": "gun10 = gun[gun['year'] == 2010].copy()\ngun10.rename(columns={'totals': 'total_10'}, inplace=True)",
      "metadata": {
        "trusted": true
      },
      "outputs": [],
      "execution_count": 49
    },
    {
      "cell_type": "code",
      "source": "gun10.head(1)",
      "metadata": {
        "trusted": true
      },
      "outputs": [
        {
          "execution_count": 50,
          "output_type": "execute_result",
          "data": {
            "text/plain": "        state  permit  permit_recheck  handgun  long_gun  other  multiple  \\\n4455  Alabama     413            <NA>    13978     24298    152       569   \n\n      admin  prepawn_handgun  prepawn_long_gun  ...  rentals_long_gun  \\\n4455      0                6                20  ...              <NA>   \n\n      private_sale_handgun  private_sale_long_gun  private_sale_other  \\\n4455                  <NA>                   <NA>                <NA>   \n\n      return_to_seller_handgun  return_to_seller_long_gun  \\\n4455                      <NA>                       <NA>   \n\n      return_to_seller_other  total_10  year  months  \n4455                    <NA>    -22270  2010      12  \n\n[1 rows x 28 columns]",
            "text/html": "<div>\n<style scoped>\n    .dataframe tbody tr th:only-of-type {\n        vertical-align: middle;\n    }\n\n    .dataframe tbody tr th {\n        vertical-align: top;\n    }\n\n    .dataframe thead th {\n        text-align: right;\n    }\n</style>\n<table border=\"1\" class=\"dataframe\">\n  <thead>\n    <tr style=\"text-align: right;\">\n      <th></th>\n      <th>state</th>\n      <th>permit</th>\n      <th>permit_recheck</th>\n      <th>handgun</th>\n      <th>long_gun</th>\n      <th>other</th>\n      <th>multiple</th>\n      <th>admin</th>\n      <th>prepawn_handgun</th>\n      <th>prepawn_long_gun</th>\n      <th>...</th>\n      <th>rentals_long_gun</th>\n      <th>private_sale_handgun</th>\n      <th>private_sale_long_gun</th>\n      <th>private_sale_other</th>\n      <th>return_to_seller_handgun</th>\n      <th>return_to_seller_long_gun</th>\n      <th>return_to_seller_other</th>\n      <th>total_10</th>\n      <th>year</th>\n      <th>months</th>\n    </tr>\n  </thead>\n  <tbody>\n    <tr>\n      <th>4455</th>\n      <td>Alabama</td>\n      <td>413</td>\n      <td>&lt;NA&gt;</td>\n      <td>13978</td>\n      <td>24298</td>\n      <td>152</td>\n      <td>569</td>\n      <td>0</td>\n      <td>6</td>\n      <td>20</td>\n      <td>...</td>\n      <td>&lt;NA&gt;</td>\n      <td>&lt;NA&gt;</td>\n      <td>&lt;NA&gt;</td>\n      <td>&lt;NA&gt;</td>\n      <td>&lt;NA&gt;</td>\n      <td>&lt;NA&gt;</td>\n      <td>&lt;NA&gt;</td>\n      <td>-22270</td>\n      <td>2010</td>\n      <td>12</td>\n    </tr>\n  </tbody>\n</table>\n<p>1 rows × 28 columns</p>\n</div>"
          },
          "metadata": {}
        }
      ],
      "execution_count": 50
    },
    {
      "cell_type": "code",
      "source": "gun16.describe()",
      "metadata": {
        "trusted": true
      },
      "outputs": [
        {
          "execution_count": 51,
          "output_type": "execute_result",
          "data": {
            "text/plain": "             permit  permit_recheck      handgun     long_gun       other  \\\ncount         660.0             0.0        660.0        660.0       660.0   \nmean    7400.465152            <NA>  5572.728788  7336.642424   79.940909   \nstd    25620.418249            <NA>   6527.90224  8887.752553  119.424001   \nmin             0.0            <NA>          0.0          0.0         0.0   \n25%             0.0            <NA>        999.5      2197.75         0.0   \n50%           563.0            <NA>       3516.5       4751.5        32.0   \n75%         5759.25            <NA>      7694.25       9781.0      112.25   \nmax        204102.0            <NA>      43197.0      67043.0       939.0   \n\n         multiple      admin  prepawn_handgun  prepawn_long_gun  \\\ncount       660.0      660.0            660.0             660.0   \nmean       273.65  10.228788         4.739394          7.840909   \nstd    421.733629  62.814737        10.133642         14.404744   \nmin           0.0        0.0              0.0               0.0   \n25%          26.0        0.0              0.0               0.0   \n50%         140.5        0.0              0.0               1.0   \n75%        368.25        1.0              5.0               8.0   \nmax        3653.0      631.0             66.0              84.0   \n\n       prepawn_other  ...  rentals_long_gun  private_sale_handgun  \\\ncount          660.0  ...               0.0                   0.0   \nmean        0.042424  ...              <NA>                  <NA>   \nstd         0.236348  ...              <NA>                  <NA>   \nmin              0.0  ...              <NA>                  <NA>   \n25%              0.0  ...              <NA>                  <NA>   \n50%              0.0  ...              <NA>                  <NA>   \n75%              0.0  ...              <NA>                  <NA>   \nmax              3.0  ...              <NA>                  <NA>   \n\n       private_sale_long_gun  private_sale_other  return_to_seller_handgun  \\\ncount                    0.0                 0.0                       0.0   \nmean                    <NA>                <NA>                      <NA>   \nstd                     <NA>                <NA>                      <NA>   \nmin                     <NA>                <NA>                      <NA>   \n25%                     <NA>                <NA>                      <NA>   \n50%                     <NA>                <NA>                      <NA>   \n75%                     <NA>                <NA>                      <NA>   \nmax                     <NA>                <NA>                      <NA>   \n\n       return_to_seller_long_gun  return_to_seller_other        totals  \\\ncount                        0.0                     0.0    660.000000   \nmean                        <NA>                    <NA>   8491.213636   \nstd                         <NA>                    <NA>  13773.938652   \nmin                         <NA>                    <NA> -32711.000000   \n25%                         <NA>                    <NA>   1297.500000   \n50%                         <NA>                    <NA>   8174.500000   \n75%                         <NA>                    <NA>  17900.250000   \nmax                         <NA>                    <NA>  32668.000000   \n\n         year      months  \ncount   660.0  660.000000  \nmean   2010.0    6.500000  \nstd       0.0    3.454671  \nmin    2010.0    1.000000  \n25%    2010.0    3.750000  \n50%    2010.0    6.500000  \n75%    2010.0    9.250000  \nmax    2010.0   12.000000  \n\n[8 rows x 27 columns]",
            "text/html": "<div>\n<style scoped>\n    .dataframe tbody tr th:only-of-type {\n        vertical-align: middle;\n    }\n\n    .dataframe tbody tr th {\n        vertical-align: top;\n    }\n\n    .dataframe thead th {\n        text-align: right;\n    }\n</style>\n<table border=\"1\" class=\"dataframe\">\n  <thead>\n    <tr style=\"text-align: right;\">\n      <th></th>\n      <th>permit</th>\n      <th>permit_recheck</th>\n      <th>handgun</th>\n      <th>long_gun</th>\n      <th>other</th>\n      <th>multiple</th>\n      <th>admin</th>\n      <th>prepawn_handgun</th>\n      <th>prepawn_long_gun</th>\n      <th>prepawn_other</th>\n      <th>...</th>\n      <th>rentals_long_gun</th>\n      <th>private_sale_handgun</th>\n      <th>private_sale_long_gun</th>\n      <th>private_sale_other</th>\n      <th>return_to_seller_handgun</th>\n      <th>return_to_seller_long_gun</th>\n      <th>return_to_seller_other</th>\n      <th>totals</th>\n      <th>year</th>\n      <th>months</th>\n    </tr>\n  </thead>\n  <tbody>\n    <tr>\n      <th>count</th>\n      <td>660.0</td>\n      <td>0.0</td>\n      <td>660.0</td>\n      <td>660.0</td>\n      <td>660.0</td>\n      <td>660.0</td>\n      <td>660.0</td>\n      <td>660.0</td>\n      <td>660.0</td>\n      <td>660.0</td>\n      <td>...</td>\n      <td>0.0</td>\n      <td>0.0</td>\n      <td>0.0</td>\n      <td>0.0</td>\n      <td>0.0</td>\n      <td>0.0</td>\n      <td>0.0</td>\n      <td>660.000000</td>\n      <td>660.0</td>\n      <td>660.000000</td>\n    </tr>\n    <tr>\n      <th>mean</th>\n      <td>7400.465152</td>\n      <td>&lt;NA&gt;</td>\n      <td>5572.728788</td>\n      <td>7336.642424</td>\n      <td>79.940909</td>\n      <td>273.65</td>\n      <td>10.228788</td>\n      <td>4.739394</td>\n      <td>7.840909</td>\n      <td>0.042424</td>\n      <td>...</td>\n      <td>&lt;NA&gt;</td>\n      <td>&lt;NA&gt;</td>\n      <td>&lt;NA&gt;</td>\n      <td>&lt;NA&gt;</td>\n      <td>&lt;NA&gt;</td>\n      <td>&lt;NA&gt;</td>\n      <td>&lt;NA&gt;</td>\n      <td>8491.213636</td>\n      <td>2010.0</td>\n      <td>6.500000</td>\n    </tr>\n    <tr>\n      <th>std</th>\n      <td>25620.418249</td>\n      <td>&lt;NA&gt;</td>\n      <td>6527.90224</td>\n      <td>8887.752553</td>\n      <td>119.424001</td>\n      <td>421.733629</td>\n      <td>62.814737</td>\n      <td>10.133642</td>\n      <td>14.404744</td>\n      <td>0.236348</td>\n      <td>...</td>\n      <td>&lt;NA&gt;</td>\n      <td>&lt;NA&gt;</td>\n      <td>&lt;NA&gt;</td>\n      <td>&lt;NA&gt;</td>\n      <td>&lt;NA&gt;</td>\n      <td>&lt;NA&gt;</td>\n      <td>&lt;NA&gt;</td>\n      <td>13773.938652</td>\n      <td>0.0</td>\n      <td>3.454671</td>\n    </tr>\n    <tr>\n      <th>min</th>\n      <td>0.0</td>\n      <td>&lt;NA&gt;</td>\n      <td>0.0</td>\n      <td>0.0</td>\n      <td>0.0</td>\n      <td>0.0</td>\n      <td>0.0</td>\n      <td>0.0</td>\n      <td>0.0</td>\n      <td>0.0</td>\n      <td>...</td>\n      <td>&lt;NA&gt;</td>\n      <td>&lt;NA&gt;</td>\n      <td>&lt;NA&gt;</td>\n      <td>&lt;NA&gt;</td>\n      <td>&lt;NA&gt;</td>\n      <td>&lt;NA&gt;</td>\n      <td>&lt;NA&gt;</td>\n      <td>-32711.000000</td>\n      <td>2010.0</td>\n      <td>1.000000</td>\n    </tr>\n    <tr>\n      <th>25%</th>\n      <td>0.0</td>\n      <td>&lt;NA&gt;</td>\n      <td>999.5</td>\n      <td>2197.75</td>\n      <td>0.0</td>\n      <td>26.0</td>\n      <td>0.0</td>\n      <td>0.0</td>\n      <td>0.0</td>\n      <td>0.0</td>\n      <td>...</td>\n      <td>&lt;NA&gt;</td>\n      <td>&lt;NA&gt;</td>\n      <td>&lt;NA&gt;</td>\n      <td>&lt;NA&gt;</td>\n      <td>&lt;NA&gt;</td>\n      <td>&lt;NA&gt;</td>\n      <td>&lt;NA&gt;</td>\n      <td>1297.500000</td>\n      <td>2010.0</td>\n      <td>3.750000</td>\n    </tr>\n    <tr>\n      <th>50%</th>\n      <td>563.0</td>\n      <td>&lt;NA&gt;</td>\n      <td>3516.5</td>\n      <td>4751.5</td>\n      <td>32.0</td>\n      <td>140.5</td>\n      <td>0.0</td>\n      <td>0.0</td>\n      <td>1.0</td>\n      <td>0.0</td>\n      <td>...</td>\n      <td>&lt;NA&gt;</td>\n      <td>&lt;NA&gt;</td>\n      <td>&lt;NA&gt;</td>\n      <td>&lt;NA&gt;</td>\n      <td>&lt;NA&gt;</td>\n      <td>&lt;NA&gt;</td>\n      <td>&lt;NA&gt;</td>\n      <td>8174.500000</td>\n      <td>2010.0</td>\n      <td>6.500000</td>\n    </tr>\n    <tr>\n      <th>75%</th>\n      <td>5759.25</td>\n      <td>&lt;NA&gt;</td>\n      <td>7694.25</td>\n      <td>9781.0</td>\n      <td>112.25</td>\n      <td>368.25</td>\n      <td>1.0</td>\n      <td>5.0</td>\n      <td>8.0</td>\n      <td>0.0</td>\n      <td>...</td>\n      <td>&lt;NA&gt;</td>\n      <td>&lt;NA&gt;</td>\n      <td>&lt;NA&gt;</td>\n      <td>&lt;NA&gt;</td>\n      <td>&lt;NA&gt;</td>\n      <td>&lt;NA&gt;</td>\n      <td>&lt;NA&gt;</td>\n      <td>17900.250000</td>\n      <td>2010.0</td>\n      <td>9.250000</td>\n    </tr>\n    <tr>\n      <th>max</th>\n      <td>204102.0</td>\n      <td>&lt;NA&gt;</td>\n      <td>43197.0</td>\n      <td>67043.0</td>\n      <td>939.0</td>\n      <td>3653.0</td>\n      <td>631.0</td>\n      <td>66.0</td>\n      <td>84.0</td>\n      <td>3.0</td>\n      <td>...</td>\n      <td>&lt;NA&gt;</td>\n      <td>&lt;NA&gt;</td>\n      <td>&lt;NA&gt;</td>\n      <td>&lt;NA&gt;</td>\n      <td>&lt;NA&gt;</td>\n      <td>&lt;NA&gt;</td>\n      <td>&lt;NA&gt;</td>\n      <td>32668.000000</td>\n      <td>2010.0</td>\n      <td>12.000000</td>\n    </tr>\n  </tbody>\n</table>\n<p>8 rows × 27 columns</p>\n</div>"
          },
          "metadata": {}
        }
      ],
      "execution_count": 51
    },
    {
      "cell_type": "code",
      "source": "gun16 = gun[gun['year'] == 2016].copy()\ngun16.rename(columns={'totals': 'total_16'}, inplace=True)",
      "metadata": {
        "trusted": true
      },
      "outputs": [],
      "execution_count": 52
    },
    {
      "cell_type": "code",
      "source": "gun16.head(4)",
      "metadata": {
        "trusted": true
      },
      "outputs": [
        {
          "execution_count": 53,
          "output_type": "execute_result",
          "data": {
            "text/plain": "        state  permit  permit_recheck  handgun  long_gun  other  multiple  \\\n495   Alabama   26996               0    13733     17519    376       533   \n496    Alaska     254               0     4087      3698    243       191   \n497   Arizona    8900             121    18024     13785   1180       703   \n498  Arkansas    3294             692     9192     13433    277       385   \n\n     admin  prepawn_handgun  prepawn_long_gun  ...  rentals_long_gun  \\\n495      0               10                 9  ...                 0   \n496      0                3                 1  ...                 0   \n497      0               10                 4  ...                 0   \n498     37                4                 7  ...                 0   \n\n     private_sale_handgun  private_sale_long_gun  private_sale_other  \\\n495                     2                      2                   1   \n496                     0                      0                   0   \n497                     2                      2                   0   \n498                     2                      7                   0   \n\n     return_to_seller_handgun  return_to_seller_long_gun  \\\n495                         0                          0   \n496                         0                          0   \n497                         0                          0   \n498                         0                          0   \n\n     return_to_seller_other  total_16  year  months  \n495                       0     -3522  2016      12  \n496                       0      8786  2016      12  \n497                       0    -20649  2016      12  \n498                       0     29926  2016      12  \n\n[4 rows x 28 columns]",
            "text/html": "<div>\n<style scoped>\n    .dataframe tbody tr th:only-of-type {\n        vertical-align: middle;\n    }\n\n    .dataframe tbody tr th {\n        vertical-align: top;\n    }\n\n    .dataframe thead th {\n        text-align: right;\n    }\n</style>\n<table border=\"1\" class=\"dataframe\">\n  <thead>\n    <tr style=\"text-align: right;\">\n      <th></th>\n      <th>state</th>\n      <th>permit</th>\n      <th>permit_recheck</th>\n      <th>handgun</th>\n      <th>long_gun</th>\n      <th>other</th>\n      <th>multiple</th>\n      <th>admin</th>\n      <th>prepawn_handgun</th>\n      <th>prepawn_long_gun</th>\n      <th>...</th>\n      <th>rentals_long_gun</th>\n      <th>private_sale_handgun</th>\n      <th>private_sale_long_gun</th>\n      <th>private_sale_other</th>\n      <th>return_to_seller_handgun</th>\n      <th>return_to_seller_long_gun</th>\n      <th>return_to_seller_other</th>\n      <th>total_16</th>\n      <th>year</th>\n      <th>months</th>\n    </tr>\n  </thead>\n  <tbody>\n    <tr>\n      <th>495</th>\n      <td>Alabama</td>\n      <td>26996</td>\n      <td>0</td>\n      <td>13733</td>\n      <td>17519</td>\n      <td>376</td>\n      <td>533</td>\n      <td>0</td>\n      <td>10</td>\n      <td>9</td>\n      <td>...</td>\n      <td>0</td>\n      <td>2</td>\n      <td>2</td>\n      <td>1</td>\n      <td>0</td>\n      <td>0</td>\n      <td>0</td>\n      <td>-3522</td>\n      <td>2016</td>\n      <td>12</td>\n    </tr>\n    <tr>\n      <th>496</th>\n      <td>Alaska</td>\n      <td>254</td>\n      <td>0</td>\n      <td>4087</td>\n      <td>3698</td>\n      <td>243</td>\n      <td>191</td>\n      <td>0</td>\n      <td>3</td>\n      <td>1</td>\n      <td>...</td>\n      <td>0</td>\n      <td>0</td>\n      <td>0</td>\n      <td>0</td>\n      <td>0</td>\n      <td>0</td>\n      <td>0</td>\n      <td>8786</td>\n      <td>2016</td>\n      <td>12</td>\n    </tr>\n    <tr>\n      <th>497</th>\n      <td>Arizona</td>\n      <td>8900</td>\n      <td>121</td>\n      <td>18024</td>\n      <td>13785</td>\n      <td>1180</td>\n      <td>703</td>\n      <td>0</td>\n      <td>10</td>\n      <td>4</td>\n      <td>...</td>\n      <td>0</td>\n      <td>2</td>\n      <td>2</td>\n      <td>0</td>\n      <td>0</td>\n      <td>0</td>\n      <td>0</td>\n      <td>-20649</td>\n      <td>2016</td>\n      <td>12</td>\n    </tr>\n    <tr>\n      <th>498</th>\n      <td>Arkansas</td>\n      <td>3294</td>\n      <td>692</td>\n      <td>9192</td>\n      <td>13433</td>\n      <td>277</td>\n      <td>385</td>\n      <td>37</td>\n      <td>4</td>\n      <td>7</td>\n      <td>...</td>\n      <td>0</td>\n      <td>2</td>\n      <td>7</td>\n      <td>0</td>\n      <td>0</td>\n      <td>0</td>\n      <td>0</td>\n      <td>29926</td>\n      <td>2016</td>\n      <td>12</td>\n    </tr>\n  </tbody>\n</table>\n<p>4 rows × 28 columns</p>\n</div>"
          },
          "metadata": {}
        }
      ],
      "execution_count": 53
    },
    {
      "cell_type": "markdown",
      "source": "***Calculate the gun per capita for each state by : dividing the total number of guns /  the population for both 2016 and 2010.***\n\"total_guns_per_state = gun_state['totals'].sum()\nprint(total_guns_per_state) \" \n#### 3. Calculate the gun per capita for each state for both 2016 and 2010\n",
      "metadata": {}
    },
    {
      "cell_type": "markdown",
      "source": "*As we have a limited data about the population, we can just find it in facts, where we said there is 2016 and 2010*",
      "metadata": {}
    },
    {
      "cell_type": "markdown",
      "source": "We have to make this stip to devide correctly and to merge the gun datas in 2016 and 2010 ",
      "metadata": {}
    },
    {
      "cell_type": "code",
      "source": "#Group by gun data by state and gun totals for 2010 and 2016 \nguntotal_16= gun16.groupby(['state'])['total_16'].sum().reset_index()\nguntotal_10= gun10.groupby(['state'])['total_10'].sum().reset_index()\n",
      "metadata": {
        "trusted": true
      },
      "outputs": [],
      "execution_count": 54
    },
    {
      "cell_type": "code",
      "source": "guntotal_16.head(2)",
      "metadata": {
        "trusted": true
      },
      "outputs": [
        {
          "execution_count": 55,
          "output_type": "execute_result",
          "data": {
            "text/plain": "     state  total_16\n0  Alabama   -169485\n1   Alaska     87647",
            "text/html": "<div>\n<style scoped>\n    .dataframe tbody tr th:only-of-type {\n        vertical-align: middle;\n    }\n\n    .dataframe tbody tr th {\n        vertical-align: top;\n    }\n\n    .dataframe thead th {\n        text-align: right;\n    }\n</style>\n<table border=\"1\" class=\"dataframe\">\n  <thead>\n    <tr style=\"text-align: right;\">\n      <th></th>\n      <th>state</th>\n      <th>total_16</th>\n    </tr>\n  </thead>\n  <tbody>\n    <tr>\n      <th>0</th>\n      <td>Alabama</td>\n      <td>-169485</td>\n    </tr>\n    <tr>\n      <th>1</th>\n      <td>Alaska</td>\n      <td>87647</td>\n    </tr>\n  </tbody>\n</table>\n</div>"
          },
          "metadata": {}
        }
      ],
      "execution_count": 55
    },
    {
      "cell_type": "code",
      "source": "guntotal_10.head(2)",
      "metadata": {
        "trusted": true
      },
      "outputs": [
        {
          "execution_count": 56,
          "output_type": "execute_result",
          "data": {
            "text/plain": "     state  total_10\n0  Alabama    243071\n1   Alaska     65909",
            "text/html": "<div>\n<style scoped>\n    .dataframe tbody tr th:only-of-type {\n        vertical-align: middle;\n    }\n\n    .dataframe tbody tr th {\n        vertical-align: top;\n    }\n\n    .dataframe thead th {\n        text-align: right;\n    }\n</style>\n<table border=\"1\" class=\"dataframe\">\n  <thead>\n    <tr style=\"text-align: right;\">\n      <th></th>\n      <th>state</th>\n      <th>total_10</th>\n    </tr>\n  </thead>\n  <tbody>\n    <tr>\n      <th>0</th>\n      <td>Alabama</td>\n      <td>243071</td>\n    </tr>\n    <tr>\n      <th>1</th>\n      <td>Alaska</td>\n      <td>65909</td>\n    </tr>\n  </tbody>\n</table>\n</div>"
          },
          "metadata": {}
        }
      ],
      "execution_count": 56
    },
    {
      "cell_type": "markdown",
      "source": "Here, we Tried to merge the smurries then we noticed that we have to uniform the \"state\" data and the title so we get no errors. ",
      "metadata": {}
    },
    {
      "cell_type": "code",
      "source": "guntotal_16['state'] = guntotal_16['state'].str.strip().str.title()\nguntotal_10['state'] = guntotal_10['state'].str.strip().str.title()\n",
      "metadata": {
        "trusted": true
      },
      "outputs": [],
      "execution_count": 57
    },
    {
      "cell_type": "markdown",
      "source": "Now, Every data grouped by state and total..and to get \"Total number of guns\" as we said, we have to merge them. ",
      "metadata": {}
    },
    {
      "cell_type": "code",
      "source": "#Merge the two summaries\ngun_total_both = pd.merge(guntotal_10, guntotal_16, on='state', how='inner')",
      "metadata": {
        "trusted": true
      },
      "outputs": [],
      "execution_count": 58
    },
    {
      "cell_type": "markdown",
      "source": "*See the result*",
      "metadata": {}
    },
    {
      "cell_type": "code",
      "source": "gun_total_both.head(4)",
      "metadata": {
        "trusted": true
      },
      "outputs": [
        {
          "execution_count": 59,
          "output_type": "execute_result",
          "data": {
            "text/plain": "      state  total_10  total_16\n0   Alabama    243071   -169485\n1    Alaska     65909     87647\n2   Arizona    206050   -108009\n3  Arkansas    191448    266014",
            "text/html": "<div>\n<style scoped>\n    .dataframe tbody tr th:only-of-type {\n        vertical-align: middle;\n    }\n\n    .dataframe tbody tr th {\n        vertical-align: top;\n    }\n\n    .dataframe thead th {\n        text-align: right;\n    }\n</style>\n<table border=\"1\" class=\"dataframe\">\n  <thead>\n    <tr style=\"text-align: right;\">\n      <th></th>\n      <th>state</th>\n      <th>total_10</th>\n      <th>total_16</th>\n    </tr>\n  </thead>\n  <tbody>\n    <tr>\n      <th>0</th>\n      <td>Alabama</td>\n      <td>243071</td>\n      <td>-169485</td>\n    </tr>\n    <tr>\n      <th>1</th>\n      <td>Alaska</td>\n      <td>65909</td>\n      <td>87647</td>\n    </tr>\n    <tr>\n      <th>2</th>\n      <td>Arizona</td>\n      <td>206050</td>\n      <td>-108009</td>\n    </tr>\n    <tr>\n      <th>3</th>\n      <td>Arkansas</td>\n      <td>191448</td>\n      <td>266014</td>\n    </tr>\n  </tbody>\n</table>\n</div>"
          },
          "metadata": {}
        }
      ],
      "execution_count": 59
    },
    {
      "cell_type": "code",
      "source": "census_t. head(2)",
      "metadata": {
        "trusted": true
      },
      "outputs": [
        {
          "execution_count": 60,
          "output_type": "execute_result",
          "data": {
            "text/plain": "                                                   0   \\\nFact     Population estimates, July 1, 2016,  (V2016)   \nAlabama                                     4863300.0   \n\n                                                        1   \\\nFact     Population estimates base, April 1, 2010,  (V2...   \nAlabama                                          4780131.0   \n\n                                                        2   \\\nFact     Population, percent change - April 1, 2010 (es...   \nAlabama                                              170.0   \n\n                                        3   \\\nFact     Population, Census, April 1, 2010   \nAlabama                          4779736.0   \n\n                                                        4   \\\nFact     Persons under 5 years, percent, July 1, 2016, ...   \nAlabama                                              600.0   \n\n                                                    5   \\\nFact     Persons under 5 years, percent, April 1, 2010   \nAlabama                                          640.0   \n\n                                                        6   \\\nFact     Persons under 18 years, percent, July 1, 2016,...   \nAlabama                                             2260.0   \n\n                                                     7   \\\nFact     Persons under 18 years, percent, April 1, 2010   \nAlabama                                          2370.0   \n\n                                                        8   \\\nFact     Persons 65 years and over, percent,  July 1, 2...   \nAlabama                                             1610.0   \n\n                                                        9   ...   74  \\\nFact     Persons 65 years and over, percent, April 1, 2010  ...  (c)   \nAlabama                                             1380.0  ...  NaN   \n\n                  76   77   78   79   80   81   82   83   84  \nFact     Value Flags    -    D    F   FN  NaN    S    X    Z  \nAlabama          NaN  NaN  NaN  NaN  NaN  NaN  NaN  NaN  NaN  \n\n[2 rows x 82 columns]",
            "text/html": "<div>\n<style scoped>\n    .dataframe tbody tr th:only-of-type {\n        vertical-align: middle;\n    }\n\n    .dataframe tbody tr th {\n        vertical-align: top;\n    }\n\n    .dataframe thead th {\n        text-align: right;\n    }\n</style>\n<table border=\"1\" class=\"dataframe\">\n  <thead>\n    <tr style=\"text-align: right;\">\n      <th></th>\n      <th>0</th>\n      <th>1</th>\n      <th>2</th>\n      <th>3</th>\n      <th>4</th>\n      <th>5</th>\n      <th>6</th>\n      <th>7</th>\n      <th>8</th>\n      <th>9</th>\n      <th>...</th>\n      <th>74</th>\n      <th>76</th>\n      <th>77</th>\n      <th>78</th>\n      <th>79</th>\n      <th>80</th>\n      <th>81</th>\n      <th>82</th>\n      <th>83</th>\n      <th>84</th>\n    </tr>\n  </thead>\n  <tbody>\n    <tr>\n      <th>Fact</th>\n      <td>Population estimates, July 1, 2016,  (V2016)</td>\n      <td>Population estimates base, April 1, 2010,  (V2...</td>\n      <td>Population, percent change - April 1, 2010 (es...</td>\n      <td>Population, Census, April 1, 2010</td>\n      <td>Persons under 5 years, percent, July 1, 2016, ...</td>\n      <td>Persons under 5 years, percent, April 1, 2010</td>\n      <td>Persons under 18 years, percent, July 1, 2016,...</td>\n      <td>Persons under 18 years, percent, April 1, 2010</td>\n      <td>Persons 65 years and over, percent,  July 1, 2...</td>\n      <td>Persons 65 years and over, percent, April 1, 2010</td>\n      <td>...</td>\n      <td>(c)</td>\n      <td>Value Flags</td>\n      <td>-</td>\n      <td>D</td>\n      <td>F</td>\n      <td>FN</td>\n      <td>NaN</td>\n      <td>S</td>\n      <td>X</td>\n      <td>Z</td>\n    </tr>\n    <tr>\n      <th>Alabama</th>\n      <td>4863300.0</td>\n      <td>4780131.0</td>\n      <td>170.0</td>\n      <td>4779736.0</td>\n      <td>600.0</td>\n      <td>640.0</td>\n      <td>2260.0</td>\n      <td>2370.0</td>\n      <td>1610.0</td>\n      <td>1380.0</td>\n      <td>...</td>\n      <td>NaN</td>\n      <td>NaN</td>\n      <td>NaN</td>\n      <td>NaN</td>\n      <td>NaN</td>\n      <td>NaN</td>\n      <td>NaN</td>\n      <td>NaN</td>\n      <td>NaN</td>\n      <td>NaN</td>\n    </tr>\n  </tbody>\n</table>\n<p>2 rows × 82 columns</p>\n</div>"
          },
          "metadata": {}
        }
      ],
      "execution_count": 60
    },
    {
      "cell_type": "code",
      "source": "result_1= gun_total_both.merge(total_guns_per_state, on='state', how='inner')\n",
      "metadata": {
        "trusted": true
      },
      "outputs": [],
      "execution_count": 64
    },
    {
      "cell_type": "code",
      "source": "result_1",
      "metadata": {
        "trusted": true
      },
      "outputs": [
        {
          "execution_count": 66,
          "output_type": "execute_result",
          "data": {
            "text/plain": "              state  total_10  total_16   totals\n0           Alabama    243071   -169485  1856415\n1            Alaska     65909     87647  1137643\n2           Arizona    206050   -108009  3311602\n3          Arkansas    191448    266014  3556025\n4        California     29967    -47665  -974417\n5          Colorado    235284   -245918  1798642\n6       Connecticut    179595    186620  2905982\n7          Delaware     19240     59430   491369\n8           Florida   -227085    -71988   620193\n9           Georgia    202175   -173447  1246166\n10             Guam       542      2123    14997\n11           Hawaii     10533     16681   197580\n12            Idaho     92031    156343  1968134\n13         Illinois    -91132   -107546 -1502290\n14          Indiana    280114    126005  2428756\n15             Iowa    124738    202277  2297156\n16           Kansas    144156    196548  2559133\n17         Kentucky     26283    -58705  1647490\n18        Louisiana    173668     -1347  3132193\n19            Maine     65988    111582  1257457\n20  Mariana Islands         0        17      462\n21         Maryland     88162    165367  1970116\n22    Massachusetts    115904    226212  2571321\n23         Michigan    217128   -206827  1290503\n24        Minnesota    231854   -134833  1953895\n25      Mississippi    169873    210625  3379704\n26         Missouri     87528   -154113  1502746\n27          Montana    101095    136337  1884124\n28         Nebraska     58283     88663  1136209\n29           Nevada    104789    147992  1731797\n30    New Hampshire     79940    165164  1583148\n31       New Jersey     50522    121853  1145846\n32       New Mexico    109069    161216  2076591\n33         New York    241495    -53980  3267572\n34   North Carolina    200565   -184987  1486233\n35     North Dakota     47083     72036   947440\n36             Ohio     65570     89292  1122712\n37         Oklahoma    233909    102446  3339270\n38           Oregon    184835    193636  3423381\n39     Pennsylvania   -159755    -36428 -1742796\n40      Puerto Rico      8078     15861   194464\n41     Rhode Island     14835     27758   288870\n42   South Carolina    201628    140834  3096928\n43     South Dakota     63151    111921  1215712\n44        Tennessee     83344    -71658  1019837\n45            Texas    116103    -47746  -749902\n46             Utah     28846    294907  2765409\n47          Vermont     24276     39417   484447\n48   Virgin Islands      1594      1087    15108\n49         Virginia    189711   -192527  2405267\n50       Washington    269806   -137972  1272709\n51    West Virginia    159550    242350  3077817\n52        Wisconsin    194797    -93541  2379213\n53          Wyoming     47709     63594   894306",
            "text/html": "<div>\n<style scoped>\n    .dataframe tbody tr th:only-of-type {\n        vertical-align: middle;\n    }\n\n    .dataframe tbody tr th {\n        vertical-align: top;\n    }\n\n    .dataframe thead th {\n        text-align: right;\n    }\n</style>\n<table border=\"1\" class=\"dataframe\">\n  <thead>\n    <tr style=\"text-align: right;\">\n      <th></th>\n      <th>state</th>\n      <th>total_10</th>\n      <th>total_16</th>\n      <th>totals</th>\n    </tr>\n  </thead>\n  <tbody>\n    <tr>\n      <th>0</th>\n      <td>Alabama</td>\n      <td>243071</td>\n      <td>-169485</td>\n      <td>1856415</td>\n    </tr>\n    <tr>\n      <th>1</th>\n      <td>Alaska</td>\n      <td>65909</td>\n      <td>87647</td>\n      <td>1137643</td>\n    </tr>\n    <tr>\n      <th>2</th>\n      <td>Arizona</td>\n      <td>206050</td>\n      <td>-108009</td>\n      <td>3311602</td>\n    </tr>\n    <tr>\n      <th>3</th>\n      <td>Arkansas</td>\n      <td>191448</td>\n      <td>266014</td>\n      <td>3556025</td>\n    </tr>\n    <tr>\n      <th>4</th>\n      <td>California</td>\n      <td>29967</td>\n      <td>-47665</td>\n      <td>-974417</td>\n    </tr>\n    <tr>\n      <th>5</th>\n      <td>Colorado</td>\n      <td>235284</td>\n      <td>-245918</td>\n      <td>1798642</td>\n    </tr>\n    <tr>\n      <th>6</th>\n      <td>Connecticut</td>\n      <td>179595</td>\n      <td>186620</td>\n      <td>2905982</td>\n    </tr>\n    <tr>\n      <th>7</th>\n      <td>Delaware</td>\n      <td>19240</td>\n      <td>59430</td>\n      <td>491369</td>\n    </tr>\n    <tr>\n      <th>8</th>\n      <td>Florida</td>\n      <td>-227085</td>\n      <td>-71988</td>\n      <td>620193</td>\n    </tr>\n    <tr>\n      <th>9</th>\n      <td>Georgia</td>\n      <td>202175</td>\n      <td>-173447</td>\n      <td>1246166</td>\n    </tr>\n    <tr>\n      <th>10</th>\n      <td>Guam</td>\n      <td>542</td>\n      <td>2123</td>\n      <td>14997</td>\n    </tr>\n    <tr>\n      <th>11</th>\n      <td>Hawaii</td>\n      <td>10533</td>\n      <td>16681</td>\n      <td>197580</td>\n    </tr>\n    <tr>\n      <th>12</th>\n      <td>Idaho</td>\n      <td>92031</td>\n      <td>156343</td>\n      <td>1968134</td>\n    </tr>\n    <tr>\n      <th>13</th>\n      <td>Illinois</td>\n      <td>-91132</td>\n      <td>-107546</td>\n      <td>-1502290</td>\n    </tr>\n    <tr>\n      <th>14</th>\n      <td>Indiana</td>\n      <td>280114</td>\n      <td>126005</td>\n      <td>2428756</td>\n    </tr>\n    <tr>\n      <th>15</th>\n      <td>Iowa</td>\n      <td>124738</td>\n      <td>202277</td>\n      <td>2297156</td>\n    </tr>\n    <tr>\n      <th>16</th>\n      <td>Kansas</td>\n      <td>144156</td>\n      <td>196548</td>\n      <td>2559133</td>\n    </tr>\n    <tr>\n      <th>17</th>\n      <td>Kentucky</td>\n      <td>26283</td>\n      <td>-58705</td>\n      <td>1647490</td>\n    </tr>\n    <tr>\n      <th>18</th>\n      <td>Louisiana</td>\n      <td>173668</td>\n      <td>-1347</td>\n      <td>3132193</td>\n    </tr>\n    <tr>\n      <th>19</th>\n      <td>Maine</td>\n      <td>65988</td>\n      <td>111582</td>\n      <td>1257457</td>\n    </tr>\n    <tr>\n      <th>20</th>\n      <td>Mariana Islands</td>\n      <td>0</td>\n      <td>17</td>\n      <td>462</td>\n    </tr>\n    <tr>\n      <th>21</th>\n      <td>Maryland</td>\n      <td>88162</td>\n      <td>165367</td>\n      <td>1970116</td>\n    </tr>\n    <tr>\n      <th>22</th>\n      <td>Massachusetts</td>\n      <td>115904</td>\n      <td>226212</td>\n      <td>2571321</td>\n    </tr>\n    <tr>\n      <th>23</th>\n      <td>Michigan</td>\n      <td>217128</td>\n      <td>-206827</td>\n      <td>1290503</td>\n    </tr>\n    <tr>\n      <th>24</th>\n      <td>Minnesota</td>\n      <td>231854</td>\n      <td>-134833</td>\n      <td>1953895</td>\n    </tr>\n    <tr>\n      <th>25</th>\n      <td>Mississippi</td>\n      <td>169873</td>\n      <td>210625</td>\n      <td>3379704</td>\n    </tr>\n    <tr>\n      <th>26</th>\n      <td>Missouri</td>\n      <td>87528</td>\n      <td>-154113</td>\n      <td>1502746</td>\n    </tr>\n    <tr>\n      <th>27</th>\n      <td>Montana</td>\n      <td>101095</td>\n      <td>136337</td>\n      <td>1884124</td>\n    </tr>\n    <tr>\n      <th>28</th>\n      <td>Nebraska</td>\n      <td>58283</td>\n      <td>88663</td>\n      <td>1136209</td>\n    </tr>\n    <tr>\n      <th>29</th>\n      <td>Nevada</td>\n      <td>104789</td>\n      <td>147992</td>\n      <td>1731797</td>\n    </tr>\n    <tr>\n      <th>30</th>\n      <td>New Hampshire</td>\n      <td>79940</td>\n      <td>165164</td>\n      <td>1583148</td>\n    </tr>\n    <tr>\n      <th>31</th>\n      <td>New Jersey</td>\n      <td>50522</td>\n      <td>121853</td>\n      <td>1145846</td>\n    </tr>\n    <tr>\n      <th>32</th>\n      <td>New Mexico</td>\n      <td>109069</td>\n      <td>161216</td>\n      <td>2076591</td>\n    </tr>\n    <tr>\n      <th>33</th>\n      <td>New York</td>\n      <td>241495</td>\n      <td>-53980</td>\n      <td>3267572</td>\n    </tr>\n    <tr>\n      <th>34</th>\n      <td>North Carolina</td>\n      <td>200565</td>\n      <td>-184987</td>\n      <td>1486233</td>\n    </tr>\n    <tr>\n      <th>35</th>\n      <td>North Dakota</td>\n      <td>47083</td>\n      <td>72036</td>\n      <td>947440</td>\n    </tr>\n    <tr>\n      <th>36</th>\n      <td>Ohio</td>\n      <td>65570</td>\n      <td>89292</td>\n      <td>1122712</td>\n    </tr>\n    <tr>\n      <th>37</th>\n      <td>Oklahoma</td>\n      <td>233909</td>\n      <td>102446</td>\n      <td>3339270</td>\n    </tr>\n    <tr>\n      <th>38</th>\n      <td>Oregon</td>\n      <td>184835</td>\n      <td>193636</td>\n      <td>3423381</td>\n    </tr>\n    <tr>\n      <th>39</th>\n      <td>Pennsylvania</td>\n      <td>-159755</td>\n      <td>-36428</td>\n      <td>-1742796</td>\n    </tr>\n    <tr>\n      <th>40</th>\n      <td>Puerto Rico</td>\n      <td>8078</td>\n      <td>15861</td>\n      <td>194464</td>\n    </tr>\n    <tr>\n      <th>41</th>\n      <td>Rhode Island</td>\n      <td>14835</td>\n      <td>27758</td>\n      <td>288870</td>\n    </tr>\n    <tr>\n      <th>42</th>\n      <td>South Carolina</td>\n      <td>201628</td>\n      <td>140834</td>\n      <td>3096928</td>\n    </tr>\n    <tr>\n      <th>43</th>\n      <td>South Dakota</td>\n      <td>63151</td>\n      <td>111921</td>\n      <td>1215712</td>\n    </tr>\n    <tr>\n      <th>44</th>\n      <td>Tennessee</td>\n      <td>83344</td>\n      <td>-71658</td>\n      <td>1019837</td>\n    </tr>\n    <tr>\n      <th>45</th>\n      <td>Texas</td>\n      <td>116103</td>\n      <td>-47746</td>\n      <td>-749902</td>\n    </tr>\n    <tr>\n      <th>46</th>\n      <td>Utah</td>\n      <td>28846</td>\n      <td>294907</td>\n      <td>2765409</td>\n    </tr>\n    <tr>\n      <th>47</th>\n      <td>Vermont</td>\n      <td>24276</td>\n      <td>39417</td>\n      <td>484447</td>\n    </tr>\n    <tr>\n      <th>48</th>\n      <td>Virgin Islands</td>\n      <td>1594</td>\n      <td>1087</td>\n      <td>15108</td>\n    </tr>\n    <tr>\n      <th>49</th>\n      <td>Virginia</td>\n      <td>189711</td>\n      <td>-192527</td>\n      <td>2405267</td>\n    </tr>\n    <tr>\n      <th>50</th>\n      <td>Washington</td>\n      <td>269806</td>\n      <td>-137972</td>\n      <td>1272709</td>\n    </tr>\n    <tr>\n      <th>51</th>\n      <td>West Virginia</td>\n      <td>159550</td>\n      <td>242350</td>\n      <td>3077817</td>\n    </tr>\n    <tr>\n      <th>52</th>\n      <td>Wisconsin</td>\n      <td>194797</td>\n      <td>-93541</td>\n      <td>2379213</td>\n    </tr>\n    <tr>\n      <th>53</th>\n      <td>Wyoming</td>\n      <td>47709</td>\n      <td>63594</td>\n      <td>894306</td>\n    </tr>\n  </tbody>\n</table>\n</div>"
          },
          "metadata": {}
        }
      ],
      "execution_count": 66
    },
    {
      "cell_type": "code",
      "source": "result = result_1.merge(census_t, on='state', how='inner')\n",
      "metadata": {
        "trusted": true
      },
      "outputs": [
        {
          "ename": "<class 'KeyError'>",
          "evalue": "'state'",
          "traceback": [
            "\u001b[0;31m---------------------------------------------------------------------------\u001b[0m",
            "\u001b[0;31mKeyError\u001b[0m                                  Traceback (most recent call last)",
            "\u001b[0;32m<ipython-input-65-f91d249db29d>\u001b[0m in \u001b[0;36m?\u001b[0;34m()\u001b[0m\n\u001b[0;32m----> 1\u001b[0;31m \u001b[0mresult\u001b[0m \u001b[0;34m=\u001b[0m \u001b[0mresult_1\u001b[0m\u001b[0;34m.\u001b[0m\u001b[0mmerge\u001b[0m\u001b[0;34m(\u001b[0m\u001b[0mcensus_t\u001b[0m\u001b[0;34m,\u001b[0m \u001b[0mon\u001b[0m\u001b[0;34m=\u001b[0m\u001b[0;34m'state'\u001b[0m\u001b[0;34m,\u001b[0m \u001b[0mhow\u001b[0m\u001b[0;34m=\u001b[0m\u001b[0;34m'inner'\u001b[0m\u001b[0;34m)\u001b[0m\u001b[0;34m\u001b[0m\u001b[0;34m\u001b[0m\u001b[0m\n\u001b[0m",
            "\u001b[0;32m/lib/python3.11/site-packages/pandas/core/frame.py\u001b[0m in \u001b[0;36m?\u001b[0;34m(self, right, how, on, left_on, right_on, left_index, right_index, sort, suffixes, copy, indicator, validate)\u001b[0m\n\u001b[1;32m  10089\u001b[0m         \u001b[0mvalidate\u001b[0m\u001b[0;34m:\u001b[0m \u001b[0mstr\u001b[0m \u001b[0;34m|\u001b[0m \u001b[0;32mNone\u001b[0m \u001b[0;34m=\u001b[0m \u001b[0;32mNone\u001b[0m\u001b[0;34m,\u001b[0m\u001b[0;34m\u001b[0m\u001b[0;34m\u001b[0m\u001b[0m\n\u001b[1;32m  10090\u001b[0m     ) -> DataFrame:\n\u001b[1;32m  10091\u001b[0m         \u001b[0;32mfrom\u001b[0m \u001b[0mpandas\u001b[0m\u001b[0;34m.\u001b[0m\u001b[0mcore\u001b[0m\u001b[0;34m.\u001b[0m\u001b[0mreshape\u001b[0m\u001b[0;34m.\u001b[0m\u001b[0mmerge\u001b[0m \u001b[0;32mimport\u001b[0m \u001b[0mmerge\u001b[0m\u001b[0;34m\u001b[0m\u001b[0;34m\u001b[0m\u001b[0m\n\u001b[1;32m  10092\u001b[0m \u001b[0;34m\u001b[0m\u001b[0m\n\u001b[0;32m> 10093\u001b[0;31m         return merge(\n\u001b[0m\u001b[1;32m  10094\u001b[0m             \u001b[0mself\u001b[0m\u001b[0;34m,\u001b[0m\u001b[0;34m\u001b[0m\u001b[0;34m\u001b[0m\u001b[0m\n\u001b[1;32m  10095\u001b[0m             \u001b[0mright\u001b[0m\u001b[0;34m,\u001b[0m\u001b[0;34m\u001b[0m\u001b[0;34m\u001b[0m\u001b[0m\n\u001b[1;32m  10096\u001b[0m             \u001b[0mhow\u001b[0m\u001b[0;34m=\u001b[0m\u001b[0mhow\u001b[0m\u001b[0;34m,\u001b[0m\u001b[0;34m\u001b[0m\u001b[0;34m\u001b[0m\u001b[0m\n",
            "\u001b[0;32m/lib/python3.11/site-packages/pandas/core/reshape/merge.py\u001b[0m in \u001b[0;36m?\u001b[0;34m(left, right, how, on, left_on, right_on, left_index, right_index, sort, suffixes, copy, indicator, validate)\u001b[0m\n\u001b[1;32m    106\u001b[0m     \u001b[0mcopy\u001b[0m\u001b[0;34m:\u001b[0m \u001b[0mbool\u001b[0m \u001b[0;34m=\u001b[0m \u001b[0;32mTrue\u001b[0m\u001b[0;34m,\u001b[0m\u001b[0;34m\u001b[0m\u001b[0;34m\u001b[0m\u001b[0m\n\u001b[1;32m    107\u001b[0m     \u001b[0mindicator\u001b[0m\u001b[0;34m:\u001b[0m \u001b[0mbool\u001b[0m \u001b[0;34m=\u001b[0m \u001b[0;32mFalse\u001b[0m\u001b[0;34m,\u001b[0m\u001b[0;34m\u001b[0m\u001b[0;34m\u001b[0m\u001b[0m\n\u001b[1;32m    108\u001b[0m     \u001b[0mvalidate\u001b[0m\u001b[0;34m:\u001b[0m \u001b[0mstr\u001b[0m \u001b[0;34m|\u001b[0m \u001b[0;32mNone\u001b[0m \u001b[0;34m=\u001b[0m \u001b[0;32mNone\u001b[0m\u001b[0;34m,\u001b[0m\u001b[0;34m\u001b[0m\u001b[0;34m\u001b[0m\u001b[0m\n\u001b[1;32m    109\u001b[0m ) -> DataFrame:\n\u001b[0;32m--> 110\u001b[0;31m     op = _MergeOperation(\n\u001b[0m\u001b[1;32m    111\u001b[0m         \u001b[0mleft\u001b[0m\u001b[0;34m,\u001b[0m\u001b[0;34m\u001b[0m\u001b[0;34m\u001b[0m\u001b[0m\n\u001b[1;32m    112\u001b[0m         \u001b[0mright\u001b[0m\u001b[0;34m,\u001b[0m\u001b[0;34m\u001b[0m\u001b[0;34m\u001b[0m\u001b[0m\n\u001b[1;32m    113\u001b[0m         \u001b[0mhow\u001b[0m\u001b[0;34m=\u001b[0m\u001b[0mhow\u001b[0m\u001b[0;34m,\u001b[0m\u001b[0;34m\u001b[0m\u001b[0;34m\u001b[0m\u001b[0m\n",
            "\u001b[0;32m/lib/python3.11/site-packages/pandas/core/reshape/merge.py\u001b[0m in \u001b[0;36m?\u001b[0;34m(self, left, right, how, on, left_on, right_on, axis, left_index, right_index, sort, suffixes, indicator, validate)\u001b[0m\n\u001b[1;32m    699\u001b[0m         (\n\u001b[1;32m    700\u001b[0m             \u001b[0mself\u001b[0m\u001b[0;34m.\u001b[0m\u001b[0mleft_join_keys\u001b[0m\u001b[0;34m,\u001b[0m\u001b[0;34m\u001b[0m\u001b[0;34m\u001b[0m\u001b[0m\n\u001b[1;32m    701\u001b[0m             \u001b[0mself\u001b[0m\u001b[0;34m.\u001b[0m\u001b[0mright_join_keys\u001b[0m\u001b[0;34m,\u001b[0m\u001b[0;34m\u001b[0m\u001b[0;34m\u001b[0m\u001b[0m\n\u001b[1;32m    702\u001b[0m             \u001b[0mself\u001b[0m\u001b[0;34m.\u001b[0m\u001b[0mjoin_names\u001b[0m\u001b[0;34m,\u001b[0m\u001b[0;34m\u001b[0m\u001b[0;34m\u001b[0m\u001b[0m\n\u001b[0;32m--> 703\u001b[0;31m         ) = self._get_merge_keys()\n\u001b[0m\u001b[1;32m    704\u001b[0m \u001b[0;34m\u001b[0m\u001b[0m\n\u001b[1;32m    705\u001b[0m         \u001b[0;31m# validate the merge keys dtypes. We may need to coerce\u001b[0m\u001b[0;34m\u001b[0m\u001b[0;34m\u001b[0m\u001b[0m\n\u001b[1;32m    706\u001b[0m         \u001b[0;31m# to avoid incompatible dtypes\u001b[0m\u001b[0;34m\u001b[0m\u001b[0;34m\u001b[0m\u001b[0m\n",
            "\u001b[0;32m/lib/python3.11/site-packages/pandas/core/reshape/merge.py\u001b[0m in \u001b[0;36m?\u001b[0;34m(self)\u001b[0m\n\u001b[1;32m   1158\u001b[0m                         \u001b[0;31m# Then we're either Hashable or a wrong-length arraylike,\u001b[0m\u001b[0;34m\u001b[0m\u001b[0;34m\u001b[0m\u001b[0m\n\u001b[1;32m   1159\u001b[0m                         \u001b[0;31m#  the latter of which will raise\u001b[0m\u001b[0;34m\u001b[0m\u001b[0;34m\u001b[0m\u001b[0m\n\u001b[1;32m   1160\u001b[0m                         \u001b[0mrk\u001b[0m \u001b[0;34m=\u001b[0m \u001b[0mcast\u001b[0m\u001b[0;34m(\u001b[0m\u001b[0mHashable\u001b[0m\u001b[0;34m,\u001b[0m \u001b[0mrk\u001b[0m\u001b[0;34m)\u001b[0m\u001b[0;34m\u001b[0m\u001b[0;34m\u001b[0m\u001b[0m\n\u001b[1;32m   1161\u001b[0m                         \u001b[0;32mif\u001b[0m \u001b[0mrk\u001b[0m \u001b[0;32mis\u001b[0m \u001b[0;32mnot\u001b[0m \u001b[0;32mNone\u001b[0m\u001b[0;34m:\u001b[0m\u001b[0;34m\u001b[0m\u001b[0;34m\u001b[0m\u001b[0m\n\u001b[0;32m-> 1162\u001b[0;31m                             \u001b[0mright_keys\u001b[0m\u001b[0;34m.\u001b[0m\u001b[0mappend\u001b[0m\u001b[0;34m(\u001b[0m\u001b[0mright\u001b[0m\u001b[0;34m.\u001b[0m\u001b[0m_get_label_or_level_values\u001b[0m\u001b[0;34m(\u001b[0m\u001b[0mrk\u001b[0m\u001b[0;34m)\u001b[0m\u001b[0;34m)\u001b[0m\u001b[0;34m\u001b[0m\u001b[0;34m\u001b[0m\u001b[0m\n\u001b[0m\u001b[1;32m   1163\u001b[0m                         \u001b[0;32melse\u001b[0m\u001b[0;34m:\u001b[0m\u001b[0;34m\u001b[0m\u001b[0;34m\u001b[0m\u001b[0m\n\u001b[1;32m   1164\u001b[0m                             \u001b[0;31m# work-around for merge_asof(right_index=True)\u001b[0m\u001b[0;34m\u001b[0m\u001b[0;34m\u001b[0m\u001b[0m\n\u001b[1;32m   1165\u001b[0m                             \u001b[0mright_keys\u001b[0m\u001b[0;34m.\u001b[0m\u001b[0mappend\u001b[0m\u001b[0;34m(\u001b[0m\u001b[0mright\u001b[0m\u001b[0;34m.\u001b[0m\u001b[0mindex\u001b[0m\u001b[0;34m)\u001b[0m\u001b[0;34m\u001b[0m\u001b[0;34m\u001b[0m\u001b[0m\n",
            "\u001b[0;32m/lib/python3.11/site-packages/pandas/core/generic.py\u001b[0m in \u001b[0;36m?\u001b[0;34m(self, key, axis)\u001b[0m\n\u001b[1;32m   1846\u001b[0m                 \u001b[0;34m.\u001b[0m\u001b[0mget_level_values\u001b[0m\u001b[0;34m(\u001b[0m\u001b[0mkey\u001b[0m\u001b[0;34m)\u001b[0m  \u001b[0;31m# type: ignore[assignment]\u001b[0m\u001b[0;34m\u001b[0m\u001b[0;34m\u001b[0m\u001b[0m\n\u001b[1;32m   1847\u001b[0m                 \u001b[0;34m.\u001b[0m\u001b[0m_values\u001b[0m\u001b[0;34m\u001b[0m\u001b[0;34m\u001b[0m\u001b[0m\n\u001b[1;32m   1848\u001b[0m             )\n\u001b[1;32m   1849\u001b[0m         \u001b[0;32melse\u001b[0m\u001b[0;34m:\u001b[0m\u001b[0;34m\u001b[0m\u001b[0;34m\u001b[0m\u001b[0m\n\u001b[0;32m-> 1850\u001b[0;31m             \u001b[0;32mraise\u001b[0m \u001b[0mKeyError\u001b[0m\u001b[0;34m(\u001b[0m\u001b[0mkey\u001b[0m\u001b[0;34m)\u001b[0m\u001b[0;34m\u001b[0m\u001b[0;34m\u001b[0m\u001b[0m\n\u001b[0m\u001b[1;32m   1851\u001b[0m \u001b[0;34m\u001b[0m\u001b[0m\n\u001b[1;32m   1852\u001b[0m         \u001b[0;31m# Check for duplicates\u001b[0m\u001b[0;34m\u001b[0m\u001b[0;34m\u001b[0m\u001b[0m\n\u001b[1;32m   1853\u001b[0m         \u001b[0;32mif\u001b[0m \u001b[0mvalues\u001b[0m\u001b[0;34m.\u001b[0m\u001b[0mndim\u001b[0m \u001b[0;34m>\u001b[0m \u001b[0;36m1\u001b[0m\u001b[0;34m:\u001b[0m\u001b[0;34m\u001b[0m\u001b[0;34m\u001b[0m\u001b[0m\n",
            "\u001b[0;31mKeyError\u001b[0m: 'state'"
          ],
          "output_type": "error"
        }
      ],
      "execution_count": 65
    },
    {
      "cell_type": "code",
      "source": "",
      "metadata": {
        "trusted": true
      },
      "outputs": [],
      "execution_count": null
    }
  ]
}