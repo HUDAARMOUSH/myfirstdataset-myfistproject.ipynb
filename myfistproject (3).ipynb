{
  "metadata": {
    "kernelspec": {
      "name": "python",
      "display_name": "Python (Pyodide)",
      "language": "python"
    },
    "language_info": {
      "codemirror_mode": {
        "name": "python",
        "version": 3
      },
      "file_extension": ".py",
      "mimetype": "text/x-python",
      "name": "python",
      "nbconvert_exporter": "python",
      "pygments_lexer": "ipython3",
      "version": "3.8"
    }
  },
  "nbformat_minor": 4,
  "nbformat": 4,
  "cells": [
    {
      "cell_type": "markdown",
      "source": "<a id='intro'></a>\n## Introduction\n\n### Dataset Description \n\n> In this project we have two data sets about Gun usage in USA, the first data(Gun data == gun) is about every state in USA and number of permit to use guns, and the numbers and kinds of guns (guns, long guns) and the statues of it like (returned, rented, private, redumption and prepawn) that is used in that state, since Nov. 1998 to Septemper 2017. The other data set, we have diffrent facts - there are 65 differnt census measurement as value of Fact- not so related to the gun owning. however it provides us some facts are related and we will use them to anylysis of the first data for answering the questions too.\n\n\n### Question(s) for Analysis\n> 1.What census variable or fact value is most associated with high gun per capita per state? Ceusus data includes state as variable, . \n\n> 2.Which states have had the highest growth and the lowest growth in gun registrations from Apr 2010 to Jul 2016?\n\n> 3.What is the overall trend of gun purchases by year or by year and month?",
      "metadata": {}
    },
    {
      "cell_type": "code",
      "source": "#   plan to use.\nimport pandas as pd\nimport numpy as np",
      "metadata": {
        "trusted": true
      },
      "outputs": [],
      "execution_count": 73
    },
    {
      "cell_type": "markdown",
      "source": "<a id='wrangling'></a>\n## Data Wrangling\n\n> Upload the data, read it, and see the information of every data set. ",
      "metadata": {}
    },
    {
      "cell_type": "code",
      "source": "census = pd.read_csv('US_census.csv')\ngun = pd.read_csv('gun-data.csv') ",
      "metadata": {
        "trusted": true
      },
      "outputs": [],
      "execution_count": 122
    },
    {
      "cell_type": "code",
      "source": "census.head(2)",
      "metadata": {
        "trusted": true
      },
      "outputs": [
        {
          "execution_count": 123,
          "output_type": "execute_result",
          "data": {
            "text/plain": "                                                Fact Fact Note    Alabama  \\\n0       Population estimates, July 1, 2016,  (V2016)       NaN  4,863,300   \n1  Population estimates base, April 1, 2010,  (V2...       NaN  4,780,131   \n\n    Alaska    Arizona   Arkansas  California   Colorado Connecticut Delaware  \\\n0  741,894  6,931,071  2,988,248  39,250,017  5,540,545   3,576,452  952,065   \n1  710,249  6,392,301  2,916,025  37,254,522  5,029,324   3,574,114  897,936   \n\n   ... South Dakota Tennessee       Texas       Utah  Vermont   Virginia  \\\n0  ...       865454   6651194  27,862,596  3,051,217  624,594  8,411,808   \n1  ...       814195   6346298  25,146,100  2,763,888  625,741  8,001,041   \n\n  Washington West Virginia  Wisconsin  Wyoming  \n0  7,288,000     1,831,102  5,778,708  585,501  \n1  6,724,545     1,853,011  5,687,289  563,767  \n\n[2 rows x 52 columns]",
            "text/html": "<div>\n<style scoped>\n    .dataframe tbody tr th:only-of-type {\n        vertical-align: middle;\n    }\n\n    .dataframe tbody tr th {\n        vertical-align: top;\n    }\n\n    .dataframe thead th {\n        text-align: right;\n    }\n</style>\n<table border=\"1\" class=\"dataframe\">\n  <thead>\n    <tr style=\"text-align: right;\">\n      <th></th>\n      <th>Fact</th>\n      <th>Fact Note</th>\n      <th>Alabama</th>\n      <th>Alaska</th>\n      <th>Arizona</th>\n      <th>Arkansas</th>\n      <th>California</th>\n      <th>Colorado</th>\n      <th>Connecticut</th>\n      <th>Delaware</th>\n      <th>...</th>\n      <th>South Dakota</th>\n      <th>Tennessee</th>\n      <th>Texas</th>\n      <th>Utah</th>\n      <th>Vermont</th>\n      <th>Virginia</th>\n      <th>Washington</th>\n      <th>West Virginia</th>\n      <th>Wisconsin</th>\n      <th>Wyoming</th>\n    </tr>\n  </thead>\n  <tbody>\n    <tr>\n      <th>0</th>\n      <td>Population estimates, July 1, 2016,  (V2016)</td>\n      <td>NaN</td>\n      <td>4,863,300</td>\n      <td>741,894</td>\n      <td>6,931,071</td>\n      <td>2,988,248</td>\n      <td>39,250,017</td>\n      <td>5,540,545</td>\n      <td>3,576,452</td>\n      <td>952,065</td>\n      <td>...</td>\n      <td>865454</td>\n      <td>6651194</td>\n      <td>27,862,596</td>\n      <td>3,051,217</td>\n      <td>624,594</td>\n      <td>8,411,808</td>\n      <td>7,288,000</td>\n      <td>1,831,102</td>\n      <td>5,778,708</td>\n      <td>585,501</td>\n    </tr>\n    <tr>\n      <th>1</th>\n      <td>Population estimates base, April 1, 2010,  (V2...</td>\n      <td>NaN</td>\n      <td>4,780,131</td>\n      <td>710,249</td>\n      <td>6,392,301</td>\n      <td>2,916,025</td>\n      <td>37,254,522</td>\n      <td>5,029,324</td>\n      <td>3,574,114</td>\n      <td>897,936</td>\n      <td>...</td>\n      <td>814195</td>\n      <td>6346298</td>\n      <td>25,146,100</td>\n      <td>2,763,888</td>\n      <td>625,741</td>\n      <td>8,001,041</td>\n      <td>6,724,545</td>\n      <td>1,853,011</td>\n      <td>5,687,289</td>\n      <td>563,767</td>\n    </tr>\n  </tbody>\n</table>\n<p>2 rows × 52 columns</p>\n</div>"
          },
          "metadata": {}
        }
      ],
      "execution_count": 123
    },
    {
      "cell_type": "code",
      "source": "gun.head(2)",
      "metadata": {
        "trusted": true
      },
      "outputs": [
        {
          "execution_count": 76,
          "output_type": "execute_result",
          "data": {
            "text/plain": "     month    state   permit  permit_recheck  handgun  long_gun  other  \\\n0  2017-09  Alabama  16717.0             0.0   5734.0    6320.0  221.0   \n1  2017-09   Alaska    209.0             2.0   2320.0    2930.0  219.0   \n\n   multiple  admin  prepawn_handgun  ...  returned_other  rentals_handgun  \\\n0       317    0.0             15.0  ...             0.0              0.0   \n1       160    0.0              5.0  ...             0.0              0.0   \n\n   rentals_long_gun  private_sale_handgun  private_sale_long_gun  \\\n0               0.0                   9.0                   16.0   \n1               0.0                  17.0                   24.0   \n\n   private_sale_other  return_to_seller_handgun  return_to_seller_long_gun  \\\n0                 3.0                       0.0                        0.0   \n1                 1.0                       0.0                        0.0   \n\n   return_to_seller_other  totals  \n0                     3.0   32019  \n1                     0.0    6303  \n\n[2 rows x 27 columns]",
            "text/html": "<div>\n<style scoped>\n    .dataframe tbody tr th:only-of-type {\n        vertical-align: middle;\n    }\n\n    .dataframe tbody tr th {\n        vertical-align: top;\n    }\n\n    .dataframe thead th {\n        text-align: right;\n    }\n</style>\n<table border=\"1\" class=\"dataframe\">\n  <thead>\n    <tr style=\"text-align: right;\">\n      <th></th>\n      <th>month</th>\n      <th>state</th>\n      <th>permit</th>\n      <th>permit_recheck</th>\n      <th>handgun</th>\n      <th>long_gun</th>\n      <th>other</th>\n      <th>multiple</th>\n      <th>admin</th>\n      <th>prepawn_handgun</th>\n      <th>...</th>\n      <th>returned_other</th>\n      <th>rentals_handgun</th>\n      <th>rentals_long_gun</th>\n      <th>private_sale_handgun</th>\n      <th>private_sale_long_gun</th>\n      <th>private_sale_other</th>\n      <th>return_to_seller_handgun</th>\n      <th>return_to_seller_long_gun</th>\n      <th>return_to_seller_other</th>\n      <th>totals</th>\n    </tr>\n  </thead>\n  <tbody>\n    <tr>\n      <th>0</th>\n      <td>2017-09</td>\n      <td>Alabama</td>\n      <td>16717.0</td>\n      <td>0.0</td>\n      <td>5734.0</td>\n      <td>6320.0</td>\n      <td>221.0</td>\n      <td>317</td>\n      <td>0.0</td>\n      <td>15.0</td>\n      <td>...</td>\n      <td>0.0</td>\n      <td>0.0</td>\n      <td>0.0</td>\n      <td>9.0</td>\n      <td>16.0</td>\n      <td>3.0</td>\n      <td>0.0</td>\n      <td>0.0</td>\n      <td>3.0</td>\n      <td>32019</td>\n    </tr>\n    <tr>\n      <th>1</th>\n      <td>2017-09</td>\n      <td>Alaska</td>\n      <td>209.0</td>\n      <td>2.0</td>\n      <td>2320.0</td>\n      <td>2930.0</td>\n      <td>219.0</td>\n      <td>160</td>\n      <td>0.0</td>\n      <td>5.0</td>\n      <td>...</td>\n      <td>0.0</td>\n      <td>0.0</td>\n      <td>0.0</td>\n      <td>17.0</td>\n      <td>24.0</td>\n      <td>1.0</td>\n      <td>0.0</td>\n      <td>0.0</td>\n      <td>0.0</td>\n      <td>6303</td>\n    </tr>\n  </tbody>\n</table>\n<p>2 rows × 27 columns</p>\n</div>"
          },
          "metadata": {}
        }
      ],
      "execution_count": 76
    },
    {
      "cell_type": "markdown",
      "source": "***A.1 ) Check the types of the data***",
      "metadata": {}
    },
    {
      "cell_type": "code",
      "source": "gun.info()",
      "metadata": {
        "trusted": true
      },
      "outputs": [
        {
          "name": "stdout",
          "text": "<class 'pandas.core.frame.DataFrame'>\nRangeIndex: 12485 entries, 0 to 12484\nData columns (total 27 columns):\n #   Column                     Non-Null Count  Dtype  \n---  ------                     --------------  -----  \n 0   month                      12485 non-null  object \n 1   state                      12485 non-null  object \n 2   permit                     12461 non-null  float64\n 3   permit_recheck             1100 non-null   float64\n 4   handgun                    12465 non-null  float64\n 5   long_gun                   12466 non-null  float64\n 6   other                      5500 non-null   float64\n 7   multiple                   12485 non-null  int64  \n 8   admin                      12462 non-null  float64\n 9   prepawn_handgun            10542 non-null  float64\n 10  prepawn_long_gun           10540 non-null  float64\n 11  prepawn_other              5115 non-null   float64\n 12  redemption_handgun         10545 non-null  float64\n 13  redemption_long_gun        10544 non-null  float64\n 14  redemption_other           5115 non-null   float64\n 15  returned_handgun           2200 non-null   float64\n 16  returned_long_gun          2145 non-null   float64\n 17  returned_other             1815 non-null   float64\n 18  rentals_handgun            990 non-null    float64\n 19  rentals_long_gun           825 non-null    float64\n 20  private_sale_handgun       2750 non-null   float64\n 21  private_sale_long_gun      2750 non-null   float64\n 22  private_sale_other         2750 non-null   float64\n 23  return_to_seller_handgun   2475 non-null   float64\n 24  return_to_seller_long_gun  2750 non-null   float64\n 25  return_to_seller_other     2255 non-null   float64\n 26  totals                     12485 non-null  int64  \ndtypes: float64(23), int64(2), object(2)\nmemory usage: 2.5+ MB\n",
          "output_type": "stream"
        }
      ],
      "execution_count": 77
    },
    {
      "cell_type": "markdown",
      "source": "**Facts about the data**\n\n* We can see that the columns of the gun data are 27, and 12485 rows.*\n\n* there are a lot of missing values like in the permit recheck, \"others\", \"pre pawn others\", \"redemption others\", \"returned hund gun\"....\" *\n\n* All the floats should be int. and we have to reduce the memory usage* ",
      "metadata": {}
    },
    {
      "cell_type": "markdown",
      "source": "# Cleaning Data # \n---------\n",
      "metadata": {}
    },
    {
      "cell_type": "markdown",
      "source": "__Change the type, from float to int.__",
      "metadata": {}
    },
    {
      "cell_type": "code",
      "source": "gun[gun.select_dtypes('int64').columns] = gun.select_dtypes('int64').astype('int16')",
      "metadata": {
        "trusted": true
      },
      "outputs": [],
      "execution_count": 78
    },
    {
      "cell_type": "markdown",
      "source": "*make sure of the changes*",
      "metadata": {}
    },
    {
      "cell_type": "code",
      "source": "gun.info()",
      "metadata": {
        "trusted": true
      },
      "outputs": [
        {
          "name": "stdout",
          "text": "<class 'pandas.core.frame.DataFrame'>\nRangeIndex: 12485 entries, 0 to 12484\nData columns (total 27 columns):\n #   Column                     Non-Null Count  Dtype  \n---  ------                     --------------  -----  \n 0   month                      12485 non-null  object \n 1   state                      12485 non-null  object \n 2   permit                     12461 non-null  float64\n 3   permit_recheck             1100 non-null   float64\n 4   handgun                    12465 non-null  float64\n 5   long_gun                   12466 non-null  float64\n 6   other                      5500 non-null   float64\n 7   multiple                   12485 non-null  int16  \n 8   admin                      12462 non-null  float64\n 9   prepawn_handgun            10542 non-null  float64\n 10  prepawn_long_gun           10540 non-null  float64\n 11  prepawn_other              5115 non-null   float64\n 12  redemption_handgun         10545 non-null  float64\n 13  redemption_long_gun        10544 non-null  float64\n 14  redemption_other           5115 non-null   float64\n 15  returned_handgun           2200 non-null   float64\n 16  returned_long_gun          2145 non-null   float64\n 17  returned_other             1815 non-null   float64\n 18  rentals_handgun            990 non-null    float64\n 19  rentals_long_gun           825 non-null    float64\n 20  private_sale_handgun       2750 non-null   float64\n 21  private_sale_long_gun      2750 non-null   float64\n 22  private_sale_other         2750 non-null   float64\n 23  return_to_seller_handgun   2475 non-null   float64\n 24  return_to_seller_long_gun  2750 non-null   float64\n 25  return_to_seller_other     2255 non-null   float64\n 26  totals                     12485 non-null  int16  \ndtypes: float64(23), int16(2), object(2)\nmemory usage: 2.3+ MB\n",
          "output_type": "stream"
        }
      ],
      "execution_count": 79
    },
    {
      "cell_type": "code",
      "source": "gun['permit'] = gun['permit'].astype(pd.Int32Dtype())\ngun['handgun'] = gun['handgun'].astype(pd.Int32Dtype())\ngun['long_gun'] = gun['long_gun'].astype(pd.Int32Dtype())\ngun['other'] = gun['other'].astype(pd.Int32Dtype())\ngun['multiple'] = gun['multiple'].astype(pd.Int32Dtype())\ngun['admin'] = gun['admin'].astype(pd.Int32Dtype())\ngun['prepawn_handgun'] = gun['prepawn_handgun'].astype(pd.Int32Dtype())\ngun['prepawn_long_gun'] =gun['prepawn_long_gun'].astype(pd.Int32Dtype())\ngun['prepawn_other'] =gun['prepawn_other'].astype(pd.Int32Dtype())\ngun['redemption_handgun'] =gun['redemption_handgun'].astype(pd.Int32Dtype())\ngun['redemption_long_gun'] = gun ['redemption_long_gun'].astype(pd.Int32Dtype())\ngun['redemption_other'] = gun ['redemption_other'].astype(pd.Int32Dtype())\ngun['returned_handgun'] = gun ['returned_handgun'].astype(pd.Int32Dtype())\ngun['returned_long_gun'] = gun ['returned_long_gun'].astype(pd.Int32Dtype())\ngun['returned_other'] = gun ['returned_other'].astype(pd.Int32Dtype())\ngun['rentals_handgun'] = gun ['rentals_handgun'].astype(pd.Int32Dtype())\ngun['rentals_long_gun'] = gun ['rentals_long_gun'].astype(pd.Int32Dtype())\ngun['returned_other'] = gun ['returned_other'].astype(pd.Int32Dtype())\ngun['rentals_handgun'] = gun ['rentals_handgun'].astype(pd.Int32Dtype())\ngun['rentals_long_gun'] = gun ['rentals_long_gun'].astype(pd.Int32Dtype())\ngun['private_sale_handgun'] = gun ['private_sale_handgun'].astype(pd.Int32Dtype())\ngun['private_sale_long_gun'] = gun ['private_sale_long_gun'].astype(pd.Int32Dtype())\ngun['private_sale_other'] = gun ['private_sale_other'].astype(pd.Int32Dtype())\ngun['return_to_seller_handgun'] = gun ['return_to_seller_handgun'].astype(pd.Int32Dtype())\ngun['return_to_seller_long_gun'] = gun ['return_to_seller_long_gun'].astype(pd.Int32Dtype())\ngun['return_to_seller_other'] = gun ['return_to_seller_other'].astype(pd.Int32Dtype())",
      "metadata": {
        "trusted": true
      },
      "outputs": [],
      "execution_count": 80
    },
    {
      "cell_type": "code",
      "source": "",
      "metadata": {
        "trusted": true
      },
      "outputs": [],
      "execution_count": null
    },
    {
      "cell_type": "code",
      "source": "gun.info()",
      "metadata": {
        "trusted": true
      },
      "outputs": [
        {
          "name": "stdout",
          "text": "<class 'pandas.core.frame.DataFrame'>\nRangeIndex: 12485 entries, 0 to 12484\nData columns (total 27 columns):\n #   Column                     Non-Null Count  Dtype  \n---  ------                     --------------  -----  \n 0   month                      12485 non-null  object \n 1   state                      12485 non-null  object \n 2   permit                     12461 non-null  Int32  \n 3   permit_recheck             1100 non-null   float64\n 4   handgun                    12465 non-null  Int32  \n 5   long_gun                   12466 non-null  Int32  \n 6   other                      5500 non-null   Int32  \n 7   multiple                   12485 non-null  Int32  \n 8   admin                      12462 non-null  Int32  \n 9   prepawn_handgun            10542 non-null  Int32  \n 10  prepawn_long_gun           10540 non-null  Int32  \n 11  prepawn_other              5115 non-null   Int32  \n 12  redemption_handgun         10545 non-null  Int32  \n 13  redemption_long_gun        10544 non-null  Int32  \n 14  redemption_other           5115 non-null   Int32  \n 15  returned_handgun           2200 non-null   Int32  \n 16  returned_long_gun          2145 non-null   Int32  \n 17  returned_other             1815 non-null   Int32  \n 18  rentals_handgun            990 non-null    Int32  \n 19  rentals_long_gun           825 non-null    Int32  \n 20  private_sale_handgun       2750 non-null   Int32  \n 21  private_sale_long_gun      2750 non-null   Int32  \n 22  private_sale_other         2750 non-null   Int32  \n 23  return_to_seller_handgun   2475 non-null   Int32  \n 24  return_to_seller_long_gun  2750 non-null   Int32  \n 25  return_to_seller_other     2255 non-null   Int32  \n 26  totals                     12485 non-null  int16  \ndtypes: Int32(23), float64(1), int16(1), object(2)\nmemory usage: 1.6+ MB\n",
          "output_type": "stream"
        }
      ],
      "execution_count": 81
    },
    {
      "cell_type": "markdown",
      "source": "\n\n***B.1 ) Check if there is duplicates***",
      "metadata": {},
      "attachments": {}
    },
    {
      "cell_type": "code",
      "source": "gun.duplicated()",
      "metadata": {
        "trusted": true
      },
      "outputs": [
        {
          "execution_count": 82,
          "output_type": "execute_result",
          "data": {
            "text/plain": "0        False\n1        False\n2        False\n3        False\n4        False\n         ...  \n12480    False\n12481    False\n12482    False\n12483    False\n12484    False\nLength: 12485, dtype: bool"
          },
          "metadata": {}
        }
      ],
      "execution_count": 82
    },
    {
      "cell_type": "markdown",
      "source": "*Or, we can use this line to check effectivly*",
      "metadata": {}
    },
    {
      "cell_type": "code",
      "source": "sum(gun.duplicated())",
      "metadata": {
        "trusted": true
      },
      "outputs": [
        {
          "execution_count": 83,
          "output_type": "execute_result",
          "data": {
            "text/plain": "0"
          },
          "metadata": {}
        }
      ],
      "execution_count": 83
    },
    {
      "cell_type": "markdown",
      "source": "**Facts, There's no duplicates**\n\n*Now, lets delete the nan in the data. And change memory usage and data type*",
      "metadata": {}
    },
    {
      "cell_type": "code",
      "source": "gun.isnull().sum()\n",
      "metadata": {
        "trusted": true
      },
      "outputs": [
        {
          "execution_count": 84,
          "output_type": "execute_result",
          "data": {
            "text/plain": "month                            0\nstate                            0\npermit                          24\npermit_recheck               11385\nhandgun                         20\nlong_gun                        19\nother                         6985\nmultiple                         0\nadmin                           23\nprepawn_handgun               1943\nprepawn_long_gun              1945\nprepawn_other                 7370\nredemption_handgun            1940\nredemption_long_gun           1941\nredemption_other              7370\nreturned_handgun             10285\nreturned_long_gun            10340\nreturned_other               10670\nrentals_handgun              11495\nrentals_long_gun             11660\nprivate_sale_handgun          9735\nprivate_sale_long_gun         9735\nprivate_sale_other            9735\nreturn_to_seller_handgun     10010\nreturn_to_seller_long_gun     9735\nreturn_to_seller_other       10230\ntotals                           0\ndtype: int64"
          },
          "metadata": {}
        }
      ],
      "execution_count": 84
    },
    {
      "cell_type": "markdown",
      "source": "gun= gun.fillna(gun....(), axis=0, inplace=True) -- I have to delete the NA ?? ",
      "metadata": {}
    },
    {
      "cell_type": "code",
      "source": "gun.head(4)",
      "metadata": {
        "trusted": true
      },
      "outputs": [
        {
          "execution_count": 85,
          "output_type": "execute_result",
          "data": {
            "text/plain": "     month     state  permit  permit_recheck  handgun  long_gun  other  \\\n0  2017-09   Alabama   16717             0.0     5734      6320    221   \n1  2017-09    Alaska     209             2.0     2320      2930    219   \n2  2017-09   Arizona    5069           382.0    11063      7946    920   \n3  2017-09  Arkansas    2935           632.0     4347      6063    165   \n\n   multiple  admin  prepawn_handgun  ...  returned_other  rentals_handgun  \\\n0       317      0               15  ...               0                0   \n1       160      0                5  ...               0                0   \n2       631      0               13  ...               0                0   \n3       366     51               12  ...               0                0   \n\n   rentals_long_gun  private_sale_handgun  private_sale_long_gun  \\\n0                 0                     9                     16   \n1                 0                    17                     24   \n2                 0                    38                     12   \n3                 0                    13                     23   \n\n   private_sale_other  return_to_seller_handgun  return_to_seller_long_gun  \\\n0                   3                         0                          0   \n1                   1                         0                          0   \n2                   2                         0                          0   \n3                   0                         0                          2   \n\n   return_to_seller_other  totals  \n0                       3   32019  \n1                       0    6303  \n2                       0   28394  \n3                       1   17747  \n\n[4 rows x 27 columns]",
            "text/html": "<div>\n<style scoped>\n    .dataframe tbody tr th:only-of-type {\n        vertical-align: middle;\n    }\n\n    .dataframe tbody tr th {\n        vertical-align: top;\n    }\n\n    .dataframe thead th {\n        text-align: right;\n    }\n</style>\n<table border=\"1\" class=\"dataframe\">\n  <thead>\n    <tr style=\"text-align: right;\">\n      <th></th>\n      <th>month</th>\n      <th>state</th>\n      <th>permit</th>\n      <th>permit_recheck</th>\n      <th>handgun</th>\n      <th>long_gun</th>\n      <th>other</th>\n      <th>multiple</th>\n      <th>admin</th>\n      <th>prepawn_handgun</th>\n      <th>...</th>\n      <th>returned_other</th>\n      <th>rentals_handgun</th>\n      <th>rentals_long_gun</th>\n      <th>private_sale_handgun</th>\n      <th>private_sale_long_gun</th>\n      <th>private_sale_other</th>\n      <th>return_to_seller_handgun</th>\n      <th>return_to_seller_long_gun</th>\n      <th>return_to_seller_other</th>\n      <th>totals</th>\n    </tr>\n  </thead>\n  <tbody>\n    <tr>\n      <th>0</th>\n      <td>2017-09</td>\n      <td>Alabama</td>\n      <td>16717</td>\n      <td>0.0</td>\n      <td>5734</td>\n      <td>6320</td>\n      <td>221</td>\n      <td>317</td>\n      <td>0</td>\n      <td>15</td>\n      <td>...</td>\n      <td>0</td>\n      <td>0</td>\n      <td>0</td>\n      <td>9</td>\n      <td>16</td>\n      <td>3</td>\n      <td>0</td>\n      <td>0</td>\n      <td>3</td>\n      <td>32019</td>\n    </tr>\n    <tr>\n      <th>1</th>\n      <td>2017-09</td>\n      <td>Alaska</td>\n      <td>209</td>\n      <td>2.0</td>\n      <td>2320</td>\n      <td>2930</td>\n      <td>219</td>\n      <td>160</td>\n      <td>0</td>\n      <td>5</td>\n      <td>...</td>\n      <td>0</td>\n      <td>0</td>\n      <td>0</td>\n      <td>17</td>\n      <td>24</td>\n      <td>1</td>\n      <td>0</td>\n      <td>0</td>\n      <td>0</td>\n      <td>6303</td>\n    </tr>\n    <tr>\n      <th>2</th>\n      <td>2017-09</td>\n      <td>Arizona</td>\n      <td>5069</td>\n      <td>382.0</td>\n      <td>11063</td>\n      <td>7946</td>\n      <td>920</td>\n      <td>631</td>\n      <td>0</td>\n      <td>13</td>\n      <td>...</td>\n      <td>0</td>\n      <td>0</td>\n      <td>0</td>\n      <td>38</td>\n      <td>12</td>\n      <td>2</td>\n      <td>0</td>\n      <td>0</td>\n      <td>0</td>\n      <td>28394</td>\n    </tr>\n    <tr>\n      <th>3</th>\n      <td>2017-09</td>\n      <td>Arkansas</td>\n      <td>2935</td>\n      <td>632.0</td>\n      <td>4347</td>\n      <td>6063</td>\n      <td>165</td>\n      <td>366</td>\n      <td>51</td>\n      <td>12</td>\n      <td>...</td>\n      <td>0</td>\n      <td>0</td>\n      <td>0</td>\n      <td>13</td>\n      <td>23</td>\n      <td>0</td>\n      <td>0</td>\n      <td>2</td>\n      <td>1</td>\n      <td>17747</td>\n    </tr>\n  </tbody>\n</table>\n<p>4 rows × 27 columns</p>\n</div>"
          },
          "metadata": {}
        }
      ],
      "execution_count": 85
    },
    {
      "cell_type": "markdown",
      "source": "**Extract years and monthes to deal with the data accuretlly** ",
      "metadata": {}
    },
    {
      "cell_type": "code",
      "source": "gun['year']=gun['month'].apply(lambda x: x.split(\"-\")[0]).astype(int)\n",
      "metadata": {
        "trusted": true
      },
      "outputs": [],
      "execution_count": 86
    },
    {
      "cell_type": "code",
      "source": "gun['year'].unique()\n",
      "metadata": {
        "trusted": true
      },
      "outputs": [
        {
          "execution_count": 87,
          "output_type": "execute_result",
          "data": {
            "text/plain": "array([2017, 2016, 2015, 2014, 2013, 2012, 2011, 2010, 2009, 2008, 2007,\n       2006, 2005, 2004, 2003, 2002, 2001, 2000, 1999, 1998])"
          },
          "metadata": {}
        }
      ],
      "execution_count": 87
    },
    {
      "cell_type": "code",
      "source": "gun['months'] = gun['month'].apply(lambda x: x.split(\"-\")[1]).astype(int)\n",
      "metadata": {
        "trusted": true
      },
      "outputs": [],
      "execution_count": 88
    },
    {
      "cell_type": "code",
      "source": "gun['months'].unique()",
      "metadata": {
        "trusted": true
      },
      "outputs": [
        {
          "execution_count": 89,
          "output_type": "execute_result",
          "data": {
            "text/plain": "array([ 9,  8,  7,  6,  5,  4,  3,  2,  1, 12, 11, 10])"
          },
          "metadata": {}
        }
      ],
      "execution_count": 89
    },
    {
      "cell_type": "code",
      "source": "gun.head(1)",
      "metadata": {
        "trusted": true
      },
      "outputs": [
        {
          "execution_count": 90,
          "output_type": "execute_result",
          "data": {
            "text/plain": "     month    state  permit  permit_recheck  handgun  long_gun  other  \\\n0  2017-09  Alabama   16717             0.0     5734      6320    221   \n\n   multiple  admin  prepawn_handgun  ...  rentals_long_gun  \\\n0       317      0               15  ...                 0   \n\n   private_sale_handgun  private_sale_long_gun  private_sale_other  \\\n0                     9                     16                   3   \n\n   return_to_seller_handgun  return_to_seller_long_gun  \\\n0                         0                          0   \n\n   return_to_seller_other  totals  year  months  \n0                       3   32019  2017       9  \n\n[1 rows x 29 columns]",
            "text/html": "<div>\n<style scoped>\n    .dataframe tbody tr th:only-of-type {\n        vertical-align: middle;\n    }\n\n    .dataframe tbody tr th {\n        vertical-align: top;\n    }\n\n    .dataframe thead th {\n        text-align: right;\n    }\n</style>\n<table border=\"1\" class=\"dataframe\">\n  <thead>\n    <tr style=\"text-align: right;\">\n      <th></th>\n      <th>month</th>\n      <th>state</th>\n      <th>permit</th>\n      <th>permit_recheck</th>\n      <th>handgun</th>\n      <th>long_gun</th>\n      <th>other</th>\n      <th>multiple</th>\n      <th>admin</th>\n      <th>prepawn_handgun</th>\n      <th>...</th>\n      <th>rentals_long_gun</th>\n      <th>private_sale_handgun</th>\n      <th>private_sale_long_gun</th>\n      <th>private_sale_other</th>\n      <th>return_to_seller_handgun</th>\n      <th>return_to_seller_long_gun</th>\n      <th>return_to_seller_other</th>\n      <th>totals</th>\n      <th>year</th>\n      <th>months</th>\n    </tr>\n  </thead>\n  <tbody>\n    <tr>\n      <th>0</th>\n      <td>2017-09</td>\n      <td>Alabama</td>\n      <td>16717</td>\n      <td>0.0</td>\n      <td>5734</td>\n      <td>6320</td>\n      <td>221</td>\n      <td>317</td>\n      <td>0</td>\n      <td>15</td>\n      <td>...</td>\n      <td>0</td>\n      <td>9</td>\n      <td>16</td>\n      <td>3</td>\n      <td>0</td>\n      <td>0</td>\n      <td>3</td>\n      <td>32019</td>\n      <td>2017</td>\n      <td>9</td>\n    </tr>\n  </tbody>\n</table>\n<p>1 rows × 29 columns</p>\n</div>"
          },
          "metadata": {}
        }
      ],
      "execution_count": 90
    },
    {
      "cell_type": "code",
      "source": "gun.shape",
      "metadata": {
        "trusted": true
      },
      "outputs": [
        {
          "execution_count": 91,
          "output_type": "execute_result",
          "data": {
            "text/plain": "(12485, 29)"
          },
          "metadata": {}
        }
      ],
      "execution_count": 91
    },
    {
      "cell_type": "markdown",
      "source": "**A.2 ) Now, lets check the second data set. the info and duplicates.**",
      "metadata": {}
    },
    {
      "cell_type": "code",
      "source": "census.info()",
      "metadata": {
        "trusted": true
      },
      "outputs": [
        {
          "name": "stdout",
          "text": "<class 'pandas.core.frame.DataFrame'>\nRangeIndex: 85 entries, 0 to 84\nData columns (total 52 columns):\n #   Column          Non-Null Count  Dtype \n---  ------          --------------  ----- \n 0   Fact            80 non-null     object\n 1   Fact Note       28 non-null     object\n 2   Alabama         65 non-null     object\n 3   Alaska          65 non-null     object\n 4   Arizona         65 non-null     object\n 5   Arkansas        65 non-null     object\n 6   California      65 non-null     object\n 7   Colorado        65 non-null     object\n 8   Connecticut     65 non-null     object\n 9   Delaware        65 non-null     object\n 10  Florida         65 non-null     object\n 11  Georgia         65 non-null     object\n 12  Hawaii          65 non-null     object\n 13  Idaho           65 non-null     object\n 14  Illinois        65 non-null     object\n 15  Indiana         65 non-null     object\n 16  Iowa            65 non-null     object\n 17  Kansas          65 non-null     object\n 18  Kentucky        65 non-null     object\n 19  Louisiana       65 non-null     object\n 20  Maine           65 non-null     object\n 21  Maryland        65 non-null     object\n 22  Massachusetts   65 non-null     object\n 23  Michigan        65 non-null     object\n 24  Minnesota       65 non-null     object\n 25  Mississippi     65 non-null     object\n 26  Missouri        65 non-null     object\n 27  Montana         65 non-null     object\n 28  Nebraska        65 non-null     object\n 29  Nevada          65 non-null     object\n 30  New Hampshire   65 non-null     object\n 31  New Jersey      65 non-null     object\n 32  New Mexico      65 non-null     object\n 33  New York        65 non-null     object\n 34  North Carolina  65 non-null     object\n 35  North Dakota    65 non-null     object\n 36  Ohio            65 non-null     object\n 37  Oklahoma        65 non-null     object\n 38  Oregon          65 non-null     object\n 39  Pennsylvania    65 non-null     object\n 40  Rhode Island    65 non-null     object\n 41  South Carolina  65 non-null     object\n 42  South Dakota    65 non-null     object\n 43  Tennessee       65 non-null     object\n 44  Texas           65 non-null     object\n 45  Utah            65 non-null     object\n 46  Vermont         65 non-null     object\n 47  Virginia        65 non-null     object\n 48  Washington      65 non-null     object\n 49  West Virginia   65 non-null     object\n 50  Wisconsin       65 non-null     object\n 51  Wyoming         65 non-null     object\ndtypes: object(52)\nmemory usage: 17.3+ KB\n",
          "output_type": "stream"
        }
      ],
      "execution_count": 92
    },
    {
      "cell_type": "code",
      "source": " census.head(2)",
      "metadata": {
        "trusted": true
      },
      "outputs": [
        {
          "execution_count": 93,
          "output_type": "execute_result",
          "data": {
            "text/plain": "                                                Fact Fact Note    Alabama  \\\n0       Population estimates, July 1, 2016,  (V2016)       NaN  4,863,300   \n1  Population estimates base, April 1, 2010,  (V2...       NaN  4,780,131   \n\n    Alaska    Arizona   Arkansas  California   Colorado Connecticut Delaware  \\\n0  741,894  6,931,071  2,988,248  39,250,017  5,540,545   3,576,452  952,065   \n1  710,249  6,392,301  2,916,025  37,254,522  5,029,324   3,574,114  897,936   \n\n   ... South Dakota Tennessee       Texas       Utah  Vermont   Virginia  \\\n0  ...       865454   6651194  27,862,596  3,051,217  624,594  8,411,808   \n1  ...       814195   6346298  25,146,100  2,763,888  625,741  8,001,041   \n\n  Washington West Virginia  Wisconsin  Wyoming  \n0  7,288,000     1,831,102  5,778,708  585,501  \n1  6,724,545     1,853,011  5,687,289  563,767  \n\n[2 rows x 52 columns]",
            "text/html": "<div>\n<style scoped>\n    .dataframe tbody tr th:only-of-type {\n        vertical-align: middle;\n    }\n\n    .dataframe tbody tr th {\n        vertical-align: top;\n    }\n\n    .dataframe thead th {\n        text-align: right;\n    }\n</style>\n<table border=\"1\" class=\"dataframe\">\n  <thead>\n    <tr style=\"text-align: right;\">\n      <th></th>\n      <th>Fact</th>\n      <th>Fact Note</th>\n      <th>Alabama</th>\n      <th>Alaska</th>\n      <th>Arizona</th>\n      <th>Arkansas</th>\n      <th>California</th>\n      <th>Colorado</th>\n      <th>Connecticut</th>\n      <th>Delaware</th>\n      <th>...</th>\n      <th>South Dakota</th>\n      <th>Tennessee</th>\n      <th>Texas</th>\n      <th>Utah</th>\n      <th>Vermont</th>\n      <th>Virginia</th>\n      <th>Washington</th>\n      <th>West Virginia</th>\n      <th>Wisconsin</th>\n      <th>Wyoming</th>\n    </tr>\n  </thead>\n  <tbody>\n    <tr>\n      <th>0</th>\n      <td>Population estimates, July 1, 2016,  (V2016)</td>\n      <td>NaN</td>\n      <td>4,863,300</td>\n      <td>741,894</td>\n      <td>6,931,071</td>\n      <td>2,988,248</td>\n      <td>39,250,017</td>\n      <td>5,540,545</td>\n      <td>3,576,452</td>\n      <td>952,065</td>\n      <td>...</td>\n      <td>865454</td>\n      <td>6651194</td>\n      <td>27,862,596</td>\n      <td>3,051,217</td>\n      <td>624,594</td>\n      <td>8,411,808</td>\n      <td>7,288,000</td>\n      <td>1,831,102</td>\n      <td>5,778,708</td>\n      <td>585,501</td>\n    </tr>\n    <tr>\n      <th>1</th>\n      <td>Population estimates base, April 1, 2010,  (V2...</td>\n      <td>NaN</td>\n      <td>4,780,131</td>\n      <td>710,249</td>\n      <td>6,392,301</td>\n      <td>2,916,025</td>\n      <td>37,254,522</td>\n      <td>5,029,324</td>\n      <td>3,574,114</td>\n      <td>897,936</td>\n      <td>...</td>\n      <td>814195</td>\n      <td>6346298</td>\n      <td>25,146,100</td>\n      <td>2,763,888</td>\n      <td>625,741</td>\n      <td>8,001,041</td>\n      <td>6,724,545</td>\n      <td>1,853,011</td>\n      <td>5,687,289</td>\n      <td>563,767</td>\n    </tr>\n  </tbody>\n</table>\n<p>2 rows × 52 columns</p>\n</div>"
          },
          "metadata": {}
        }
      ],
      "execution_count": 93
    },
    {
      "cell_type": "markdown",
      "source": "**Facts:**\n* All of the values are abjects.\n* There are missing values.\n* There are 85 raws and 52 columns",
      "metadata": {}
    },
    {
      "cell_type": "code",
      "source": "sum(census.duplicated())",
      "metadata": {
        "trusted": true
      },
      "outputs": [
        {
          "execution_count": 94,
          "output_type": "execute_result",
          "data": {
            "text/plain": "3"
          },
          "metadata": {}
        }
      ],
      "execution_count": 94
    },
    {
      "cell_type": "markdown",
      "source": "*There are 3 duplicates, we have to drop them*\n*And, We will drop the fact notes since it does not have valuable data*",
      "metadata": {}
    },
    {
      "cell_type": "code",
      "source": "census.drop_duplicates(inplace= True)",
      "metadata": {
        "trusted": true
      },
      "outputs": [],
      "execution_count": 95
    },
    {
      "cell_type": "code",
      "source": "sum(census.duplicated())",
      "metadata": {
        "trusted": true
      },
      "outputs": [
        {
          "execution_count": 96,
          "output_type": "execute_result",
          "data": {
            "text/plain": "0"
          },
          "metadata": {}
        }
      ],
      "execution_count": 96
    },
    {
      "cell_type": "code",
      "source": "census= census.drop('Fact Note', axis=1)",
      "metadata": {
        "trusted": true
      },
      "outputs": [],
      "execution_count": 97
    },
    {
      "cell_type": "code",
      "source": "census.head(4)",
      "metadata": {
        "trusted": true
      },
      "outputs": [
        {
          "execution_count": 98,
          "output_type": "execute_result",
          "data": {
            "text/plain": "                                                Fact    Alabama   Alaska  \\\n0       Population estimates, July 1, 2016,  (V2016)  4,863,300  741,894   \n1  Population estimates base, April 1, 2010,  (V2...  4,780,131  710,249   \n2  Population, percent change - April 1, 2010 (es...      1.70%    4.50%   \n3                  Population, Census, April 1, 2010  4,779,736  710,231   \n\n     Arizona   Arkansas  California   Colorado Connecticut Delaware  \\\n0  6,931,071  2,988,248  39,250,017  5,540,545   3,576,452  952,065   \n1  6,392,301  2,916,025  37,254,522  5,029,324   3,574,114  897,936   \n2      8.40%      2.50%       5.40%     10.20%       0.10%    6.00%   \n3  6,392,017  2,915,918  37,253,956  5,029,196   3,574,097  897,934   \n\n      Florida  ... South Dakota Tennessee       Texas       Utah  Vermont  \\\n0  20,612,439  ...       865454   6651194  27,862,596  3,051,217  624,594   \n1  18,804,592  ...       814195   6346298  25,146,100  2,763,888  625,741   \n2       9.60%  ...        0.063     0.048      10.80%     10.40%   -0.20%   \n3  18,801,310  ...       814180   6346105  25,145,561  2,763,885  625,741   \n\n    Virginia Washington West Virginia  Wisconsin  Wyoming  \n0  8,411,808  7,288,000     1,831,102  5,778,708  585,501  \n1  8,001,041  6,724,545     1,853,011  5,687,289  563,767  \n2      5.10%      8.40%        -1.20%      1.60%    3.90%  \n3  8,001,024  6,724,540     1,852,994  5,686,986  563,626  \n\n[4 rows x 51 columns]",
            "text/html": "<div>\n<style scoped>\n    .dataframe tbody tr th:only-of-type {\n        vertical-align: middle;\n    }\n\n    .dataframe tbody tr th {\n        vertical-align: top;\n    }\n\n    .dataframe thead th {\n        text-align: right;\n    }\n</style>\n<table border=\"1\" class=\"dataframe\">\n  <thead>\n    <tr style=\"text-align: right;\">\n      <th></th>\n      <th>Fact</th>\n      <th>Alabama</th>\n      <th>Alaska</th>\n      <th>Arizona</th>\n      <th>Arkansas</th>\n      <th>California</th>\n      <th>Colorado</th>\n      <th>Connecticut</th>\n      <th>Delaware</th>\n      <th>Florida</th>\n      <th>...</th>\n      <th>South Dakota</th>\n      <th>Tennessee</th>\n      <th>Texas</th>\n      <th>Utah</th>\n      <th>Vermont</th>\n      <th>Virginia</th>\n      <th>Washington</th>\n      <th>West Virginia</th>\n      <th>Wisconsin</th>\n      <th>Wyoming</th>\n    </tr>\n  </thead>\n  <tbody>\n    <tr>\n      <th>0</th>\n      <td>Population estimates, July 1, 2016,  (V2016)</td>\n      <td>4,863,300</td>\n      <td>741,894</td>\n      <td>6,931,071</td>\n      <td>2,988,248</td>\n      <td>39,250,017</td>\n      <td>5,540,545</td>\n      <td>3,576,452</td>\n      <td>952,065</td>\n      <td>20,612,439</td>\n      <td>...</td>\n      <td>865454</td>\n      <td>6651194</td>\n      <td>27,862,596</td>\n      <td>3,051,217</td>\n      <td>624,594</td>\n      <td>8,411,808</td>\n      <td>7,288,000</td>\n      <td>1,831,102</td>\n      <td>5,778,708</td>\n      <td>585,501</td>\n    </tr>\n    <tr>\n      <th>1</th>\n      <td>Population estimates base, April 1, 2010,  (V2...</td>\n      <td>4,780,131</td>\n      <td>710,249</td>\n      <td>6,392,301</td>\n      <td>2,916,025</td>\n      <td>37,254,522</td>\n      <td>5,029,324</td>\n      <td>3,574,114</td>\n      <td>897,936</td>\n      <td>18,804,592</td>\n      <td>...</td>\n      <td>814195</td>\n      <td>6346298</td>\n      <td>25,146,100</td>\n      <td>2,763,888</td>\n      <td>625,741</td>\n      <td>8,001,041</td>\n      <td>6,724,545</td>\n      <td>1,853,011</td>\n      <td>5,687,289</td>\n      <td>563,767</td>\n    </tr>\n    <tr>\n      <th>2</th>\n      <td>Population, percent change - April 1, 2010 (es...</td>\n      <td>1.70%</td>\n      <td>4.50%</td>\n      <td>8.40%</td>\n      <td>2.50%</td>\n      <td>5.40%</td>\n      <td>10.20%</td>\n      <td>0.10%</td>\n      <td>6.00%</td>\n      <td>9.60%</td>\n      <td>...</td>\n      <td>0.063</td>\n      <td>0.048</td>\n      <td>10.80%</td>\n      <td>10.40%</td>\n      <td>-0.20%</td>\n      <td>5.10%</td>\n      <td>8.40%</td>\n      <td>-1.20%</td>\n      <td>1.60%</td>\n      <td>3.90%</td>\n    </tr>\n    <tr>\n      <th>3</th>\n      <td>Population, Census, April 1, 2010</td>\n      <td>4,779,736</td>\n      <td>710,231</td>\n      <td>6,392,017</td>\n      <td>2,915,918</td>\n      <td>37,253,956</td>\n      <td>5,029,196</td>\n      <td>3,574,097</td>\n      <td>897,934</td>\n      <td>18,801,310</td>\n      <td>...</td>\n      <td>814180</td>\n      <td>6346105</td>\n      <td>25,145,561</td>\n      <td>2,763,885</td>\n      <td>625,741</td>\n      <td>8,001,024</td>\n      <td>6,724,540</td>\n      <td>1,852,994</td>\n      <td>5,686,986</td>\n      <td>563,626</td>\n    </tr>\n  </tbody>\n</table>\n<p>4 rows × 51 columns</p>\n</div>"
          },
          "metadata": {}
        }
      ],
      "execution_count": 98
    },
    {
      "cell_type": "markdown",
      "source": "*We have to check for the nulls*",
      "metadata": {}
    },
    {
      "cell_type": "code",
      "source": "census.isnull().sum(). sum()",
      "metadata": {
        "trusted": true
      },
      "outputs": [
        {
          "execution_count": 99,
          "output_type": "execute_result",
          "data": {
            "text/plain": "852"
          },
          "metadata": {}
        }
      ],
      "execution_count": 99
    },
    {
      "cell_type": "markdown",
      "source": "*I can't decide if I have to drope all the nulls. maybe not.*",
      "metadata": {}
    },
    {
      "cell_type": "code",
      "source": " census.describe()",
      "metadata": {
        "trusted": true
      },
      "outputs": [
        {
          "execution_count": 100,
          "output_type": "execute_result",
          "data": {
            "text/plain": "                                                Fact    Alabama Alaska  \\\ncount                                             80         65     65   \nunique                                            80         65     64   \ntop     Population estimates, July 1, 2016,  (V2016)  4,863,300  7.30%   \nfreq                                               1          1      2   \n\n       Arizona Arkansas California Colorado Connecticut Delaware Florida  ...  \\\ncount       65       65         65       65          65       65      65  ...   \nunique      64       64         63       64          63       64      64  ...   \ntop     50.30%   50.90%      6.80%    3.30%       0.10%   51.60%  51.10%  ...   \nfreq         2        2          2        2           2        2       2  ...   \n\n       South Dakota Tennessee   Texas   Utah Vermont   Virginia Washington  \\\ncount            65        65      65     65      65         65         65   \nunique           65        64      64     64      63         65         65   \ntop          865454     0.048  50.40%  2.50%   1.90%  8,411,808  7,288,000   \nfreq              1         2       2      2       2          1          1   \n\n       West Virginia  Wisconsin Wyoming  \ncount             65         65      65  \nunique            64         65      64  \ntop            1.50%  5,778,708   7.10%  \nfreq               2          1       2  \n\n[4 rows x 51 columns]",
            "text/html": "<div>\n<style scoped>\n    .dataframe tbody tr th:only-of-type {\n        vertical-align: middle;\n    }\n\n    .dataframe tbody tr th {\n        vertical-align: top;\n    }\n\n    .dataframe thead th {\n        text-align: right;\n    }\n</style>\n<table border=\"1\" class=\"dataframe\">\n  <thead>\n    <tr style=\"text-align: right;\">\n      <th></th>\n      <th>Fact</th>\n      <th>Alabama</th>\n      <th>Alaska</th>\n      <th>Arizona</th>\n      <th>Arkansas</th>\n      <th>California</th>\n      <th>Colorado</th>\n      <th>Connecticut</th>\n      <th>Delaware</th>\n      <th>Florida</th>\n      <th>...</th>\n      <th>South Dakota</th>\n      <th>Tennessee</th>\n      <th>Texas</th>\n      <th>Utah</th>\n      <th>Vermont</th>\n      <th>Virginia</th>\n      <th>Washington</th>\n      <th>West Virginia</th>\n      <th>Wisconsin</th>\n      <th>Wyoming</th>\n    </tr>\n  </thead>\n  <tbody>\n    <tr>\n      <th>count</th>\n      <td>80</td>\n      <td>65</td>\n      <td>65</td>\n      <td>65</td>\n      <td>65</td>\n      <td>65</td>\n      <td>65</td>\n      <td>65</td>\n      <td>65</td>\n      <td>65</td>\n      <td>...</td>\n      <td>65</td>\n      <td>65</td>\n      <td>65</td>\n      <td>65</td>\n      <td>65</td>\n      <td>65</td>\n      <td>65</td>\n      <td>65</td>\n      <td>65</td>\n      <td>65</td>\n    </tr>\n    <tr>\n      <th>unique</th>\n      <td>80</td>\n      <td>65</td>\n      <td>64</td>\n      <td>64</td>\n      <td>64</td>\n      <td>63</td>\n      <td>64</td>\n      <td>63</td>\n      <td>64</td>\n      <td>64</td>\n      <td>...</td>\n      <td>65</td>\n      <td>64</td>\n      <td>64</td>\n      <td>64</td>\n      <td>63</td>\n      <td>65</td>\n      <td>65</td>\n      <td>64</td>\n      <td>65</td>\n      <td>64</td>\n    </tr>\n    <tr>\n      <th>top</th>\n      <td>Population estimates, July 1, 2016,  (V2016)</td>\n      <td>4,863,300</td>\n      <td>7.30%</td>\n      <td>50.30%</td>\n      <td>50.90%</td>\n      <td>6.80%</td>\n      <td>3.30%</td>\n      <td>0.10%</td>\n      <td>51.60%</td>\n      <td>51.10%</td>\n      <td>...</td>\n      <td>865454</td>\n      <td>0.048</td>\n      <td>50.40%</td>\n      <td>2.50%</td>\n      <td>1.90%</td>\n      <td>8,411,808</td>\n      <td>7,288,000</td>\n      <td>1.50%</td>\n      <td>5,778,708</td>\n      <td>7.10%</td>\n    </tr>\n    <tr>\n      <th>freq</th>\n      <td>1</td>\n      <td>1</td>\n      <td>2</td>\n      <td>2</td>\n      <td>2</td>\n      <td>2</td>\n      <td>2</td>\n      <td>2</td>\n      <td>2</td>\n      <td>2</td>\n      <td>...</td>\n      <td>1</td>\n      <td>2</td>\n      <td>2</td>\n      <td>2</td>\n      <td>2</td>\n      <td>1</td>\n      <td>1</td>\n      <td>2</td>\n      <td>1</td>\n      <td>2</td>\n    </tr>\n  </tbody>\n</table>\n<p>4 rows × 51 columns</p>\n</div>"
          },
          "metadata": {}
        }
      ],
      "execution_count": 100
    },
    {
      "cell_type": "code",
      "source": "states=['Alabama', 'Alaska', 'Arizona', 'Arkansas', 'California',\n       'Colorado', 'Connecticut', 'Delaware', 'Florida', 'Georgia',  \n        'Hawaii', 'Idaho', 'Illinois','Indiana', 'Iowa', 'Kansas', \n        'Kentucky', 'Louisiana', 'Maine','Maryland', 'Massachusetts', \n        'Michigan','Minnesota', 'Mississippi', 'Missouri', 'Montana', 'Nebraska',\n       'Nevada', 'New Hampshire', 'New Jersey', 'New Mexico', 'New York',\n       'North Carolina', 'North Dakota', 'Ohio', 'Oklahoma', 'Oregon','Pennsylvania', \n        'Rhode Island', 'South Carolina','South Dakota', 'Tennessee', 'Texas', 'Utah', \n        'Vermont','Virginia', 'Washington', 'West Virginia','Wisconsin', 'Wyoming']",
      "metadata": {
        "trusted": true
      },
      "outputs": [],
      "execution_count": 101
    },
    {
      "cell_type": "code",
      "source": "for state in states:\n    census[state].replace(regex=True,inplace=True,to_replace=r'\\D',value=r'')\n    # remove all the non digit character\n    census[state]=pd.to_numeric(census[state], downcast='float', errors='ignore')",
      "metadata": {
        "trusted": true
      },
      "outputs": [],
      "execution_count": 102
    },
    {
      "cell_type": "markdown",
      "source": "*We want to manipulate states So we gave them a variable*",
      "metadata": {}
    },
    {
      "cell_type": "markdown",
      "source": "## Exploratory Data Analysis\n",
      "metadata": {}
    },
    {
      "cell_type": "markdown",
      "source": "> 1.What census variable or fact value is most associated with high gun per capita per state? Ceusus data includes state as variable",
      "metadata": {}
    },
    {
      "cell_type": "markdown",
      "source": "*In order to calculate gun per capita,  the gun totals and population for each state needed to be fetched at first, and the gun and census data needed to be combined. Also, I notice the state in census data is divided as 50 columns, however, in gun data, state is\nonly one columns which has 46 different state value.*\n**And Because of that we will change the raws an columns so we can deal with both data**",
      "metadata": {}
    },
    {
      "cell_type": "code",
      "source": "census.set_index('Fact',inplace=True)\ncensus_T = census.T.reset_index()",
      "metadata": {
        "trusted": true
      },
      "outputs": [],
      "execution_count": 103
    },
    {
      "cell_type": "code",
      "source": "census_T.head(2)",
      "metadata": {
        "trusted": true
      },
      "outputs": [
        {
          "execution_count": 104,
          "output_type": "execute_result",
          "data": {
            "text/plain": "Fact    index  Population estimates, July 1, 2016,  (V2016)  \\\n0     Alabama                                     4863300.0   \n1      Alaska                                      741894.0   \n\nFact  Population estimates base, April 1, 2010,  (V2016)  \\\n0                                             4780131.0    \n1                                              710249.0    \n\nFact  Population, percent change - April 1, 2010 (estimates base) to July 1, 2016,  (V2016)  \\\n0                                                 170.0                                       \n1                                                 450.0                                       \n\nFact  Population, Census, April 1, 2010  \\\n0                             4779736.0   \n1                              710231.0   \n\nFact  Persons under 5 years, percent, July 1, 2016,  (V2016)  \\\n0                                                 600.0        \n1                                                 730.0        \n\nFact  Persons under 5 years, percent, April 1, 2010  \\\n0                                             640.0   \n1                                             760.0   \n\nFact  Persons under 18 years, percent, July 1, 2016,  (V2016)  \\\n0                                                2260.0         \n1                                                2520.0         \n\nFact  Persons under 18 years, percent, April 1, 2010  \\\n0                                             2370.0   \n1                                             2640.0   \n\nFact  Persons 65 years and over, percent,  July 1, 2016,  (V2016)  ...  (c)  \\\n0                                                1610.0            ...  NaN   \n1                                                1040.0            ...  NaN   \n\nFact  Value Flags   -   D   F  FN  NaN   S   X   Z  \n0             NaN NaN NaN NaN NaN  NaN NaN NaN NaN  \n1             NaN NaN NaN NaN NaN  NaN NaN NaN NaN  \n\n[2 rows x 83 columns]",
            "text/html": "<div>\n<style scoped>\n    .dataframe tbody tr th:only-of-type {\n        vertical-align: middle;\n    }\n\n    .dataframe tbody tr th {\n        vertical-align: top;\n    }\n\n    .dataframe thead th {\n        text-align: right;\n    }\n</style>\n<table border=\"1\" class=\"dataframe\">\n  <thead>\n    <tr style=\"text-align: right;\">\n      <th>Fact</th>\n      <th>index</th>\n      <th>Population estimates, July 1, 2016,  (V2016)</th>\n      <th>Population estimates base, April 1, 2010,  (V2016)</th>\n      <th>Population, percent change - April 1, 2010 (estimates base) to July 1, 2016,  (V2016)</th>\n      <th>Population, Census, April 1, 2010</th>\n      <th>Persons under 5 years, percent, July 1, 2016,  (V2016)</th>\n      <th>Persons under 5 years, percent, April 1, 2010</th>\n      <th>Persons under 18 years, percent, July 1, 2016,  (V2016)</th>\n      <th>Persons under 18 years, percent, April 1, 2010</th>\n      <th>Persons 65 years and over, percent,  July 1, 2016,  (V2016)</th>\n      <th>...</th>\n      <th>(c)</th>\n      <th>Value Flags</th>\n      <th>-</th>\n      <th>D</th>\n      <th>F</th>\n      <th>FN</th>\n      <th>NaN</th>\n      <th>S</th>\n      <th>X</th>\n      <th>Z</th>\n    </tr>\n  </thead>\n  <tbody>\n    <tr>\n      <th>0</th>\n      <td>Alabama</td>\n      <td>4863300.0</td>\n      <td>4780131.0</td>\n      <td>170.0</td>\n      <td>4779736.0</td>\n      <td>600.0</td>\n      <td>640.0</td>\n      <td>2260.0</td>\n      <td>2370.0</td>\n      <td>1610.0</td>\n      <td>...</td>\n      <td>NaN</td>\n      <td>NaN</td>\n      <td>NaN</td>\n      <td>NaN</td>\n      <td>NaN</td>\n      <td>NaN</td>\n      <td>NaN</td>\n      <td>NaN</td>\n      <td>NaN</td>\n      <td>NaN</td>\n    </tr>\n    <tr>\n      <th>1</th>\n      <td>Alaska</td>\n      <td>741894.0</td>\n      <td>710249.0</td>\n      <td>450.0</td>\n      <td>710231.0</td>\n      <td>730.0</td>\n      <td>760.0</td>\n      <td>2520.0</td>\n      <td>2640.0</td>\n      <td>1040.0</td>\n      <td>...</td>\n      <td>NaN</td>\n      <td>NaN</td>\n      <td>NaN</td>\n      <td>NaN</td>\n      <td>NaN</td>\n      <td>NaN</td>\n      <td>NaN</td>\n      <td>NaN</td>\n      <td>NaN</td>\n      <td>NaN</td>\n    </tr>\n  </tbody>\n</table>\n<p>2 rows × 83 columns</p>\n</div>"
          },
          "metadata": {}
        }
      ],
      "execution_count": 104
    },
    {
      "cell_type": "markdown",
      "source": "*Rename the column name from index to state to match the column name in gun data*",
      "metadata": {}
    },
    {
      "cell_type": "code",
      "source": "census_T.rename(columns={'index':'state'},inplace = True)",
      "metadata": {
        "trusted": true
      },
      "outputs": [],
      "execution_count": 105
    },
    {
      "cell_type": "markdown",
      "source": "*The most of the data is between 2010 to 2016, so we can merge between both data we have to use the inner data*",
      "metadata": {}
    },
    {
      "cell_type": "code",
      "source": "gun10=gun[gun['year'] == 2016]\ngun16=gun[gun['year'] == 2010] ",
      "metadata": {
        "trusted": true
      },
      "outputs": [],
      "execution_count": 106
    },
    {
      "cell_type": "code",
      "source": "gun10.head(2)",
      "metadata": {
        "trusted": true
      },
      "outputs": [
        {
          "execution_count": 107,
          "output_type": "execute_result",
          "data": {
            "text/plain": "       month    state  permit  permit_recheck  handgun  long_gun  other  \\\n495  2016-12  Alabama   26996             0.0    13733     17519    376   \n496  2016-12   Alaska     254             0.0     4087      3698    243   \n\n     multiple  admin  prepawn_handgun  ...  rentals_long_gun  \\\n495       533      0               10  ...                 0   \n496       191      0                3  ...                 0   \n\n     private_sale_handgun  private_sale_long_gun  private_sale_other  \\\n495                     2                      2                   1   \n496                     0                      0                   0   \n\n     return_to_seller_handgun  return_to_seller_long_gun  \\\n495                         0                          0   \n496                         0                          0   \n\n     return_to_seller_other  totals  year  months  \n495                       0   -3522  2016      12  \n496                       0    8786  2016      12  \n\n[2 rows x 29 columns]",
            "text/html": "<div>\n<style scoped>\n    .dataframe tbody tr th:only-of-type {\n        vertical-align: middle;\n    }\n\n    .dataframe tbody tr th {\n        vertical-align: top;\n    }\n\n    .dataframe thead th {\n        text-align: right;\n    }\n</style>\n<table border=\"1\" class=\"dataframe\">\n  <thead>\n    <tr style=\"text-align: right;\">\n      <th></th>\n      <th>month</th>\n      <th>state</th>\n      <th>permit</th>\n      <th>permit_recheck</th>\n      <th>handgun</th>\n      <th>long_gun</th>\n      <th>other</th>\n      <th>multiple</th>\n      <th>admin</th>\n      <th>prepawn_handgun</th>\n      <th>...</th>\n      <th>rentals_long_gun</th>\n      <th>private_sale_handgun</th>\n      <th>private_sale_long_gun</th>\n      <th>private_sale_other</th>\n      <th>return_to_seller_handgun</th>\n      <th>return_to_seller_long_gun</th>\n      <th>return_to_seller_other</th>\n      <th>totals</th>\n      <th>year</th>\n      <th>months</th>\n    </tr>\n  </thead>\n  <tbody>\n    <tr>\n      <th>495</th>\n      <td>2016-12</td>\n      <td>Alabama</td>\n      <td>26996</td>\n      <td>0.0</td>\n      <td>13733</td>\n      <td>17519</td>\n      <td>376</td>\n      <td>533</td>\n      <td>0</td>\n      <td>10</td>\n      <td>...</td>\n      <td>0</td>\n      <td>2</td>\n      <td>2</td>\n      <td>1</td>\n      <td>0</td>\n      <td>0</td>\n      <td>0</td>\n      <td>-3522</td>\n      <td>2016</td>\n      <td>12</td>\n    </tr>\n    <tr>\n      <th>496</th>\n      <td>2016-12</td>\n      <td>Alaska</td>\n      <td>254</td>\n      <td>0.0</td>\n      <td>4087</td>\n      <td>3698</td>\n      <td>243</td>\n      <td>191</td>\n      <td>0</td>\n      <td>3</td>\n      <td>...</td>\n      <td>0</td>\n      <td>0</td>\n      <td>0</td>\n      <td>0</td>\n      <td>0</td>\n      <td>0</td>\n      <td>0</td>\n      <td>8786</td>\n      <td>2016</td>\n      <td>12</td>\n    </tr>\n  </tbody>\n</table>\n<p>2 rows × 29 columns</p>\n</div>"
          },
          "metadata": {}
        }
      ],
      "execution_count": 107
    },
    {
      "cell_type": "markdown",
      "source": "*Group by gun data by state for 2010 and 2016*\n",
      "metadata": {}
    },
    {
      "cell_type": "code",
      "source": "guntotal10= gun10.groupby(['state'])['totals'].sum().reset_index()\nguntotal16= gun16.groupby(['state'])['totals'].sum().reset_index()",
      "metadata": {
        "trusted": true
      },
      "outputs": [],
      "execution_count": 108
    },
    {
      "cell_type": "code",
      "source": "guntotal16.head()",
      "metadata": {
        "trusted": true
      },
      "outputs": [
        {
          "execution_count": 109,
          "output_type": "execute_result",
          "data": {
            "text/plain": "        state  totals\n0     Alabama  243071\n1      Alaska   65909\n2     Arizona  206050\n3    Arkansas  191448\n4  California   29967",
            "text/html": "<div>\n<style scoped>\n    .dataframe tbody tr th:only-of-type {\n        vertical-align: middle;\n    }\n\n    .dataframe tbody tr th {\n        vertical-align: top;\n    }\n\n    .dataframe thead th {\n        text-align: right;\n    }\n</style>\n<table border=\"1\" class=\"dataframe\">\n  <thead>\n    <tr style=\"text-align: right;\">\n      <th></th>\n      <th>state</th>\n      <th>totals</th>\n    </tr>\n  </thead>\n  <tbody>\n    <tr>\n      <th>0</th>\n      <td>Alabama</td>\n      <td>243071</td>\n    </tr>\n    <tr>\n      <th>1</th>\n      <td>Alaska</td>\n      <td>65909</td>\n    </tr>\n    <tr>\n      <th>2</th>\n      <td>Arizona</td>\n      <td>206050</td>\n    </tr>\n    <tr>\n      <th>3</th>\n      <td>Arkansas</td>\n      <td>191448</td>\n    </tr>\n    <tr>\n      <th>4</th>\n      <td>California</td>\n      <td>29967</td>\n    </tr>\n  </tbody>\n</table>\n</div>"
          },
          "metadata": {}
        }
      ],
      "execution_count": 109
    },
    {
      "cell_type": "code",
      "source": "guntotal10.head()",
      "metadata": {
        "trusted": true
      },
      "outputs": [
        {
          "execution_count": 110,
          "output_type": "execute_result",
          "data": {
            "text/plain": "        state  totals\n0     Alabama -169485\n1      Alaska   87647\n2     Arizona -108009\n3    Arkansas  266014\n4  California  -47665",
            "text/html": "<div>\n<style scoped>\n    .dataframe tbody tr th:only-of-type {\n        vertical-align: middle;\n    }\n\n    .dataframe tbody tr th {\n        vertical-align: top;\n    }\n\n    .dataframe thead th {\n        text-align: right;\n    }\n</style>\n<table border=\"1\" class=\"dataframe\">\n  <thead>\n    <tr style=\"text-align: right;\">\n      <th></th>\n      <th>state</th>\n      <th>totals</th>\n    </tr>\n  </thead>\n  <tbody>\n    <tr>\n      <th>0</th>\n      <td>Alabama</td>\n      <td>-169485</td>\n    </tr>\n    <tr>\n      <th>1</th>\n      <td>Alaska</td>\n      <td>87647</td>\n    </tr>\n    <tr>\n      <th>2</th>\n      <td>Arizona</td>\n      <td>-108009</td>\n    </tr>\n    <tr>\n      <th>3</th>\n      <td>Arkansas</td>\n      <td>266014</td>\n    </tr>\n    <tr>\n      <th>4</th>\n      <td>California</td>\n      <td>-47665</td>\n    </tr>\n  </tbody>\n</table>\n</div>"
          },
          "metadata": {}
        }
      ],
      "execution_count": 110
    },
    {
      "cell_type": "code",
      "source": "#Rename the dataset to represent different time point \nguntotal10.rename(columns={'totals':'2010_totals'},inplace = True)\nguntotal16.rename(columns={'totals':'2016_totals'},inplace = True)",
      "metadata": {
        "trusted": true
      },
      "outputs": [],
      "execution_count": 111
    },
    {
      "cell_type": "code",
      "source": "#Merge 2010 and 2016 gun data summary \nguntotal = guntotal16.merge(guntotal10, on='state', how='inner')",
      "metadata": {
        "trusted": true
      },
      "outputs": [],
      "execution_count": 112
    },
    {
      "cell_type": "markdown",
      "source": "*See the result*",
      "metadata": {}
    },
    {
      "cell_type": "code",
      "source": "guntotal.head(4)",
      "metadata": {
        "trusted": true
      },
      "outputs": [
        {
          "execution_count": 42,
          "output_type": "execute_result",
          "data": {
            "text/plain": "      state  2016_totals  2010_totals\n0   Alabama       243071      -169485\n1    Alaska        65909        87647\n2   Arizona       206050      -108009\n3  Arkansas       191448       266014",
            "text/html": "<div>\n<style scoped>\n    .dataframe tbody tr th:only-of-type {\n        vertical-align: middle;\n    }\n\n    .dataframe tbody tr th {\n        vertical-align: top;\n    }\n\n    .dataframe thead th {\n        text-align: right;\n    }\n</style>\n<table border=\"1\" class=\"dataframe\">\n  <thead>\n    <tr style=\"text-align: right;\">\n      <th></th>\n      <th>state</th>\n      <th>2016_totals</th>\n      <th>2010_totals</th>\n    </tr>\n  </thead>\n  <tbody>\n    <tr>\n      <th>0</th>\n      <td>Alabama</td>\n      <td>243071</td>\n      <td>-169485</td>\n    </tr>\n    <tr>\n      <th>1</th>\n      <td>Alaska</td>\n      <td>65909</td>\n      <td>87647</td>\n    </tr>\n    <tr>\n      <th>2</th>\n      <td>Arizona</td>\n      <td>206050</td>\n      <td>-108009</td>\n    </tr>\n    <tr>\n      <th>3</th>\n      <td>Arkansas</td>\n      <td>191448</td>\n      <td>266014</td>\n    </tr>\n  </tbody>\n</table>\n</div>"
          },
          "metadata": {}
        }
      ],
      "execution_count": 42
    },
    {
      "cell_type": "code",
      "source": "#Merge gun and census data with inner join, by state column \nresult = guntotal.merge(census_T, on='state', how='inner')",
      "metadata": {
        "trusted": true
      },
      "outputs": [],
      "execution_count": 113
    },
    {
      "cell_type": "code",
      "source": "result.head(4)",
      "metadata": {
        "trusted": true
      },
      "outputs": [
        {
          "execution_count": 114,
          "output_type": "execute_result",
          "data": {
            "text/plain": "      state  2016_totals  2010_totals  \\\n0   Alabama       243071      -169485   \n1    Alaska        65909        87647   \n2   Arizona       206050      -108009   \n3  Arkansas       191448       266014   \n\n   Population estimates, July 1, 2016,  (V2016)  \\\n0                                     4863300.0   \n1                                      741894.0   \n2                                     6931071.0   \n3                                     2988248.0   \n\n   Population estimates base, April 1, 2010,  (V2016)  \\\n0                                          4780131.0    \n1                                           710249.0    \n2                                          6392301.0    \n3                                          2916025.0    \n\n   Population, percent change - April 1, 2010 (estimates base) to July 1, 2016,  (V2016)  \\\n0                                              170.0                                       \n1                                              450.0                                       \n2                                              840.0                                       \n3                                              250.0                                       \n\n   Population, Census, April 1, 2010  \\\n0                          4779736.0   \n1                           710231.0   \n2                          6392017.0   \n3                          2915918.0   \n\n   Persons under 5 years, percent, July 1, 2016,  (V2016)  \\\n0                                              600.0        \n1                                              730.0        \n2                                              630.0        \n3                                              640.0        \n\n   Persons under 5 years, percent, April 1, 2010  \\\n0                                          640.0   \n1                                          760.0   \n2                                          710.0   \n3                                          680.0   \n\n   Persons under 18 years, percent, July 1, 2016,  (V2016)  ...  (c)  \\\n0                                             2260.0        ...  NaN   \n1                                             2520.0        ...  NaN   \n2                                             2350.0        ...  NaN   \n3                                             2360.0        ...  NaN   \n\n   Value Flags   -   D   F  FN  NaN   S   X   Z  \n0          NaN NaN NaN NaN NaN  NaN NaN NaN NaN  \n1          NaN NaN NaN NaN NaN  NaN NaN NaN NaN  \n2          NaN NaN NaN NaN NaN  NaN NaN NaN NaN  \n3          NaN NaN NaN NaN NaN  NaN NaN NaN NaN  \n\n[4 rows x 85 columns]",
            "text/html": "<div>\n<style scoped>\n    .dataframe tbody tr th:only-of-type {\n        vertical-align: middle;\n    }\n\n    .dataframe tbody tr th {\n        vertical-align: top;\n    }\n\n    .dataframe thead th {\n        text-align: right;\n    }\n</style>\n<table border=\"1\" class=\"dataframe\">\n  <thead>\n    <tr style=\"text-align: right;\">\n      <th></th>\n      <th>state</th>\n      <th>2016_totals</th>\n      <th>2010_totals</th>\n      <th>Population estimates, July 1, 2016,  (V2016)</th>\n      <th>Population estimates base, April 1, 2010,  (V2016)</th>\n      <th>Population, percent change - April 1, 2010 (estimates base) to July 1, 2016,  (V2016)</th>\n      <th>Population, Census, April 1, 2010</th>\n      <th>Persons under 5 years, percent, July 1, 2016,  (V2016)</th>\n      <th>Persons under 5 years, percent, April 1, 2010</th>\n      <th>Persons under 18 years, percent, July 1, 2016,  (V2016)</th>\n      <th>...</th>\n      <th>(c)</th>\n      <th>Value Flags</th>\n      <th>-</th>\n      <th>D</th>\n      <th>F</th>\n      <th>FN</th>\n      <th>NaN</th>\n      <th>S</th>\n      <th>X</th>\n      <th>Z</th>\n    </tr>\n  </thead>\n  <tbody>\n    <tr>\n      <th>0</th>\n      <td>Alabama</td>\n      <td>243071</td>\n      <td>-169485</td>\n      <td>4863300.0</td>\n      <td>4780131.0</td>\n      <td>170.0</td>\n      <td>4779736.0</td>\n      <td>600.0</td>\n      <td>640.0</td>\n      <td>2260.0</td>\n      <td>...</td>\n      <td>NaN</td>\n      <td>NaN</td>\n      <td>NaN</td>\n      <td>NaN</td>\n      <td>NaN</td>\n      <td>NaN</td>\n      <td>NaN</td>\n      <td>NaN</td>\n      <td>NaN</td>\n      <td>NaN</td>\n    </tr>\n    <tr>\n      <th>1</th>\n      <td>Alaska</td>\n      <td>65909</td>\n      <td>87647</td>\n      <td>741894.0</td>\n      <td>710249.0</td>\n      <td>450.0</td>\n      <td>710231.0</td>\n      <td>730.0</td>\n      <td>760.0</td>\n      <td>2520.0</td>\n      <td>...</td>\n      <td>NaN</td>\n      <td>NaN</td>\n      <td>NaN</td>\n      <td>NaN</td>\n      <td>NaN</td>\n      <td>NaN</td>\n      <td>NaN</td>\n      <td>NaN</td>\n      <td>NaN</td>\n      <td>NaN</td>\n    </tr>\n    <tr>\n      <th>2</th>\n      <td>Arizona</td>\n      <td>206050</td>\n      <td>-108009</td>\n      <td>6931071.0</td>\n      <td>6392301.0</td>\n      <td>840.0</td>\n      <td>6392017.0</td>\n      <td>630.0</td>\n      <td>710.0</td>\n      <td>2350.0</td>\n      <td>...</td>\n      <td>NaN</td>\n      <td>NaN</td>\n      <td>NaN</td>\n      <td>NaN</td>\n      <td>NaN</td>\n      <td>NaN</td>\n      <td>NaN</td>\n      <td>NaN</td>\n      <td>NaN</td>\n      <td>NaN</td>\n    </tr>\n    <tr>\n      <th>3</th>\n      <td>Arkansas</td>\n      <td>191448</td>\n      <td>266014</td>\n      <td>2988248.0</td>\n      <td>2916025.0</td>\n      <td>250.0</td>\n      <td>2915918.0</td>\n      <td>640.0</td>\n      <td>680.0</td>\n      <td>2360.0</td>\n      <td>...</td>\n      <td>NaN</td>\n      <td>NaN</td>\n      <td>NaN</td>\n      <td>NaN</td>\n      <td>NaN</td>\n      <td>NaN</td>\n      <td>NaN</td>\n      <td>NaN</td>\n      <td>NaN</td>\n      <td>NaN</td>\n    </tr>\n  </tbody>\n</table>\n<p>4 rows × 85 columns</p>\n</div>"
          },
          "metadata": {}
        }
      ],
      "execution_count": 114
    },
    {
      "cell_type": "code",
      "source": "result['Population estimates, July 1, 2016,  (V2016)'] = result['Population estimates, July 1, 2016,  (V2016)'].replace(',', '').astype(float)\n\nresult['Population estimates base, April 1, 2010, (V2016)'] = result['Population estimates base, April 1, 2010,  (V2016)'].replace(',', '').astype(float)",
      "metadata": {
        "trusted": true
      },
      "outputs": [],
      "execution_count": 115
    },
    {
      "cell_type": "code",
      "source": "result['Gun_Per_Capital_2016'] = result['2016_totals'] / result['Population estimates, July 1, 2016,  (V2016)']",
      "metadata": {
        "trusted": true
      },
      "outputs": [],
      "execution_count": 116
    },
    {
      "cell_type": "code",
      "source": "result['Gun_Per_Capital_2010'] = result['2010_totals'] / result['Population estimates base, April 1, 2010,  (V2016)']",
      "metadata": {
        "trusted": true
      },
      "outputs": [],
      "execution_count": 117
    },
    {
      "cell_type": "code",
      "source": "result.head(9)\n",
      "metadata": {
        "trusted": true
      },
      "outputs": [
        {
          "execution_count": 118,
          "output_type": "execute_result",
          "data": {
            "text/plain": "         state  2016_totals  2010_totals  \\\n0      Alabama       243071      -169485   \n1       Alaska        65909        87647   \n2      Arizona       206050      -108009   \n3     Arkansas       191448       266014   \n4   California        29967       -47665   \n5     Colorado       235284      -245918   \n6  Connecticut       179595       186620   \n7     Delaware        19240        59430   \n8      Florida      -227085       -71988   \n\n   Population estimates, July 1, 2016,  (V2016)  \\\n0                                     4863300.0   \n1                                      741894.0   \n2                                     6931071.0   \n3                                     2988248.0   \n4                                    39250017.0   \n5                                     5540545.0   \n6                                     3576452.0   \n7                                      952065.0   \n8                                    20612439.0   \n\n   Population estimates base, April 1, 2010,  (V2016)  \\\n0                                          4780131.0    \n1                                           710249.0    \n2                                          6392301.0    \n3                                          2916025.0    \n4                                         37254522.0    \n5                                          5029324.0    \n6                                          3574114.0    \n7                                           897936.0    \n8                                         18804592.0    \n\n   Population, percent change - April 1, 2010 (estimates base) to July 1, 2016,  (V2016)  \\\n0                                              170.0                                       \n1                                              450.0                                       \n2                                              840.0                                       \n3                                              250.0                                       \n4                                              540.0                                       \n5                                             1020.0                                       \n6                                               10.0                                       \n7                                              600.0                                       \n8                                              960.0                                       \n\n   Population, Census, April 1, 2010  \\\n0                          4779736.0   \n1                           710231.0   \n2                          6392017.0   \n3                          2915918.0   \n4                         37253956.0   \n5                          5029196.0   \n6                          3574097.0   \n7                           897934.0   \n8                         18801310.0   \n\n   Persons under 5 years, percent, July 1, 2016,  (V2016)  \\\n0                                              600.0        \n1                                              730.0        \n2                                              630.0        \n3                                              640.0        \n4                                              630.0        \n5                                              610.0        \n6                                              520.0        \n7                                              580.0        \n8                                              550.0        \n\n   Persons under 5 years, percent, April 1, 2010  \\\n0                                          640.0   \n1                                          760.0   \n2                                          710.0   \n3                                          680.0   \n4                                          680.0   \n5                                          680.0   \n6                                          570.0   \n7                                          620.0   \n8                                          570.0   \n\n   Persons under 18 years, percent, July 1, 2016,  (V2016)  ...   D   F  FN  \\\n0                                             2260.0        ... NaN NaN NaN   \n1                                             2520.0        ... NaN NaN NaN   \n2                                             2350.0        ... NaN NaN NaN   \n3                                             2360.0        ... NaN NaN NaN   \n4                                             2320.0        ... NaN NaN NaN   \n5                                             2280.0        ... NaN NaN NaN   \n6                                             2110.0        ... NaN NaN NaN   \n7                                             2150.0        ... NaN NaN NaN   \n8                                             2010.0        ... NaN NaN NaN   \n\n   NaN   S   X   Z  Population estimates base, April 1, 2010, (V2016)  \\\n0  NaN NaN NaN NaN                                          4780131.0   \n1  NaN NaN NaN NaN                                           710249.0   \n2  NaN NaN NaN NaN                                          6392301.0   \n3  NaN NaN NaN NaN                                          2916025.0   \n4  NaN NaN NaN NaN                                         37254522.0   \n5  NaN NaN NaN NaN                                          5029324.0   \n6  NaN NaN NaN NaN                                          3574114.0   \n7  NaN NaN NaN NaN                                           897936.0   \n8  NaN NaN NaN NaN                                         18804592.0   \n\n   Gun_Per_Capital_2016  Gun_Per_Capital_2010  \n0              0.049981             -0.035456  \n1              0.088839              0.123403  \n2              0.029728             -0.016897  \n3              0.064067              0.091225  \n4              0.000763             -0.001279  \n5              0.042466             -0.048897  \n6              0.050216              0.052214  \n7              0.020209              0.066185  \n8             -0.011017             -0.003828  \n\n[9 rows x 88 columns]",
            "text/html": "<div>\n<style scoped>\n    .dataframe tbody tr th:only-of-type {\n        vertical-align: middle;\n    }\n\n    .dataframe tbody tr th {\n        vertical-align: top;\n    }\n\n    .dataframe thead th {\n        text-align: right;\n    }\n</style>\n<table border=\"1\" class=\"dataframe\">\n  <thead>\n    <tr style=\"text-align: right;\">\n      <th></th>\n      <th>state</th>\n      <th>2016_totals</th>\n      <th>2010_totals</th>\n      <th>Population estimates, July 1, 2016,  (V2016)</th>\n      <th>Population estimates base, April 1, 2010,  (V2016)</th>\n      <th>Population, percent change - April 1, 2010 (estimates base) to July 1, 2016,  (V2016)</th>\n      <th>Population, Census, April 1, 2010</th>\n      <th>Persons under 5 years, percent, July 1, 2016,  (V2016)</th>\n      <th>Persons under 5 years, percent, April 1, 2010</th>\n      <th>Persons under 18 years, percent, July 1, 2016,  (V2016)</th>\n      <th>...</th>\n      <th>D</th>\n      <th>F</th>\n      <th>FN</th>\n      <th>NaN</th>\n      <th>S</th>\n      <th>X</th>\n      <th>Z</th>\n      <th>Population estimates base, April 1, 2010, (V2016)</th>\n      <th>Gun_Per_Capital_2016</th>\n      <th>Gun_Per_Capital_2010</th>\n    </tr>\n  </thead>\n  <tbody>\n    <tr>\n      <th>0</th>\n      <td>Alabama</td>\n      <td>243071</td>\n      <td>-169485</td>\n      <td>4863300.0</td>\n      <td>4780131.0</td>\n      <td>170.0</td>\n      <td>4779736.0</td>\n      <td>600.0</td>\n      <td>640.0</td>\n      <td>2260.0</td>\n      <td>...</td>\n      <td>NaN</td>\n      <td>NaN</td>\n      <td>NaN</td>\n      <td>NaN</td>\n      <td>NaN</td>\n      <td>NaN</td>\n      <td>NaN</td>\n      <td>4780131.0</td>\n      <td>0.049981</td>\n      <td>-0.035456</td>\n    </tr>\n    <tr>\n      <th>1</th>\n      <td>Alaska</td>\n      <td>65909</td>\n      <td>87647</td>\n      <td>741894.0</td>\n      <td>710249.0</td>\n      <td>450.0</td>\n      <td>710231.0</td>\n      <td>730.0</td>\n      <td>760.0</td>\n      <td>2520.0</td>\n      <td>...</td>\n      <td>NaN</td>\n      <td>NaN</td>\n      <td>NaN</td>\n      <td>NaN</td>\n      <td>NaN</td>\n      <td>NaN</td>\n      <td>NaN</td>\n      <td>710249.0</td>\n      <td>0.088839</td>\n      <td>0.123403</td>\n    </tr>\n    <tr>\n      <th>2</th>\n      <td>Arizona</td>\n      <td>206050</td>\n      <td>-108009</td>\n      <td>6931071.0</td>\n      <td>6392301.0</td>\n      <td>840.0</td>\n      <td>6392017.0</td>\n      <td>630.0</td>\n      <td>710.0</td>\n      <td>2350.0</td>\n      <td>...</td>\n      <td>NaN</td>\n      <td>NaN</td>\n      <td>NaN</td>\n      <td>NaN</td>\n      <td>NaN</td>\n      <td>NaN</td>\n      <td>NaN</td>\n      <td>6392301.0</td>\n      <td>0.029728</td>\n      <td>-0.016897</td>\n    </tr>\n    <tr>\n      <th>3</th>\n      <td>Arkansas</td>\n      <td>191448</td>\n      <td>266014</td>\n      <td>2988248.0</td>\n      <td>2916025.0</td>\n      <td>250.0</td>\n      <td>2915918.0</td>\n      <td>640.0</td>\n      <td>680.0</td>\n      <td>2360.0</td>\n      <td>...</td>\n      <td>NaN</td>\n      <td>NaN</td>\n      <td>NaN</td>\n      <td>NaN</td>\n      <td>NaN</td>\n      <td>NaN</td>\n      <td>NaN</td>\n      <td>2916025.0</td>\n      <td>0.064067</td>\n      <td>0.091225</td>\n    </tr>\n    <tr>\n      <th>4</th>\n      <td>California</td>\n      <td>29967</td>\n      <td>-47665</td>\n      <td>39250017.0</td>\n      <td>37254522.0</td>\n      <td>540.0</td>\n      <td>37253956.0</td>\n      <td>630.0</td>\n      <td>680.0</td>\n      <td>2320.0</td>\n      <td>...</td>\n      <td>NaN</td>\n      <td>NaN</td>\n      <td>NaN</td>\n      <td>NaN</td>\n      <td>NaN</td>\n      <td>NaN</td>\n      <td>NaN</td>\n      <td>37254522.0</td>\n      <td>0.000763</td>\n      <td>-0.001279</td>\n    </tr>\n    <tr>\n      <th>5</th>\n      <td>Colorado</td>\n      <td>235284</td>\n      <td>-245918</td>\n      <td>5540545.0</td>\n      <td>5029324.0</td>\n      <td>1020.0</td>\n      <td>5029196.0</td>\n      <td>610.0</td>\n      <td>680.0</td>\n      <td>2280.0</td>\n      <td>...</td>\n      <td>NaN</td>\n      <td>NaN</td>\n      <td>NaN</td>\n      <td>NaN</td>\n      <td>NaN</td>\n      <td>NaN</td>\n      <td>NaN</td>\n      <td>5029324.0</td>\n      <td>0.042466</td>\n      <td>-0.048897</td>\n    </tr>\n    <tr>\n      <th>6</th>\n      <td>Connecticut</td>\n      <td>179595</td>\n      <td>186620</td>\n      <td>3576452.0</td>\n      <td>3574114.0</td>\n      <td>10.0</td>\n      <td>3574097.0</td>\n      <td>520.0</td>\n      <td>570.0</td>\n      <td>2110.0</td>\n      <td>...</td>\n      <td>NaN</td>\n      <td>NaN</td>\n      <td>NaN</td>\n      <td>NaN</td>\n      <td>NaN</td>\n      <td>NaN</td>\n      <td>NaN</td>\n      <td>3574114.0</td>\n      <td>0.050216</td>\n      <td>0.052214</td>\n    </tr>\n    <tr>\n      <th>7</th>\n      <td>Delaware</td>\n      <td>19240</td>\n      <td>59430</td>\n      <td>952065.0</td>\n      <td>897936.0</td>\n      <td>600.0</td>\n      <td>897934.0</td>\n      <td>580.0</td>\n      <td>620.0</td>\n      <td>2150.0</td>\n      <td>...</td>\n      <td>NaN</td>\n      <td>NaN</td>\n      <td>NaN</td>\n      <td>NaN</td>\n      <td>NaN</td>\n      <td>NaN</td>\n      <td>NaN</td>\n      <td>897936.0</td>\n      <td>0.020209</td>\n      <td>0.066185</td>\n    </tr>\n    <tr>\n      <th>8</th>\n      <td>Florida</td>\n      <td>-227085</td>\n      <td>-71988</td>\n      <td>20612439.0</td>\n      <td>18804592.0</td>\n      <td>960.0</td>\n      <td>18801310.0</td>\n      <td>550.0</td>\n      <td>570.0</td>\n      <td>2010.0</td>\n      <td>...</td>\n      <td>NaN</td>\n      <td>NaN</td>\n      <td>NaN</td>\n      <td>NaN</td>\n      <td>NaN</td>\n      <td>NaN</td>\n      <td>NaN</td>\n      <td>18804592.0</td>\n      <td>-0.011017</td>\n      <td>-0.003828</td>\n    </tr>\n  </tbody>\n</table>\n<p>9 rows × 88 columns</p>\n</div>"
          },
          "metadata": {}
        }
      ],
      "execution_count": 118
    },
    {
      "cell_type": "markdown",
      "source": "the highest state per capital on 2010",
      "metadata": {}
    },
    {
      "cell_type": "code",
      "source": "result.nlargest(5,'Gun_Per_Capital_2010')\n",
      "metadata": {
        "trusted": true
      },
      "outputs": [
        {
          "execution_count": 119,
          "output_type": "execute_result",
          "data": {
            "text/plain": "            state  2016_totals  2010_totals  \\\n25        Montana       101095       136337   \n40   South Dakota        63151       111921   \n47  West Virginia       159550       242350   \n28  New Hampshire        79940       165164   \n1          Alaska        65909        87647   \n\n    Population estimates, July 1, 2016,  (V2016)  \\\n25                                     1042520.0   \n40                                      865454.0   \n47                                     1831102.0   \n28                                     1334795.0   \n1                                       741894.0   \n\n    Population estimates base, April 1, 2010,  (V2016)  \\\n25                                           989414.0    \n40                                           814195.0    \n47                                          1853011.0    \n28                                          1316461.0    \n1                                            710249.0    \n\n    Population, percent change - April 1, 2010 (estimates base) to July 1, 2016,  (V2016)  \\\n25                                              540.0                                       \n40                                               63.0                                       \n47                                              120.0                                       \n28                                              140.0                                       \n1                                               450.0                                       \n\n    Population, Census, April 1, 2010  \\\n25                           989415.0   \n40                           814180.0   \n47                          1852994.0   \n28                          1316470.0   \n1                            710231.0   \n\n    Persons under 5 years, percent, July 1, 2016,  (V2016)  \\\n25                                              600.0        \n40                                               71.0        \n47                                              550.0        \n28                                              480.0        \n1                                               730.0        \n\n    Persons under 5 years, percent, April 1, 2010  \\\n25                                          630.0   \n40                                           73.0   \n47                                          560.0   \n28                                          530.0   \n1                                           760.0   \n\n    Persons under 18 years, percent, July 1, 2016,  (V2016)  ...   D   F  FN  \\\n25                                             2180.0        ... NaN NaN NaN   \n40                                              246.0        ... NaN NaN NaN   \n47                                             2050.0        ... NaN NaN NaN   \n28                                             1950.0        ... NaN NaN NaN   \n1                                              2520.0        ... NaN NaN NaN   \n\n    NaN   S   X   Z  Population estimates base, April 1, 2010, (V2016)  \\\n25  NaN NaN NaN NaN                                           989414.0   \n40  NaN NaN NaN NaN                                           814195.0   \n47  NaN NaN NaN NaN                                          1853011.0   \n28  NaN NaN NaN NaN                                          1316461.0   \n1   NaN NaN NaN NaN                                           710249.0   \n\n    Gun_Per_Capital_2016  Gun_Per_Capital_2010  \n25              0.096972              0.137796  \n40              0.072969              0.137462  \n47              0.087133              0.130787  \n28              0.059889              0.125461  \n1               0.088839              0.123403  \n\n[5 rows x 88 columns]",
            "text/html": "<div>\n<style scoped>\n    .dataframe tbody tr th:only-of-type {\n        vertical-align: middle;\n    }\n\n    .dataframe tbody tr th {\n        vertical-align: top;\n    }\n\n    .dataframe thead th {\n        text-align: right;\n    }\n</style>\n<table border=\"1\" class=\"dataframe\">\n  <thead>\n    <tr style=\"text-align: right;\">\n      <th></th>\n      <th>state</th>\n      <th>2016_totals</th>\n      <th>2010_totals</th>\n      <th>Population estimates, July 1, 2016,  (V2016)</th>\n      <th>Population estimates base, April 1, 2010,  (V2016)</th>\n      <th>Population, percent change - April 1, 2010 (estimates base) to July 1, 2016,  (V2016)</th>\n      <th>Population, Census, April 1, 2010</th>\n      <th>Persons under 5 years, percent, July 1, 2016,  (V2016)</th>\n      <th>Persons under 5 years, percent, April 1, 2010</th>\n      <th>Persons under 18 years, percent, July 1, 2016,  (V2016)</th>\n      <th>...</th>\n      <th>D</th>\n      <th>F</th>\n      <th>FN</th>\n      <th>NaN</th>\n      <th>S</th>\n      <th>X</th>\n      <th>Z</th>\n      <th>Population estimates base, April 1, 2010, (V2016)</th>\n      <th>Gun_Per_Capital_2016</th>\n      <th>Gun_Per_Capital_2010</th>\n    </tr>\n  </thead>\n  <tbody>\n    <tr>\n      <th>25</th>\n      <td>Montana</td>\n      <td>101095</td>\n      <td>136337</td>\n      <td>1042520.0</td>\n      <td>989414.0</td>\n      <td>540.0</td>\n      <td>989415.0</td>\n      <td>600.0</td>\n      <td>630.0</td>\n      <td>2180.0</td>\n      <td>...</td>\n      <td>NaN</td>\n      <td>NaN</td>\n      <td>NaN</td>\n      <td>NaN</td>\n      <td>NaN</td>\n      <td>NaN</td>\n      <td>NaN</td>\n      <td>989414.0</td>\n      <td>0.096972</td>\n      <td>0.137796</td>\n    </tr>\n    <tr>\n      <th>40</th>\n      <td>South Dakota</td>\n      <td>63151</td>\n      <td>111921</td>\n      <td>865454.0</td>\n      <td>814195.0</td>\n      <td>63.0</td>\n      <td>814180.0</td>\n      <td>71.0</td>\n      <td>73.0</td>\n      <td>246.0</td>\n      <td>...</td>\n      <td>NaN</td>\n      <td>NaN</td>\n      <td>NaN</td>\n      <td>NaN</td>\n      <td>NaN</td>\n      <td>NaN</td>\n      <td>NaN</td>\n      <td>814195.0</td>\n      <td>0.072969</td>\n      <td>0.137462</td>\n    </tr>\n    <tr>\n      <th>47</th>\n      <td>West Virginia</td>\n      <td>159550</td>\n      <td>242350</td>\n      <td>1831102.0</td>\n      <td>1853011.0</td>\n      <td>120.0</td>\n      <td>1852994.0</td>\n      <td>550.0</td>\n      <td>560.0</td>\n      <td>2050.0</td>\n      <td>...</td>\n      <td>NaN</td>\n      <td>NaN</td>\n      <td>NaN</td>\n      <td>NaN</td>\n      <td>NaN</td>\n      <td>NaN</td>\n      <td>NaN</td>\n      <td>1853011.0</td>\n      <td>0.087133</td>\n      <td>0.130787</td>\n    </tr>\n    <tr>\n      <th>28</th>\n      <td>New Hampshire</td>\n      <td>79940</td>\n      <td>165164</td>\n      <td>1334795.0</td>\n      <td>1316461.0</td>\n      <td>140.0</td>\n      <td>1316470.0</td>\n      <td>480.0</td>\n      <td>530.0</td>\n      <td>1950.0</td>\n      <td>...</td>\n      <td>NaN</td>\n      <td>NaN</td>\n      <td>NaN</td>\n      <td>NaN</td>\n      <td>NaN</td>\n      <td>NaN</td>\n      <td>NaN</td>\n      <td>1316461.0</td>\n      <td>0.059889</td>\n      <td>0.125461</td>\n    </tr>\n    <tr>\n      <th>1</th>\n      <td>Alaska</td>\n      <td>65909</td>\n      <td>87647</td>\n      <td>741894.0</td>\n      <td>710249.0</td>\n      <td>450.0</td>\n      <td>710231.0</td>\n      <td>730.0</td>\n      <td>760.0</td>\n      <td>2520.0</td>\n      <td>...</td>\n      <td>NaN</td>\n      <td>NaN</td>\n      <td>NaN</td>\n      <td>NaN</td>\n      <td>NaN</td>\n      <td>NaN</td>\n      <td>NaN</td>\n      <td>710249.0</td>\n      <td>0.088839</td>\n      <td>0.123403</td>\n    </tr>\n  </tbody>\n</table>\n<p>5 rows × 88 columns</p>\n</div>"
          },
          "metadata": {}
        }
      ],
      "execution_count": 119
    },
    {
      "cell_type": "markdown",
      "source": "the highest state per capital on 2016",
      "metadata": {}
    },
    {
      "cell_type": "code",
      "source": "result.nlargest(5,'Gun_Per_Capital_2016')",
      "metadata": {
        "trusted": true
      },
      "outputs": [
        {
          "execution_count": 120,
          "output_type": "execute_result",
          "data": {
            "text/plain": "            state  2016_totals  2010_totals  \\\n25        Montana       101095       136337   \n1          Alaska        65909        87647   \n47  West Virginia       159550       242350   \n49        Wyoming        47709        63594   \n40   South Dakota        63151       111921   \n\n    Population estimates, July 1, 2016,  (V2016)  \\\n25                                     1042520.0   \n1                                       741894.0   \n47                                     1831102.0   \n49                                      585501.0   \n40                                      865454.0   \n\n    Population estimates base, April 1, 2010,  (V2016)  \\\n25                                           989414.0    \n1                                            710249.0    \n47                                          1853011.0    \n49                                           563767.0    \n40                                           814195.0    \n\n    Population, percent change - April 1, 2010 (estimates base) to July 1, 2016,  (V2016)  \\\n25                                              540.0                                       \n1                                               450.0                                       \n47                                              120.0                                       \n49                                              390.0                                       \n40                                               63.0                                       \n\n    Population, Census, April 1, 2010  \\\n25                           989415.0   \n1                            710231.0   \n47                          1852994.0   \n49                           563626.0   \n40                           814180.0   \n\n    Persons under 5 years, percent, July 1, 2016,  (V2016)  \\\n25                                              600.0        \n1                                               730.0        \n47                                              550.0        \n49                                              650.0        \n40                                               71.0        \n\n    Persons under 5 years, percent, April 1, 2010  \\\n25                                          630.0   \n1                                           760.0   \n47                                          560.0   \n49                                          710.0   \n40                                           73.0   \n\n    Persons under 18 years, percent, July 1, 2016,  (V2016)  ...   D   F  FN  \\\n25                                             2180.0        ... NaN NaN NaN   \n1                                              2520.0        ... NaN NaN NaN   \n47                                             2050.0        ... NaN NaN NaN   \n49                                             2370.0        ... NaN NaN NaN   \n40                                              246.0        ... NaN NaN NaN   \n\n    NaN   S   X   Z  Population estimates base, April 1, 2010, (V2016)  \\\n25  NaN NaN NaN NaN                                           989414.0   \n1   NaN NaN NaN NaN                                           710249.0   \n47  NaN NaN NaN NaN                                          1853011.0   \n49  NaN NaN NaN NaN                                           563767.0   \n40  NaN NaN NaN NaN                                           814195.0   \n\n    Gun_Per_Capital_2016  Gun_Per_Capital_2010  \n25              0.096972              0.137796  \n1               0.088839              0.123403  \n47              0.087133              0.130787  \n49              0.081484              0.112802  \n40              0.072969              0.137462  \n\n[5 rows x 88 columns]",
            "text/html": "<div>\n<style scoped>\n    .dataframe tbody tr th:only-of-type {\n        vertical-align: middle;\n    }\n\n    .dataframe tbody tr th {\n        vertical-align: top;\n    }\n\n    .dataframe thead th {\n        text-align: right;\n    }\n</style>\n<table border=\"1\" class=\"dataframe\">\n  <thead>\n    <tr style=\"text-align: right;\">\n      <th></th>\n      <th>state</th>\n      <th>2016_totals</th>\n      <th>2010_totals</th>\n      <th>Population estimates, July 1, 2016,  (V2016)</th>\n      <th>Population estimates base, April 1, 2010,  (V2016)</th>\n      <th>Population, percent change - April 1, 2010 (estimates base) to July 1, 2016,  (V2016)</th>\n      <th>Population, Census, April 1, 2010</th>\n      <th>Persons under 5 years, percent, July 1, 2016,  (V2016)</th>\n      <th>Persons under 5 years, percent, April 1, 2010</th>\n      <th>Persons under 18 years, percent, July 1, 2016,  (V2016)</th>\n      <th>...</th>\n      <th>D</th>\n      <th>F</th>\n      <th>FN</th>\n      <th>NaN</th>\n      <th>S</th>\n      <th>X</th>\n      <th>Z</th>\n      <th>Population estimates base, April 1, 2010, (V2016)</th>\n      <th>Gun_Per_Capital_2016</th>\n      <th>Gun_Per_Capital_2010</th>\n    </tr>\n  </thead>\n  <tbody>\n    <tr>\n      <th>25</th>\n      <td>Montana</td>\n      <td>101095</td>\n      <td>136337</td>\n      <td>1042520.0</td>\n      <td>989414.0</td>\n      <td>540.0</td>\n      <td>989415.0</td>\n      <td>600.0</td>\n      <td>630.0</td>\n      <td>2180.0</td>\n      <td>...</td>\n      <td>NaN</td>\n      <td>NaN</td>\n      <td>NaN</td>\n      <td>NaN</td>\n      <td>NaN</td>\n      <td>NaN</td>\n      <td>NaN</td>\n      <td>989414.0</td>\n      <td>0.096972</td>\n      <td>0.137796</td>\n    </tr>\n    <tr>\n      <th>1</th>\n      <td>Alaska</td>\n      <td>65909</td>\n      <td>87647</td>\n      <td>741894.0</td>\n      <td>710249.0</td>\n      <td>450.0</td>\n      <td>710231.0</td>\n      <td>730.0</td>\n      <td>760.0</td>\n      <td>2520.0</td>\n      <td>...</td>\n      <td>NaN</td>\n      <td>NaN</td>\n      <td>NaN</td>\n      <td>NaN</td>\n      <td>NaN</td>\n      <td>NaN</td>\n      <td>NaN</td>\n      <td>710249.0</td>\n      <td>0.088839</td>\n      <td>0.123403</td>\n    </tr>\n    <tr>\n      <th>47</th>\n      <td>West Virginia</td>\n      <td>159550</td>\n      <td>242350</td>\n      <td>1831102.0</td>\n      <td>1853011.0</td>\n      <td>120.0</td>\n      <td>1852994.0</td>\n      <td>550.0</td>\n      <td>560.0</td>\n      <td>2050.0</td>\n      <td>...</td>\n      <td>NaN</td>\n      <td>NaN</td>\n      <td>NaN</td>\n      <td>NaN</td>\n      <td>NaN</td>\n      <td>NaN</td>\n      <td>NaN</td>\n      <td>1853011.0</td>\n      <td>0.087133</td>\n      <td>0.130787</td>\n    </tr>\n    <tr>\n      <th>49</th>\n      <td>Wyoming</td>\n      <td>47709</td>\n      <td>63594</td>\n      <td>585501.0</td>\n      <td>563767.0</td>\n      <td>390.0</td>\n      <td>563626.0</td>\n      <td>650.0</td>\n      <td>710.0</td>\n      <td>2370.0</td>\n      <td>...</td>\n      <td>NaN</td>\n      <td>NaN</td>\n      <td>NaN</td>\n      <td>NaN</td>\n      <td>NaN</td>\n      <td>NaN</td>\n      <td>NaN</td>\n      <td>563767.0</td>\n      <td>0.081484</td>\n      <td>0.112802</td>\n    </tr>\n    <tr>\n      <th>40</th>\n      <td>South Dakota</td>\n      <td>63151</td>\n      <td>111921</td>\n      <td>865454.0</td>\n      <td>814195.0</td>\n      <td>63.0</td>\n      <td>814180.0</td>\n      <td>71.0</td>\n      <td>73.0</td>\n      <td>246.0</td>\n      <td>...</td>\n      <td>NaN</td>\n      <td>NaN</td>\n      <td>NaN</td>\n      <td>NaN</td>\n      <td>NaN</td>\n      <td>NaN</td>\n      <td>NaN</td>\n      <td>814195.0</td>\n      <td>0.072969</td>\n      <td>0.137462</td>\n    </tr>\n  </tbody>\n</table>\n<p>5 rows × 88 columns</p>\n</div>"
          },
          "metadata": {}
        }
      ],
      "execution_count": 120
    },
    {
      "cell_type": "code",
      "source": "fact = result.drop(['Gun_Per_Capital_2010','state','FIPS Code','2016_totals','2010_totals'],axis=1)\n",
      "metadata": {
        "trusted": true
      },
      "outputs": [],
      "execution_count": 121
    },
    {
      "cell_type": "markdown",
      "source": "# Plotting",
      "metadata": {}
    },
    {
      "cell_type": "code",
      "source": "result.plot()",
      "metadata": {
        "trusted": true
      },
      "outputs": [
        {
          "ename": "<class 'ImportError'>",
          "evalue": "matplotlib is required for plotting when the default backend \"matplotlib\" is selected.",
          "traceback": [
            "\u001b[0;31m---------------------------------------------------------------------------\u001b[0m",
            "\u001b[0;31mImportError\u001b[0m                               Traceback (most recent call last)",
            "Cell \u001b[0;32mIn[72], line 1\u001b[0m\n\u001b[0;32m----> 1\u001b[0m \u001b[43mresult\u001b[49m\u001b[38;5;241;43m.\u001b[39;49m\u001b[43mplot\u001b[49m\u001b[43m(\u001b[49m\u001b[43m)\u001b[49m\n",
            "File \u001b[0;32m/lib/python3.11/site-packages/pandas/plotting/_core.py:920\u001b[0m, in \u001b[0;36mPlotAccessor.__call__\u001b[0;34m(self, *args, **kwargs)\u001b[0m\n\u001b[1;32m    919\u001b[0m \u001b[38;5;28;01mdef\u001b[39;00m \u001b[38;5;21m__call__\u001b[39m(\u001b[38;5;28mself\u001b[39m, \u001b[38;5;241m*\u001b[39margs, \u001b[38;5;241m*\u001b[39m\u001b[38;5;241m*\u001b[39mkwargs):\n\u001b[0;32m--> 920\u001b[0m     plot_backend \u001b[38;5;241m=\u001b[39m \u001b[43m_get_plot_backend\u001b[49m\u001b[43m(\u001b[49m\u001b[43mkwargs\u001b[49m\u001b[38;5;241;43m.\u001b[39;49m\u001b[43mpop\u001b[49m\u001b[43m(\u001b[49m\u001b[38;5;124;43m\"\u001b[39;49m\u001b[38;5;124;43mbackend\u001b[39;49m\u001b[38;5;124;43m\"\u001b[39;49m\u001b[43m,\u001b[49m\u001b[43m \u001b[49m\u001b[38;5;28;43;01mNone\u001b[39;49;00m\u001b[43m)\u001b[49m\u001b[43m)\u001b[49m\n\u001b[1;32m    922\u001b[0m     x, y, kind, kwargs \u001b[38;5;241m=\u001b[39m \u001b[38;5;28mself\u001b[39m\u001b[38;5;241m.\u001b[39m_get_call_args(\n\u001b[1;32m    923\u001b[0m         plot_backend\u001b[38;5;241m.\u001b[39m\u001b[38;5;18m__name__\u001b[39m, \u001b[38;5;28mself\u001b[39m\u001b[38;5;241m.\u001b[39m_parent, args, kwargs\n\u001b[1;32m    924\u001b[0m     )\n\u001b[1;32m    926\u001b[0m     kind \u001b[38;5;241m=\u001b[39m \u001b[38;5;28mself\u001b[39m\u001b[38;5;241m.\u001b[39m_kind_aliases\u001b[38;5;241m.\u001b[39mget(kind, kind)\n",
            "File \u001b[0;32m/lib/python3.11/site-packages/pandas/plotting/_core.py:1886\u001b[0m, in \u001b[0;36m_get_plot_backend\u001b[0;34m(backend)\u001b[0m\n\u001b[1;32m   1883\u001b[0m \u001b[38;5;28;01mif\u001b[39;00m backend_str \u001b[38;5;129;01min\u001b[39;00m _backends:\n\u001b[1;32m   1884\u001b[0m     \u001b[38;5;28;01mreturn\u001b[39;00m _backends[backend_str]\n\u001b[0;32m-> 1886\u001b[0m module \u001b[38;5;241m=\u001b[39m \u001b[43m_load_backend\u001b[49m\u001b[43m(\u001b[49m\u001b[43mbackend_str\u001b[49m\u001b[43m)\u001b[49m\n\u001b[1;32m   1887\u001b[0m _backends[backend_str] \u001b[38;5;241m=\u001b[39m module\n\u001b[1;32m   1888\u001b[0m \u001b[38;5;28;01mreturn\u001b[39;00m module\n",
            "File \u001b[0;32m/lib/python3.11/site-packages/pandas/plotting/_core.py:1817\u001b[0m, in \u001b[0;36m_load_backend\u001b[0;34m(backend)\u001b[0m\n\u001b[1;32m   1815\u001b[0m         module \u001b[38;5;241m=\u001b[39m importlib\u001b[38;5;241m.\u001b[39mimport_module(\u001b[38;5;124m\"\u001b[39m\u001b[38;5;124mpandas.plotting._matplotlib\u001b[39m\u001b[38;5;124m\"\u001b[39m)\n\u001b[1;32m   1816\u001b[0m     \u001b[38;5;28;01mexcept\u001b[39;00m \u001b[38;5;167;01mImportError\u001b[39;00m:\n\u001b[0;32m-> 1817\u001b[0m         \u001b[38;5;28;01mraise\u001b[39;00m \u001b[38;5;167;01mImportError\u001b[39;00m(\n\u001b[1;32m   1818\u001b[0m             \u001b[38;5;124m\"\u001b[39m\u001b[38;5;124mmatplotlib is required for plotting when the \u001b[39m\u001b[38;5;124m\"\u001b[39m\n\u001b[1;32m   1819\u001b[0m             \u001b[38;5;124m'\u001b[39m\u001b[38;5;124mdefault backend \u001b[39m\u001b[38;5;124m\"\u001b[39m\u001b[38;5;124mmatplotlib\u001b[39m\u001b[38;5;124m\"\u001b[39m\u001b[38;5;124m is selected.\u001b[39m\u001b[38;5;124m'\u001b[39m\n\u001b[1;32m   1820\u001b[0m         ) \u001b[38;5;28;01mfrom\u001b[39;00m \u001b[38;5;28;01mNone\u001b[39;00m\n\u001b[1;32m   1821\u001b[0m     \u001b[38;5;28;01mreturn\u001b[39;00m module\n\u001b[1;32m   1823\u001b[0m found_backend \u001b[38;5;241m=\u001b[39m \u001b[38;5;28;01mFalse\u001b[39;00m\n",
            "\u001b[0;31mImportError\u001b[0m: matplotlib is required for plotting when the default backend \"matplotlib\" is selected."
          ],
          "output_type": "error"
        }
      ],
      "execution_count": 72
    },
    {
      "cell_type": "code",
      "source": "plots_created = False  # Flag to check if any plots were created\n\nfor col in fact.columns:\n    # Ensure the column name is a string before checking for 'firms'\n    col_str = str(col)\n    if 'firms' in col_str:\n        plt.scatter(fact[col], fact['Gun_Per_Capital_2016'], label=col_str)\n        plots_created = True\n\nif plots_created:\n    plt.xlabel('Firms')\n    plt.ylabel('Gun Per Capital 2016')\n    plt.legend()\n    plt.show()\nelse:\n    print(\"No columns containing 'firms' found in the DataFrame.\")",
      "metadata": {
        "trusted": true
      },
      "outputs": [],
      "execution_count": null
    },
    {
      "cell_type": "code",
      "source": "#Keep only 6 variable in fact table to create scatter plot with Gun Per capital since they have week association\nimp =['White alone, percent, July 1, 2016,  (V2016)',\n    'Persons 65 years and over, percent, April 1, 2010',\n    'Owner-occupied housing unit rate, 2011-2015',\n    'Asian alone, percent, July 1, 2016,  (V2016)',\n    'Foreign born persons, percent, 2011-2015', \n    'Median gross rent, 2011-2015']",
      "metadata": {
        "trusted": true
      },
      "outputs": [],
      "execution_count": null
    },
    {
      "cell_type": "code",
      "source": "for col in imp:\n    plt.figure(figsize=(4,4))\n    print(col)\n    plt.scatter(fact[col],fact['Gun_Per_Capital_2016'], label =col)\n    plt.title(col+\" and Gun_Per_Capital Scatter Plot\")     \n    plt.ylabel(\"Gun_Per_Capital_2016\")\n    plt.xlabel(col)\n    plt.grid(True)\n    plt.show()",
      "metadata": {
        "trusted": true
      },
      "outputs": [],
      "execution_count": null
    },
    {
      "cell_type": "markdown",
      "source": "# Q2Which states have had the highest growth and the lowest growth in gun registrations? ",
      "metadata": {}
    },
    {
      "cell_type": "code",
      "source": "result['gun_growth'] = result['2016_totals']/(result['2016_totals']-result['2010_totals'])\n",
      "metadata": {
        "trusted": true
      },
      "outputs": [],
      "execution_count": null
    },
    {
      "cell_type": "code",
      "source": "result['gun_growth'].max() # the result of the biggest growth %\n",
      "metadata": {
        "trusted": true
      },
      "outputs": [],
      "execution_count": null
    },
    {
      "cell_type": "code",
      "source": "#List Top 5 rows by gun growth rate descending\nresult.nlargest(5,'gun_growth')",
      "metadata": {
        "trusted": true
      },
      "outputs": [],
      "execution_count": null
    },
    {
      "cell_type": "markdown",
      "source": "#Create Bar chart for every states'gun growth \n",
      "metadata": {}
    },
    {
      "cell_type": "code",
      "source": "  plt.bar(fact.index, fact[col], label=col_str)",
      "metadata": {
        "trusted": true
      },
      "outputs": [],
      "execution_count": null
    },
    {
      "cell_type": "code",
      "source": "plt.rcdefaults()\nfig, ax = plt.subplots()",
      "metadata": {
        "trusted": true
      },
      "outputs": [],
      "execution_count": null
    },
    {
      "cell_type": "code",
      "source": "sorted = result.sort_values(by=['gun_growth'])\n",
      "metadata": {
        "trusted": true
      },
      "outputs": [],
      "execution_count": null
    },
    {
      "cell_type": "code",
      "source": "y_pos = np.arange(len(sorted['state']))\nerror = np.random.rand(len(sorted['state']))\nax.barh(y_pos, (sorted['gun_growth']*100), xerr=error, align='center',height=2,linewidth=5,color='green', ecolor='black')\n",
      "metadata": {
        "trusted": true
      },
      "outputs": [],
      "execution_count": null
    },
    {
      "cell_type": "code",
      "source": "ax.set_yticks(y_pos)\nax.set_xlabel(\"Gun Registration Growth %\")\nax.set_yticklabels(sorted['state'],size=6)",
      "metadata": {
        "trusted": true
      },
      "outputs": [],
      "execution_count": null
    },
    {
      "cell_type": "code",
      "source": "ax.invert_yaxis()  # labels read top-to-bottom\n",
      "metadata": {
        "trusted": true
      },
      "outputs": [],
      "execution_count": null
    },
    {
      "cell_type": "code",
      "source": "ax.tick_params(axis='x', colors='green')\nax.tick_params(axis='y', colors='black')",
      "metadata": {
        "trusted": true
      },
      "outputs": [],
      "execution_count": null
    },
    {
      "cell_type": "code",
      "source": "plt.title(\"State Gun Registration Growth from 2010 and 2016\")     \nplt.grid(True)\nplt.legend(bbox_to_anchor=(1.1, 1.05))\nplt.show()",
      "metadata": {
        "trusted": true
      },
      "outputs": [],
      "execution_count": null
    },
    {
      "cell_type": "markdown",
      "source": "Research Question 3  :\n# \n# What is the overall trend of gun purchases?",
      "metadata": {}
    },
    {
      "cell_type": "code",
      "source": "plt.figure(figsize=(10,5))\n\ngun.groupby('month')['totals'].sum().plot(kind='line',sharex=True, sharey=True, layout = (2, 1))\n#set x and y axis lable name\nplt.xlabel('Month')\nplt.ylabel('Total gun purchases')\nplt.legend()\nplt.title(\"Gun Purchase Trend by months Line Chart\")\nplt.show()\n\n#2. Create line chart using grouped data by year, which can be used to observe the change during the season\nplt.figure(figsize=(10,6))\ngun.groupby('year')['totals'].sum().plot(kind='line')\n\nplt.ylabel('Total gun purchases')\nplt.xlabel('year')\nplt.title(\"Gun Purchase Trend by years Line Chart\")\nplt.legend()\nplt.show()",
      "metadata": {
        "trusted": true
      },
      "outputs": [],
      "execution_count": null
    },
    {
      "cell_type": "code",
      "source": "!python -m nbconvert --to html Investigate_a_Dataset.ipynb",
      "metadata": {
        "trusted": true
      },
      "outputs": [],
      "execution_count": null
    },
    {
      "cell_type": "code",
      "source": "",
      "metadata": {
        "trusted": true
      },
      "outputs": [],
      "execution_count": null
    }
  ]
}